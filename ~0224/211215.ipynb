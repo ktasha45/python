{
 "cells": [
  {
   "cell_type": "code",
   "execution_count": 85,
   "id": "3f3d1608",
   "metadata": {},
   "outputs": [
    {
     "name": "stderr",
     "output_type": "stream",
     "text": [
      "C:\\Users\\ktash\\AppData\\Local\\Temp/ipykernel_13808/3287840459.py:13: RuntimeWarning: overflow encountered in exp\n",
      "  return 1 / (1 + np.exp(-x))\n"
     ]
    },
    {
     "name": "stdout",
     "output_type": "stream",
     "text": [
      "0.9207\n",
      "0.9207\n"
     ]
    }
   ],
   "source": [
    "import sys, os\n",
    "import pickle\n",
    "import numpy as np\n",
    "sys.path.append(os.pardir)\n",
    "from data.mnist import load_mnist\n",
    "\n",
    "def get_data():\n",
    "    (x_train, t_train), (x_test, t_test) \\\n",
    "    = load_mnist(flatten=True, normalize=False)\n",
    "    return x_test, t_test\n",
    "\n",
    "def sigmoid(x):\n",
    "    return 1 / (1 + np.exp(-x))\n",
    "\n",
    "def softmax(a):\n",
    "    exp_a = np.exp(a)\n",
    "    sum_exp_a = np.sum(exp_a)\n",
    "    y = exp_a / sum_exp_a\n",
    "    return y\n",
    "    \n",
    "def init_network():\n",
    "    with open(\"C:\\\\tasha\\\\aipython_git\\\\ai_python\\\\data\\\\sample_weight.pkl\", 'rb') as f:\n",
    "        network = pickle.load(f)\n",
    "    return network\n",
    "\n",
    "def predict(network, x):\n",
    "    W1, W2, W3 = network['W1'], network['W2'], network['W3']\n",
    "    b1, b2, b3 = network['b1'], network['b2'], network['b3']\n",
    "    a1 = np.dot(x, W1) + b1\n",
    "    z1 = sigmoid(a1)\n",
    "    a2 = np.dot(z1, W2) + b2\n",
    "    z2 = sigmoid(a2)\n",
    "    a3 = np.dot(z2, W3) + b3\n",
    "    y = softmax(a3)\n",
    "    return y\n",
    "\n",
    "def accuracy():\n",
    "    x, t = get_data()\n",
    "    network = init_network()\n",
    "    np.set_printoptions(precision=10, suppress=True)\n",
    "\n",
    "    accuracy_cnt = 0\n",
    "\n",
    "    for i in range(len(x)):\n",
    "        y = predict(network, x[i])\n",
    "        p = np.argmax(y)\n",
    "        if p == t[i]:\n",
    "            accuracy_cnt += 1\n",
    "            \n",
    "    print(float(accuracy_cnt) / len(x))\n",
    "    \n",
    "def batch_accuracy():\n",
    "    x, y = get_data()\n",
    "    network = init_network()\n",
    "    \n",
    "    batch_size = 100\n",
    "    accuracy_cnt = 0\n",
    "    \n",
    "    for i in range(0, len(x), batch_size):\n",
    "        x_batch = x[i:i+batch_size]\n",
    "        y_batch = predict(network, x_batch)\n",
    "        p = np.argmax(y_batch, axis=1)\n",
    "        accuracy_cnt_t = np.sum(p == t[i:i+batch_size])\n",
    "        accuracy_cnt += np.sum(p == t[i:i+batch_size])\n",
    "        #print(accuracy_cnt_t/batch_size)\n",
    "        \n",
    "    print(accuracy_cnt / len(x))\n",
    "        \n",
    "batch_accuracy()\n",
    "accuracy()"
   ]
  },
  {
   "cell_type": "code",
   "execution_count": null,
   "id": "5f3dd582",
   "metadata": {},
   "outputs": [],
   "source": []
  }
 ],
 "metadata": {
  "kernelspec": {
   "display_name": "Python 3 (ipykernel)",
   "language": "python",
   "name": "python3"
  },
  "language_info": {
   "codemirror_mode": {
    "name": "ipython",
    "version": 3
   },
   "file_extension": ".py",
   "mimetype": "text/x-python",
   "name": "python",
   "nbconvert_exporter": "python",
   "pygments_lexer": "ipython3",
   "version": "3.9.7"
  }
 },
 "nbformat": 4,
 "nbformat_minor": 5
}
