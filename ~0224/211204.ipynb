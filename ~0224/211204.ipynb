{
 "cells": [
  {
   "cell_type": "markdown",
   "id": "41c6b810",
   "metadata": {},
   "source": [
    "# 2021/12/04\n",
    "\n",
    "오늘부터 jupyter notebook으로 파이썬 시작.\n",
    "\n",
    "## 파이썬을 왜 쓰는가?\n",
    "\n",
    "1. 풍부한 라이브러리 \n",
    " * TensorFlow, Keras: 머신러닝, 딥러닝\n",
    " * Pandas: 데이터 분석\n",
    " * Django: 웹 서비스 개발\n",
    "2. 코드가 간결하고\n",
    "3. 파이썬을 사용하고 있는 사람이 많고\n",
    "4. 강력한 라이브러리가 많음\n",
    "\n",
    "## ------------\n",
    "\n",
    "#### 실습을 해보자."
   ]
  },
  {
   "cell_type": "code",
   "execution_count": 83,
   "id": "40b407fa",
   "metadata": {},
   "outputs": [
    {
     "name": "stdout",
     "output_type": "stream",
     "text": [
      "Hi. What's your name? 3\n",
      "Nice to meet you 3.\n"
     ]
    }
   ],
   "source": [
    "name = input(\"Hi. What's your name? \")\n",
    "print(\"Nice to meet you {}.\".format(name))"
   ]
  },
  {
   "cell_type": "code",
   "execution_count": 84,
   "id": "c62a18cc",
   "metadata": {
    "scrolled": true
   },
   "outputs": [
    {
     "name": "stdout",
     "output_type": "stream",
     "text": [
      "숫자를 입력하세요. 3\n",
      "3\n"
     ]
    }
   ],
   "source": [
    "a = input(\"숫자를 입력하세요. \")\n",
    "print(a)\t"
   ]
  },
  {
   "cell_type": "code",
   "execution_count": 85,
   "id": "f560de48",
   "metadata": {},
   "outputs": [
    {
     "name": "stdout",
     "output_type": "stream",
     "text": [
      "<class 'int'>\n",
      "<class 'float'>\n",
      "<class 'str'>\n"
     ]
    }
   ],
   "source": [
    "type1 = 1\n",
    "print(type (type1))\n",
    "type2 = 0.5\n",
    "print(type (type2))\n",
    "type3 = \"abc\"\n",
    "print(type (type3))"
   ]
  },
  {
   "cell_type": "code",
   "execution_count": 86,
   "id": "eedbfb9a",
   "metadata": {},
   "outputs": [
    {
     "name": "stdout",
     "output_type": "stream",
     "text": [
      "10000\n",
      "-100\n",
      "0.01\n",
      "1\n"
     ]
    }
   ],
   "source": [
    "number = 100\n",
    "number_square = number * number\n",
    "number_negative = - number\n",
    "print(number_square)\n",
    "print(number_negative)\n",
    "print(1 / number)\n",
    "print(100 % 3)"
   ]
  },
  {
   "cell_type": "code",
   "execution_count": 87,
   "id": "d638fda3",
   "metadata": {},
   "outputs": [
    {
     "name": "stdout",
     "output_type": "stream",
     "text": [
      "문자문자\n",
      "문자문자문자문자문자\n"
     ]
    }
   ],
   "source": [
    "string = \"문자\"\n",
    "string_add = string + string\n",
    "string_mul = string * 5\n",
    "print(string_add)\n",
    "print(string_mul)"
   ]
  },
  {
   "cell_type": "code",
   "execution_count": 88,
   "id": "f2ea2652",
   "metadata": {
    "scrolled": true
   },
   "outputs": [
    {
     "name": "stdout",
     "output_type": "stream",
     "text": [
      "L\n",
      "y\n",
      "short\n"
     ]
    }
   ],
   "source": [
    "string = \"Life is short. Use python.\"\n",
    "print(string[0])\n",
    "print(string[-6])\n",
    "print(string[8:13])"
   ]
  },
  {
   "cell_type": "code",
   "execution_count": 89,
   "id": "95e22efe",
   "metadata": {
    "scrolled": true
   },
   "outputs": [
    {
     "name": "stdout",
     "output_type": "stream",
     "text": [
      "strip: hi\n",
      "replace: Yout dog is short. Use python.\n",
      "split: ['Life', 'is', 'too', 'short']\n",
      "split: ['a', 'b', 'c', 'd']\n",
      "count: 2\n",
      "found: 3\n",
      "find: 7\n",
      "find: 7\n",
      "find: -1\n",
      "upper: PPPASDEQWE\n"
     ]
    }
   ],
   "source": [
    "a = \"hi\"\n",
    "print(\"strip:\", a.strip())\n",
    "\n",
    "b = \"Life is short. Use python.\"\n",
    "print(\"replace:\", b.replace(\"Life\", \"Yout dog\"))\n",
    "\n",
    "c = \"Life is too short\"\n",
    "print(\"split:\", c.split())\n",
    "\n",
    "d = \"a:b:c:d\"\n",
    "print(\"split:\", d.split(':'))\n",
    "\n",
    "e = \"ktasha\"\n",
    "print(\"count:\", e.count('a'))\n",
    "\n",
    "f = \"qwqwqw\"\n",
    "print(\"found:\", f.count(\"qw\"))\n",
    "\n",
    "g = \"python is the best choice\"\n",
    "print(\"find:\", g.find('i')) #처음 나오는 것만 반환하는 듯.\n",
    "print(\"find:\", g.find(\"is\"))\n",
    "print(\"find:\", g.find('q'))\n",
    "\n",
    "h = \"pppasdEQWE\"\n",
    "print(\"upper:\", h.upper())"
   ]
  },
  {
   "cell_type": "markdown",
   "id": "52e501df",
   "metadata": {},
   "source": [
    "어떻게 만들어진 언어인지 문자열 파싱이나 구현이 매우매우매우 쉽다. c++과는 비교 불가.\n",
    "## ------------"
   ]
  },
  {
   "cell_type": "code",
   "execution_count": 90,
   "id": "49d4eccf",
   "metadata": {},
   "outputs": [
    {
     "name": "stdout",
     "output_type": "stream",
     "text": [
      "앞 부분: 021120, 뒤 부분: 3068234\n",
      "나이는 18, 성별은 3\n"
     ]
    }
   ],
   "source": [
    "SSN = \"021120-3068234\"\n",
    "string1 = SSN.split('-')[0]\n",
    "string2 = SSN.split('-')[1]\n",
    "\n",
    "age = 19-int(string1[:2]) + 1\n",
    "gender = string2[0]\n",
    "\n",
    "print (\"앞 부분: {}, 뒤 부분: {}\".format(string1, string2))\n",
    "print (\"나이는 {}, 성별은 {}\".format(age, gender))"
   ]
  },
  {
   "cell_type": "code",
   "execution_count": 91,
   "id": "ae54f9cc",
   "metadata": {},
   "outputs": [
    {
     "name": "stdout",
     "output_type": "stream",
     "text": [
      "앞 부분: 021120\n",
      "뒷 부분: 3068234\n",
      "나이는 18, 성별은 3\n"
     ]
    }
   ],
   "source": [
    "SSN = \"021120-3068234\"\n",
    "string1 = SSN[:6]\n",
    "string2 = SSN[-7:]\n",
    "\n",
    "age = 19 - int(SSN[:2]) +1\n",
    "gender = SSN[7]\n",
    "\n",
    "print (\"앞 부분: {}\".format(string1))\n",
    "print (\"뒷 부분: {}\".format(string2))\n",
    "print (\"나이는 {}, 성별은 {}\".format(age, gender))"
   ]
  },
  {
   "cell_type": "code",
   "execution_count": 92,
   "id": "15ef7979",
   "metadata": {},
   "outputs": [
    {
     "name": "stdout",
     "output_type": "stream",
     "text": [
      "[1, 2, 3, 4, 5, 6]\n",
      "[1, 2, 3, 1, 2, 3, 1, 2, 3]\n"
     ]
    }
   ],
   "source": [
    "a = [1, 2, 3]\n",
    "b = [4, 5, 6] \n",
    "print (a + b)\n",
    "print (a * 3)"
   ]
  },
  {
   "cell_type": "code",
   "execution_count": 93,
   "id": "66f5160e",
   "metadata": {},
   "outputs": [
    {
     "name": "stdout",
     "output_type": "stream",
     "text": [
      "1\n",
      "2\n",
      "[2, 3]\n",
      "4\n"
     ]
    }
   ],
   "source": [
    "a = [1, 2, 3, [1, 2, 3]]\n",
    "print (a[0])\n",
    "print (a[-1][1])\n",
    "print (a[1:3]) #?\n",
    "print (a[0] + a[-2])"
   ]
  },
  {
   "cell_type": "code",
   "execution_count": 94,
   "id": "500b78ed",
   "metadata": {},
   "outputs": [
    {
     "name": "stdout",
     "output_type": "stream",
     "text": [
      "[1, 2, 4]\n",
      "[1, 4]\n"
     ]
    }
   ],
   "source": [
    "a = [1, 2, 3]\n",
    "a[2] = 4\n",
    "print (a)\n",
    "del a[1]\n",
    "print (a)"
   ]
  },
  {
   "cell_type": "markdown",
   "id": "43d97785",
   "metadata": {},
   "source": [
    "string은 신기해서 전부 써봤는데 list는 그냥 넘어감.\n",
    "정리만 해보자.\n",
    "1. append (vector의 push_back)\n",
    "2. sort\n",
    "3. reverse\n",
    "4. max, min\n",
    "5. remove\n",
    "6. count\n",
    "\n",
    "insert는?\n",
    "\n",
    "## ------------"
   ]
  },
  {
   "cell_type": "code",
   "execution_count": 95,
   "id": "08caa8ff",
   "metadata": {},
   "outputs": [
    {
     "name": "stdout",
     "output_type": "stream",
     "text": [
      "cat\n"
     ]
    }
   ],
   "source": [
    "translator = {'개':'dog', '고양이':'cat', '돼지': 'pig'}\n",
    "print (translator['고양이'])"
   ]
  },
  {
   "cell_type": "code",
   "execution_count": 96,
   "id": "16e62110",
   "metadata": {},
   "outputs": [
    {
     "name": "stdout",
     "output_type": "stream",
     "text": [
      "{'개': 'puppy', '고양이': 'cat', '돼지': 'pig'}\n",
      "{'고양이': 'cat', '돼지': 'pig'}\n"
     ]
    }
   ],
   "source": [
    "translator = {'개':'dog', '고양이':'cat', '돼지': 'pig'}\n",
    "translator['개'] = 'puppy'\n",
    "print (translator)\n",
    "del translator['개']\n",
    "print (translator)"
   ]
  },
  {
   "cell_type": "code",
   "execution_count": 97,
   "id": "b17f2208",
   "metadata": {},
   "outputs": [
    {
     "name": "stdout",
     "output_type": "stream",
     "text": [
      "dict_keys(['개', '고양이', '돼지'])\n",
      "dict_items([('개', 'dog'), ('고양이', 'cat'), ('돼지', 'pig')])\n",
      "dict_values(['dog', 'cat', 'pig'])\n",
      "True\n",
      "False\n"
     ]
    }
   ],
   "source": [
    "a = {'개':'dog', '고양이':'cat', '돼지': 'pig'}\n",
    "print(a.keys())\n",
    "print(a.items())\n",
    "print(a.values())\n",
    "print('개' in a) # key의 존재유무 조사\n",
    "print('dog' in a)"
   ]
  },
  {
   "cell_type": "markdown",
   "id": "4b51be0b",
   "metadata": {},
   "source": [
    "여기까지 기본 문법. string을 제외하면 c++과 딱히 다른 점은 없는 듯 하다. 훨씬 편하다는 거 빼고는\n",
    "## ------------\n",
    "#### 이젠 라이브러리를 써보자"
   ]
  },
  {
   "cell_type": "code",
   "execution_count": 109,
   "id": "cfa637db",
   "metadata": {
    "scrolled": true
   },
   "outputs": [
    {
     "name": "stdout",
     "output_type": "stream",
     "text": [
      "0.735295660342934\n",
      "1\n",
      "[1, 5, 3]\n"
     ]
    }
   ],
   "source": [
    "import random\n",
    "print(random.random()) # 0.0 <= x < 1.0 의 소수\n",
    "print(random.randint(1,10)) # 1 <= x <= 10 의 정수\n",
    "\n",
    "numbers = [1, 2, 3, 4, 5, 6, 7]\n",
    "print(random.sample(numbers,  3))"
   ]
  },
  {
   "cell_type": "code",
   "execution_count": 112,
   "id": "51861c26",
   "metadata": {},
   "outputs": [
    {
     "name": "stdout",
     "output_type": "stream",
     "text": [
      "      School  Women  Men  Gap\n",
      "0        MIT     94  152   58\n",
      "1   Stanford     96  151   55\n",
      "2    Harvard    112  165   53\n",
      "3     U.Penn     92  141   49\n",
      "4  Princeton     90  137   47\n"
     ]
    }
   ],
   "source": [
    "import pandas as pd\n",
    "dataframe = pd.read_csv(\"https://raw.githubusercontent.com/plotly/datasets/master/school_earnings.csv\")\n",
    "print(dataframe.head())"
   ]
  },
  {
   "cell_type": "code",
   "execution_count": 114,
   "id": "fcf7392e",
   "metadata": {},
   "outputs": [
    {
     "data": {
      "image/png": "[encoded data removed]",
      "text/plain": [
       "<Figure size 432x288 with 1 Axes>"
      ]
     },
     "metadata": {
      "needs_background": "light"
     },
     "output_type": "display_data"
    }
   ],
   "source": [
    "import matplotlib.pyplot as plt\n",
    "plt.figure()\n",
    "plt.plot([1, 2, 3], [1, 2, 3])\n",
    "plt.show()"
   ]
  },
  {
   "cell_type": "code",
   "execution_count": 1,
   "id": "f1881646",
   "metadata": {},
   "outputs": [
    {
     "data": {
      "application/vnd.jupyter.widget-view+json": {
       "model_id": "a13ae6d03a3a4f9982036bd40e38d335",
       "version_major": 2,
       "version_minor": 0
      },
      "text/plain": [
       "interactive(children=(IntSlider(value=5, description='n', max=10), Output()), _dom_classes=('widget-interact',…"
      ]
     },
     "metadata": {},
     "output_type": "display_data"
    },
    {
     "data": {
      "text/plain": [
       "<function __main__.f(n)>"
      ]
     },
     "execution_count": 1,
     "metadata": {},
     "output_type": "execute_result"
    }
   ],
   "source": [
    "from ipywidgets import interact\n",
    "def f(n):\n",
    "    result = n * n\n",
    "    print(\"{} * {} = {}\".format(n, n, result))\n",
    "interact(f, n=(0, 10))"
   ]
  },
  {
   "cell_type": "markdown",
   "id": "5ff680b9",
   "metadata": {},
   "source": [
    " 그냥\n",
    "* import time\n",
    "\n",
    "다른 이름으로\n",
    "* import pandas as pd\n",
    "\n",
    "필요한 것만\n",
    "* import matplotlib.pyplot as plt\n",
    "* from ipywidgets import interact\n",
    "\n",
    "#### -------------\n",
    "\n",
    "1. 그래프, 시각화\n",
    "* matplotlib\n",
    "2. 데이터 처리, 분석\n",
    "* pandas, scikit-image, numpy\n",
    "3. 머신러닝/딥러닝\n",
    "* scikit-learn, keras\n",
    "\n",
    "## ------------"
   ]
  },
  {
   "cell_type": "code",
   "execution_count": 122,
   "id": "77f2e53c",
   "metadata": {},
   "outputs": [
    {
     "name": "stdout",
     "output_type": "stream",
     "text": [
      "학습\n",
      "학습\n",
      "학습\n",
      "학습\n",
      "학습\n",
      "학습\n",
      "학습\n",
      "학습\n",
      "학습\n",
      "학습\n",
      "학습\n",
      "학습\n",
      "최종 정확도: 96\n"
     ]
    }
   ],
   "source": [
    "accuracy = 0\n",
    "while accuracy < 90:\n",
    "    print(\"학습\")\n",
    "    accuracy = accuracy + 8\n",
    "print(\"최종 정확도: {}\".format(accuracy))"
   ]
  },
  {
   "cell_type": "code",
   "execution_count": 123,
   "id": "8f698cc6",
   "metadata": {},
   "outputs": [
    {
     "name": "stdout",
     "output_type": "stream",
     "text": [
      "1\n",
      "3\n",
      "5\n",
      "7\n",
      "9\n",
      "11\n",
      "13\n",
      "15\n",
      "17\n",
      "19\n"
     ]
    }
   ],
   "source": [
    "for i in range(10): # 0부터 9까지\n",
    "    odd = 2*i + 1 \n",
    "    print(odd)"
   ]
  },
  {
   "cell_type": "code",
   "execution_count": 124,
   "id": "eb2e688d",
   "metadata": {},
   "outputs": [
    {
     "name": "stdout",
     "output_type": "stream",
     "text": [
      "1행 1열 원소는 0\n",
      "1행 2열 원소는 1\n",
      "1행 3열 원소는 2\n",
      "1행 4열 원소는 3\n",
      "1행 5열 원소는 4\n",
      "2행 1열 원소는 0\n",
      "2행 2열 원소는 1\n",
      "2행 3열 원소는 2\n",
      "2행 4열 원소는 3\n",
      "2행 5열 원소는 4\n",
      "3행 1열 원소는 0\n",
      "3행 2열 원소는 1\n",
      "3행 3열 원소는 2\n",
      "3행 4열 원소는 3\n",
      "3행 5열 원소는 4\n",
      "4행 1열 원소는 0\n",
      "4행 2열 원소는 1\n",
      "4행 3열 원소는 2\n",
      "4행 4열 원소는 3\n",
      "4행 5열 원소는 4\n",
      "5행 1열 원소는 0\n",
      "5행 2열 원소는 1\n",
      "5행 3열 원소는 2\n",
      "5행 4열 원소는 3\n",
      "5행 5열 원소는 4\n"
     ]
    }
   ],
   "source": [
    "matrix = [[0, 1, 2, 3, 4],\n",
    "          [0, 1, 2, 3, 4],\n",
    "          [0, 1, 2, 3, 4],\n",
    "          [0, 1, 2, 3, 4],\n",
    "          [0, 1, 2, 3, 4]]\n",
    "for i, row in enumerate(matrix): #enumerate?\n",
    "    for j, e in enumerate(row):\n",
    "        print(\"{}행 {}열 원소는 {}\".format(i+1, j+1, e))"
   ]
  },
  {
   "cell_type": "markdown",
   "id": "4831b2ec",
   "metadata": {},
   "source": [
    ">enumerate\n",
    "\n",
    "반복문 사용 시 몇 번째 반복문인지 확인이 필요할 수 있습니다. 이때 사용합니다.\n",
    "인덱스 번호와 컬렉션의 원소를 tuple형태로 반환합니다.\n",
    "\n",
    "라고 한다."
   ]
  },
  {
   "cell_type": "code",
   "execution_count": 130,
   "id": "4c411e62",
   "metadata": {},
   "outputs": [
    {
     "data": {
      "text/plain": [
       "[[0.23954915131382548, 0.007623794243591719],\n",
       " [0.32008445403316155, 0.4597192022720792],\n",
       " [0.9518832046935158, 0.9960233539114961],\n",
       " [0.873851241993435, 0.7322675232743439],\n",
       " [0.6293303438816451, 0.42471181418577575],\n",
       " [0.9897101081841153, 0.8350225414313117],\n",
       " [0.4897641953780445, 0.5949461577977828],\n",
       " [0.9105358970837266, 0.3765108419667671],\n",
       " [0.2170159523495956, 0.2272312025362374],\n",
       " [0.2463109313275933, 0.15691837914997364]]"
      ]
     },
     "execution_count": 130,
     "metadata": {},
     "output_type": "execute_result"
    }
   ],
   "source": [
    "def coordinate_generator(n):\n",
    "    pairs = []\n",
    "    for i in range(n):\n",
    "        x = random.random()\n",
    "        y = random.random()\n",
    "        pairs.append([x,y])\n",
    "    return pairs\n",
    "coordinate_generator(10)"
   ]
  },
  {
   "cell_type": "markdown",
   "id": "233c66ca",
   "metadata": {},
   "source": [
    "print를 하지 않고 그냥 출력하는 게 더 가독성이 좋다. 주피터 노트북에서만 되는 건가?"
   ]
  }
 ],
 "metadata": {
  "kernelspec": {
   "display_name": "Python 3 (ipykernel)",
   "language": "python",
   "name": "python3"
  },
  "language_info": {
   "codemirror_mode": {
    "name": "ipython",
    "version": 3
   },
   "file_extension": ".py",
   "mimetype": "text/x-python",
   "name": "python",
   "nbconvert_exporter": "python",
   "pygments_lexer": "ipython3",
   "version": "3.9.7"
  }
 },
 "nbformat": 4,
 "nbformat_minor": 5
}
