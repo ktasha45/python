{
  "nbformat": 4,
  "nbformat_minor": 0,
  "metadata": {
    "colab": {
      "name": "classical simulation of grover's algorithm.ipynb",
      "provenance": [],
      "collapsed_sections": [],
      "authorship_tag": "ABX9TyMvzkgYDf+kcDA5AW+t7heX",
      "include_colab_link": true
    },
    "kernelspec": {
      "name": "python3",
      "display_name": "Python 3"
    },
    "language_info": {
      "name": "python"
    }
  },
  "cells": [
    {
      "cell_type": "markdown",
      "metadata": {
        "id": "view-in-github",
        "colab_type": "text"
      },
      "source": [
        "<a href=\"https://colab.research.google.com/github/ktasha45/python/blob/master/colab/qiskit/classical_simulation_of_grover's_algorithm.ipynb\" target=\"_parent\"><img src=\"https://colab.research.google.com/assets/colab-badge.svg\" alt=\"Open In Colab\"/></a>"
      ]
    },
    {
      "cell_type": "code",
      "execution_count": null,
      "metadata": {
        "id": "j5Ofi5IFB3RQ"
      },
      "outputs": [],
      "source": [
        "import numpy as np\n",
        "from math import sqrt"
      ]
    },
    {
      "cell_type": "code",
      "source": [
        "H = np.array([sqrt(2)/2, sqrt(2)/2, sqrt(2)/2, -sqrt(2)/2]).reshape(-1, 2)\n",
        "Z = np.array([1, 0, 0, -1]).reshape(-1, 2)\n",
        "I = np.array([1, 0, 0, 1]).reshape(-1, 2)\n",
        "CZ = np.zeros(16).reshape(-1, 4)\n",
        "CZ[0, 0]=1\n",
        "CZ[1, 1]=1\n",
        "CZ[2, 2]=1\n",
        "CZ[3, 3]=-1\n",
        "\n",
        "qbit1 = np.array([1, 0])\n",
        "qbit2 = np.array([1, 0])\n",
        "\n",
        "state = np.kron(qbit1, qbit2)\n",
        "print(state)\n",
        "\n",
        "state = np.dot(state, np.kron(H, I))\n",
        "state = np.dot(state, np.kron(I, H))\n",
        "print(state)\n",
        "\n",
        "state = state.dot(CZ)\n",
        "print(state)\n",
        "\n",
        "state = np.dot(state, np.kron(I, H))\n",
        "state = np.dot(state, np.kron(H, I))\n",
        "\n",
        "state = np.dot(state, np.kron(I, Z))\n",
        "state = np.dot(state, np.kron(Z, I))\n",
        "print(state)\n",
        "\n",
        "state = state.dot(CZ)\n",
        "print(state)\n",
        "\n",
        "state = np.dot(state, np.kron(H, I))\n",
        "state = np.dot(state, np.kron(I, H))\n",
        "print(state)\n",
        "\n",
        "np.argmax(state)"
      ],
      "metadata": {
        "colab": {
          "base_uri": "https://localhost:8080/"
        },
        "id": "MbxvGAe7B6sP",
        "outputId": "b6236ce2-6fd5-42c4-a680-5e5a3664c992"
      },
      "execution_count": null,
      "outputs": [
        {
          "output_type": "stream",
          "name": "stdout",
          "text": [
            "[1 0 0 0]\n",
            "[0.5 0.5 0.5 0.5]\n",
            "[ 0.5  0.5  0.5 -0.5]\n",
            "[ 0.5 -0.5 -0.5 -0.5]\n",
            "[ 0.5 -0.5 -0.5  0.5]\n",
            "[ 0.00000000e+00 -3.25176795e-17  0.00000000e+00  1.00000000e+00]\n"
          ]
        },
        {
          "output_type": "execute_result",
          "data": {
            "text/plain": [
              "3"
            ]
          },
          "metadata": {},
          "execution_count": 85
        }
      ]
    },
    {
      "cell_type": "code",
      "source": [
        "import matplotlib.pyplot as plt\n",
        "\n",
        "plt.bar(['00', '01', '10', '11'], state)\n",
        "plt.show()"
      ],
      "metadata": {
        "colab": {
          "base_uri": "https://localhost:8080/",
          "height": 265
        },
        "id": "Yt4x_hCXNIIY",
        "outputId": "fea2454f-bcde-4546-910c-964073d384a5"
      },
      "execution_count": null,
      "outputs": [
        {
          "output_type": "display_data",
          "data": {
            "image/png": "[encoded data removed]",
            "text/plain": [
              "<Figure size 432x288 with 1 Axes>"
            ]
          },
          "metadata": {
            "needs_background": "light"
          }
        }
      ]
    },
    {
      "cell_type": "code",
      "source": [
        ""
      ],
      "metadata": {
        "id": "JiQkYIFPOq7v"
      },
      "execution_count": null,
      "outputs": []
    }
  ]
}