{
  "cells": [
    {
      "cell_type": "markdown",
      "metadata": {},
      "source": [
        "[dacon 집값 예측 경진대회](https://dacon.io/competitions/official/235869/codeshare/4253?page=1&dtype=recent)  \n",
        "2022.01.24 ~ 2022.02.04 17:59"
      ]
    },
    {
      "cell_type": "markdown",
      "metadata": {
        "colab_type": "text",
        "id": "view-in-github"
      },
      "source": [
        "<a href=\"https://colab.research.google.com/github/ktasha45/ai_python/blob/master/colab/dacon/dacon_house_price_prediction.ipynb\" target=\"_parent\"><img src=\"https://colab.research.google.com/assets/colab-badge.svg\" alt=\"Open In Colab\"/></a>"
      ]
    },
    {
      "cell_type": "code",
      "execution_count": null,
      "metadata": {
        "colab": {
          "base_uri": "https://localhost:8080/"
        },
        "id": "kf_emsIqG_Ds",
        "outputId": "516530f4-a1da-4ba8-f302-375e14acf866"
      },
      "outputs": [],
      "source": [
        "from google.colab import drive\n",
        "drive.mount('/gdrive')"
      ]
    },
    {
      "cell_type": "code",
      "execution_count": null,
      "metadata": {
        "colab": {
          "base_uri": "https://localhost:8080/"
        },
        "id": "gzZ-R8WDHD3-",
        "outputId": "320f1861-f7c9-4b49-a0fe-432e0501bf3f"
      },
      "outputs": [
        {
          "name": "stdout",
          "output_type": "stream",
          "text": [
            "-rw------- 1 root root 51273 Jan 24 03:20 /gdrive/MyDrive/tmp/housing.zip\n"
          ]
        }
      ],
      "source": [
        "!ls -al /gdrive/MyDrive/tmp/housing.zip"
      ]
    },
    {
      "cell_type": "code",
      "execution_count": null,
      "metadata": {
        "id": "b9TMguF_HpOg"
      },
      "outputs": [],
      "source": [
        "!cp /gdrive/MyDrive/tmp/housing.zip ./"
      ]
    },
    {
      "cell_type": "code",
      "execution_count": null,
      "metadata": {
        "colab": {
          "base_uri": "https://localhost:8080/"
        },
        "id": "amG2jtIGH1Dn",
        "outputId": "7387c2e5-5933-480a-b4ea-583e5511d135"
      },
      "outputs": [
        {
          "name": "stdout",
          "output_type": "stream",
          "text": [
            "Archive:  housing.zip\n",
            "  inflating: sample_submission.csv   \n",
            "  inflating: test.csv                \n",
            "  inflating: train.csv               \n"
          ]
        }
      ],
      "source": [
        "!unzip housing.zip"
      ]
    },
    {
      "cell_type": "code",
      "execution_count": 1,
      "metadata": {
        "id": "iTaKzIZEH5Dw"
      },
      "outputs": [],
      "source": [
        "import pandas as pd\n",
        "import numpy as np\n",
        "import matplotlib.pyplot as plt"
      ]
    },
    {
      "cell_type": "code",
      "execution_count": 2,
      "metadata": {
        "id": "D19EF29BG_Dt"
      },
      "outputs": [],
      "source": [
        "df = pd.read_csv('train.csv')\n",
        "df = pd.get_dummies(df, columns=['Bsmt Qual', 'Exter Qual', 'Kitchen Qual'])\n",
        "df.drop(columns = ['id'], inplace=True)"
      ]
    },
    {
      "cell_type": "code",
      "execution_count": 3,
      "metadata": {
        "id": "FnKZ2yxFLopm"
      },
      "outputs": [],
      "source": [
        "normalize_target = ['Year Built', 'Year Remod/Add', 'Garage Yr Blt', 'Overall Qual', 'Gr Liv Area', 'Garage Area', 'Total Bsmt SF', '1st Flr SF', 'Full Bath', 'Garage Cars', 'target']\n",
        "\n",
        "targetmin = df['target'].min()\n",
        "targetmax = df['target'].max()\n",
        "\n",
        "for column_name in normalize_target:\n",
        "  df['normalized_{}'.format(column_name)] = (df[column_name] - df[column_name].min()) / (df[column_name].max() - df[column_name].min())\n",
        "\n",
        "\n",
        "df.drop(columns=normalize_target, inplace=True)"
      ]
    },
    {
      "cell_type": "code",
      "execution_count": 4,
      "metadata": {
        "colab": {
          "base_uri": "https://localhost:8080/"
        },
        "id": "7FOFWiAIRl1x",
        "outputId": "12fc7613-6486-47e3-b481-e564d5879e2e"
      },
      "outputs": [
        {
          "name": "stdout",
          "output_type": "stream",
          "text": [
            "normalized_Garage Yr Blt 0.4\n",
            "normalized_Gr Liv Area 0.8\n",
            "normalized_Garage Area 0.8\n"
          ]
        }
      ],
      "source": [
        "max_column_values = {\n",
        "    'normalized_Garage Yr Blt':0.4,\n",
        "    'normalized_Gr Liv Area':0.8, \n",
        "    'normalized_Garage Area':0.8,\n",
        "    }\n",
        "\n",
        "for column_name, max_value in max_column_values.items():\n",
        "  print(column_name, max_value)\n",
        "  new_column_name = 'max_limied_{}'.format(column_name)\n",
        "  df[new_column_name] = df[column_name]\n",
        "  df.loc[df[new_column_name]>max_value, new_column_name] = max_value\n",
        "\n",
        "df.drop(columns=max_column_values, inplace=True)"
      ]
    },
    {
      "cell_type": "code",
      "execution_count": 5,
      "metadata": {
        "id": "yDtEMhhwSuX3"
      },
      "outputs": [],
      "source": [
        "# for i in range(len(df.columns)):\n",
        "#    if \"_code_\" in df.columns[i]: continue\n",
        "#    print(df.columns[i])\n",
        "#    plt.hist(df.iloc[:,i], bins=100)\n",
        "#    plt.show()"
      ]
    },
    {
      "cell_type": "code",
      "execution_count": 6,
      "metadata": {
        "id": "cfVyRqMYVoBt"
      },
      "outputs": [],
      "source": [
        "df_final = df.astype('float64')\n",
        "del df"
      ]
    },
    {
      "cell_type": "code",
      "execution_count": 7,
      "metadata": {
        "colab": {
          "base_uri": "https://localhost:8080/"
        },
        "id": "G5TE34b6eFTQ",
        "outputId": "7dff6bbb-b06b-454a-ecb5-b6d2191b6206"
      },
      "outputs": [
        {
          "name": "stdout",
          "output_type": "stream",
          "text": [
            "<class 'pandas.core.frame.DataFrame'>\n",
            "RangeIndex: 1350 entries, 0 to 1349\n",
            "Data columns (total 24 columns):\n",
            " #   Column                               Non-Null Count  Dtype  \n",
            "---  ------                               --------------  -----  \n",
            " 0   Bsmt Qual_Ex                         1350 non-null   float64\n",
            " 1   Bsmt Qual_Fa                         1350 non-null   float64\n",
            " 2   Bsmt Qual_Gd                         1350 non-null   float64\n",
            " 3   Bsmt Qual_Po                         1350 non-null   float64\n",
            " 4   Bsmt Qual_TA                         1350 non-null   float64\n",
            " 5   Exter Qual_Ex                        1350 non-null   float64\n",
            " 6   Exter Qual_Fa                        1350 non-null   float64\n",
            " 7   Exter Qual_Gd                        1350 non-null   float64\n",
            " 8   Exter Qual_TA                        1350 non-null   float64\n",
            " 9   Kitchen Qual_Ex                      1350 non-null   float64\n",
            " 10  Kitchen Qual_Fa                      1350 non-null   float64\n",
            " 11  Kitchen Qual_Gd                      1350 non-null   float64\n",
            " 12  Kitchen Qual_TA                      1350 non-null   float64\n",
            " 13  normalized_Year Built                1350 non-null   float64\n",
            " 14  normalized_Year Remod/Add            1350 non-null   float64\n",
            " 15  normalized_Overall Qual              1350 non-null   float64\n",
            " 16  normalized_Total Bsmt SF             1350 non-null   float64\n",
            " 17  normalized_1st Flr SF                1350 non-null   float64\n",
            " 18  normalized_Full Bath                 1350 non-null   float64\n",
            " 19  normalized_Garage Cars               1350 non-null   float64\n",
            " 20  normalized_target                    1350 non-null   float64\n",
            " 21  max_limied_normalized_Garage Yr Blt  1350 non-null   float64\n",
            " 22  max_limied_normalized_Gr Liv Area    1350 non-null   float64\n",
            " 23  max_limied_normalized_Garage Area    1350 non-null   float64\n",
            "dtypes: float64(24)\n",
            "memory usage: 253.2 KB\n"
          ]
        }
      ],
      "source": [
        "df_final.info()"
      ]
    },
    {
      "cell_type": "code",
      "execution_count": 8,
      "metadata": {
        "colab": {
          "base_uri": "https://localhost:8080/"
        },
        "id": "eLDTdmebd_tF",
        "outputId": "2fe1e643-6abd-4602-8d11-167a601a75e8"
      },
      "outputs": [
        {
          "name": "stdout",
          "output_type": "stream",
          "text": [
            "<class 'pandas.core.frame.DataFrame'>\n",
            "RangeIndex: 1350 entries, 0 to 1349\n",
            "Data columns (total 24 columns):\n",
            " #   Column                               Non-Null Count  Dtype  \n",
            "---  ------                               --------------  -----  \n",
            " 0   max_limied_normalized_Garage Yr Blt  1350 non-null   float64\n",
            " 1   max_limied_normalized_Gr Liv Area    1350 non-null   float64\n",
            " 2   max_limied_normalized_Garage Area    1350 non-null   float64\n",
            " 3   Bsmt Qual_Ex                         1350 non-null   float64\n",
            " 4   Bsmt Qual_Fa                         1350 non-null   float64\n",
            " 5   Bsmt Qual_Gd                         1350 non-null   float64\n",
            " 6   Bsmt Qual_Po                         1350 non-null   float64\n",
            " 7   Bsmt Qual_TA                         1350 non-null   float64\n",
            " 8   Exter Qual_Ex                        1350 non-null   float64\n",
            " 9   Exter Qual_Fa                        1350 non-null   float64\n",
            " 10  Exter Qual_Gd                        1350 non-null   float64\n",
            " 11  Exter Qual_TA                        1350 non-null   float64\n",
            " 12  Kitchen Qual_Ex                      1350 non-null   float64\n",
            " 13  Kitchen Qual_Fa                      1350 non-null   float64\n",
            " 14  Kitchen Qual_Gd                      1350 non-null   float64\n",
            " 15  Kitchen Qual_TA                      1350 non-null   float64\n",
            " 16  normalized_Year Built                1350 non-null   float64\n",
            " 17  normalized_Year Remod/Add            1350 non-null   float64\n",
            " 18  normalized_Overall Qual              1350 non-null   float64\n",
            " 19  normalized_Total Bsmt SF             1350 non-null   float64\n",
            " 20  normalized_1st Flr SF                1350 non-null   float64\n",
            " 21  normalized_Full Bath                 1350 non-null   float64\n",
            " 22  normalized_Garage Cars               1350 non-null   float64\n",
            " 23  normalized_target                    1350 non-null   float64\n",
            "dtypes: float64(24)\n",
            "memory usage: 253.2 KB\n"
          ]
        }
      ],
      "source": [
        "col1=df_final.columns[:21].to_list()\n",
        "col2=df_final.columns[21:].to_list()\n",
        "new_col=col2+col1\n",
        "df_edit=df_final[new_col]\n",
        "\n",
        "del df_final\n",
        "\n",
        "df_edit.info()"
      ]
    },
    {
      "cell_type": "code",
      "execution_count": 9,
      "metadata": {
        "id": "1llQBb5QX7I5"
      },
      "outputs": [],
      "source": [
        "data = df_edit.to_numpy()\n",
        "\n",
        "np.random.shuffle(data)\n",
        "\n",
        "x = data[:,:23]\n",
        "y = data[:,23:]\n",
        "\n",
        "split_index = int(len(x)*0.8)\n",
        "train_x, test_x = x[:split_index], x[split_index:]\n",
        "train_y, test_y = y[:split_index], y[split_index:]"
      ]
    },
    {
      "cell_type": "code",
      "execution_count": 10,
      "metadata": {
        "colab": {
          "base_uri": "https://localhost:8080/"
        },
        "id": "jiMUNApfbjdk",
        "outputId": "fbc30a08-c963-4c7b-e4a3-49bf058b9e2f"
      },
      "outputs": [
        {
          "name": "stdout",
          "output_type": "stream",
          "text": [
            "(1080, 23)\n",
            "(1080, 1)\n",
            "(270, 23)\n",
            "(270, 1)\n"
          ]
        }
      ],
      "source": [
        "print(train_x.shape)\n",
        "print(train_y.shape)\n",
        "print(test_x.shape)\n",
        "print(test_y.shape)"
      ]
    },
    {
      "cell_type": "code",
      "execution_count": 11,
      "metadata": {
        "colab": {
          "base_uri": "https://localhost:8080/",
          "height": 1000
        },
        "id": "UPesv4JQeVEV",
        "outputId": "5c019e58-30d9-4c99-db5d-606d393d67a7"
      },
      "outputs": [
        {
          "name": "stdout",
          "output_type": "stream",
          "text": [
            "Model: \"sequential\"\n",
            "_________________________________________________________________\n",
            " Layer (type)                Output Shape              Param #   \n",
            "=================================================================\n",
            " dense (Dense)               (None, 8)                 192       \n",
            "                                                                 \n",
            " dense_1 (Dense)             (None, 8)                 72        \n",
            "                                                                 \n",
            " dense_2 (Dense)             (None, 8)                 72        \n",
            "                                                                 \n",
            " dense_3 (Dense)             (None, 8)                 72        \n",
            "                                                                 \n",
            " dense_4 (Dense)             (None, 1)                 9         \n",
            "                                                                 \n",
            "=================================================================\n",
            "Total params: 417\n",
            "Trainable params: 417\n",
            "Non-trainable params: 0\n",
            "_________________________________________________________________\n",
            "Epoch 1/1000\n",
            "61/61 [==============================] - 1s 5ms/step - loss: 0.0104 - mape: 266340.5000 - val_loss: 0.0046 - val_mape: 29.1160\n",
            "Epoch 2/1000\n",
            "61/61 [==============================] - 0s 3ms/step - loss: 0.0048 - mape: 234208.8438 - val_loss: 0.0035 - val_mape: 23.2875\n",
            "Epoch 3/1000\n",
            "61/61 [==============================] - 0s 3ms/step - loss: 0.0038 - mape: 222265.2031 - val_loss: 0.0028 - val_mape: 24.1419\n",
            "Epoch 4/1000\n",
            "61/61 [==============================] - 0s 3ms/step - loss: 0.0033 - mape: 195473.6719 - val_loss: 0.0023 - val_mape: 21.4500\n",
            "Epoch 5/1000\n",
            "61/61 [==============================] - 0s 3ms/step - loss: 0.0029 - mape: 200047.2656 - val_loss: 0.0023 - val_mape: 19.1937\n",
            "Epoch 6/1000\n",
            "61/61 [==============================] - 0s 3ms/step - loss: 0.0028 - mape: 180638.0938 - val_loss: 0.0020 - val_mape: 19.9787\n",
            "Epoch 7/1000\n",
            "61/61 [==============================] - 0s 3ms/step - loss: 0.0025 - mape: 179843.3750 - val_loss: 0.0018 - val_mape: 18.5281\n",
            "Epoch 8/1000\n",
            "61/61 [==============================] - 0s 3ms/step - loss: 0.0023 - mape: 152748.2031 - val_loss: 0.0017 - val_mape: 17.7274\n",
            "Epoch 9/1000\n",
            "61/61 [==============================] - 0s 3ms/step - loss: 0.0022 - mape: 146643.3281 - val_loss: 0.0019 - val_mape: 20.1577\n",
            "Epoch 10/1000\n",
            "61/61 [==============================] - 0s 3ms/step - loss: 0.0021 - mape: 137566.4844 - val_loss: 0.0016 - val_mape: 16.0146\n",
            "Epoch 11/1000\n",
            "61/61 [==============================] - 0s 3ms/step - loss: 0.0020 - mape: 122319.2734 - val_loss: 0.0015 - val_mape: 15.4223\n",
            "Epoch 12/1000\n",
            "61/61 [==============================] - 0s 3ms/step - loss: 0.0019 - mape: 128720.3750 - val_loss: 0.0014 - val_mape: 14.9660\n",
            "Epoch 13/1000\n",
            "61/61 [==============================] - 0s 3ms/step - loss: 0.0018 - mape: 119950.3594 - val_loss: 0.0014 - val_mape: 15.3473\n",
            "Epoch 14/1000\n",
            "61/61 [==============================] - 0s 3ms/step - loss: 0.0018 - mape: 121389.1953 - val_loss: 0.0018 - val_mape: 15.4008\n",
            "Epoch 15/1000\n",
            "61/61 [==============================] - 0s 3ms/step - loss: 0.0018 - mape: 125331.1641 - val_loss: 0.0012 - val_mape: 13.7706\n",
            "Epoch 16/1000\n",
            "61/61 [==============================] - 0s 3ms/step - loss: 0.0017 - mape: 113096.0625 - val_loss: 0.0012 - val_mape: 14.4966\n",
            "Epoch 17/1000\n",
            "61/61 [==============================] - 0s 3ms/step - loss: 0.0016 - mape: 120133.4375 - val_loss: 0.0012 - val_mape: 14.3218\n",
            "Epoch 18/1000\n",
            "61/61 [==============================] - 0s 3ms/step - loss: 0.0016 - mape: 110081.2344 - val_loss: 0.0013 - val_mape: 13.3976\n",
            "Epoch 19/1000\n",
            "61/61 [==============================] - 0s 2ms/step - loss: 0.0015 - mape: 114627.3125 - val_loss: 0.0015 - val_mape: 14.0289\n",
            "Epoch 20/1000\n",
            "61/61 [==============================] - 0s 3ms/step - loss: 0.0015 - mape: 109759.1797 - val_loss: 0.0012 - val_mape: 13.2760\n",
            "Epoch 21/1000\n",
            "61/61 [==============================] - 0s 3ms/step - loss: 0.0015 - mape: 106903.2578 - val_loss: 0.0011 - val_mape: 13.2563\n",
            "Epoch 22/1000\n",
            "61/61 [==============================] - 0s 3ms/step - loss: 0.0015 - mape: 108252.4766 - val_loss: 0.0011 - val_mape: 13.5069\n",
            "Epoch 23/1000\n",
            "61/61 [==============================] - 0s 3ms/step - loss: 0.0016 - mape: 102049.6719 - val_loss: 0.0011 - val_mape: 13.8564\n",
            "Epoch 24/1000\n",
            "61/61 [==============================] - 0s 3ms/step - loss: 0.0014 - mape: 100619.3984 - val_loss: 9.9845e-04 - val_mape: 12.6248\n",
            "Epoch 25/1000\n",
            "61/61 [==============================] - 0s 3ms/step - loss: 0.0015 - mape: 108758.6016 - val_loss: 0.0011 - val_mape: 12.9613\n",
            "Epoch 26/1000\n",
            "61/61 [==============================] - 0s 3ms/step - loss: 0.0015 - mape: 104427.1094 - val_loss: 9.7113e-04 - val_mape: 12.8784\n",
            "Epoch 27/1000\n",
            "61/61 [==============================] - 0s 3ms/step - loss: 0.0014 - mape: 99462.6875 - val_loss: 0.0010 - val_mape: 13.3157\n",
            "Epoch 28/1000\n",
            "61/61 [==============================] - 0s 3ms/step - loss: 0.0014 - mape: 101647.1094 - val_loss: 0.0011 - val_mape: 12.3946\n",
            "Epoch 29/1000\n",
            "61/61 [==============================] - 0s 3ms/step - loss: 0.0013 - mape: 86459.5469 - val_loss: 9.9102e-04 - val_mape: 12.1503\n",
            "Epoch 30/1000\n",
            "61/61 [==============================] - 0s 3ms/step - loss: 0.0013 - mape: 97026.5703 - val_loss: 9.3574e-04 - val_mape: 12.5646\n",
            "Epoch 31/1000\n",
            "61/61 [==============================] - 0s 3ms/step - loss: 0.0013 - mape: 91982.9922 - val_loss: 9.0727e-04 - val_mape: 11.9582\n",
            "Epoch 32/1000\n",
            "61/61 [==============================] - 0s 3ms/step - loss: 0.0013 - mape: 88919.3203 - val_loss: 0.0013 - val_mape: 13.2948\n",
            "Epoch 33/1000\n",
            "61/61 [==============================] - 0s 3ms/step - loss: 0.0013 - mape: 99921.7812 - val_loss: 9.7172e-04 - val_mape: 11.8942\n",
            "Epoch 34/1000\n",
            "61/61 [==============================] - 0s 3ms/step - loss: 0.0014 - mape: 89466.3672 - val_loss: 0.0010 - val_mape: 13.7688\n",
            "Epoch 35/1000\n",
            "61/61 [==============================] - 0s 3ms/step - loss: 0.0014 - mape: 92220.3984 - val_loss: 9.0726e-04 - val_mape: 12.7155\n",
            "Epoch 36/1000\n",
            "61/61 [==============================] - 0s 3ms/step - loss: 0.0013 - mape: 86832.8047 - val_loss: 0.0011 - val_mape: 12.1828\n",
            "Epoch 37/1000\n",
            "61/61 [==============================] - 0s 3ms/step - loss: 0.0012 - mape: 91661.1641 - val_loss: 9.9784e-04 - val_mape: 13.3545\n",
            "Epoch 38/1000\n",
            "61/61 [==============================] - 0s 3ms/step - loss: 0.0013 - mape: 103586.1328 - val_loss: 9.3045e-04 - val_mape: 11.9875\n",
            "Epoch 39/1000\n",
            "61/61 [==============================] - 0s 3ms/step - loss: 0.0013 - mape: 101061.2422 - val_loss: 9.7139e-04 - val_mape: 11.9573\n",
            "Epoch 40/1000\n",
            "61/61 [==============================] - 0s 3ms/step - loss: 0.0012 - mape: 85190.8750 - val_loss: 9.1885e-04 - val_mape: 11.8597\n",
            "Epoch 41/1000\n",
            "61/61 [==============================] - 0s 3ms/step - loss: 0.0013 - mape: 89809.3594 - val_loss: 0.0010 - val_mape: 13.9615\n",
            "Epoch 42/1000\n",
            "61/61 [==============================] - 0s 3ms/step - loss: 0.0013 - mape: 101671.5781 - val_loss: 0.0012 - val_mape: 12.5975\n",
            "Epoch 43/1000\n",
            "61/61 [==============================] - 0s 3ms/step - loss: 0.0012 - mape: 101058.5703 - val_loss: 9.7258e-04 - val_mape: 12.2346\n",
            "Epoch 44/1000\n",
            "61/61 [==============================] - 0s 3ms/step - loss: 0.0012 - mape: 93117.0156 - val_loss: 9.4848e-04 - val_mape: 11.9019\n",
            "Epoch 45/1000\n",
            "61/61 [==============================] - 0s 3ms/step - loss: 0.0012 - mape: 86612.8516 - val_loss: 0.0011 - val_mape: 15.1947\n",
            "Epoch 46/1000\n",
            "61/61 [==============================] - 0s 3ms/step - loss: 0.0013 - mape: 89582.6562 - val_loss: 0.0013 - val_mape: 12.9714\n",
            "Epoch 47/1000\n",
            "61/61 [==============================] - 0s 3ms/step - loss: 0.0013 - mape: 99681.6484 - val_loss: 9.1427e-04 - val_mape: 13.0328\n",
            "Epoch 48/1000\n",
            "61/61 [==============================] - 0s 3ms/step - loss: 0.0011 - mape: 88380.1328 - val_loss: 9.9824e-04 - val_mape: 11.8772\n",
            "Epoch 49/1000\n",
            "61/61 [==============================] - 0s 3ms/step - loss: 0.0012 - mape: 82859.1484 - val_loss: 9.1639e-04 - val_mape: 12.9440\n",
            "Epoch 50/1000\n",
            "61/61 [==============================] - 0s 3ms/step - loss: 0.0012 - mape: 85522.8125 - val_loss: 8.9636e-04 - val_mape: 12.7055\n",
            "Epoch 51/1000\n",
            "61/61 [==============================] - 0s 3ms/step - loss: 0.0012 - mape: 84326.7188 - val_loss: 9.0928e-04 - val_mape: 12.3021\n",
            "Epoch 52/1000\n",
            "61/61 [==============================] - 0s 3ms/step - loss: 0.0012 - mape: 83624.0312 - val_loss: 9.4180e-04 - val_mape: 12.9385\n",
            "Epoch 53/1000\n",
            "61/61 [==============================] - 0s 3ms/step - loss: 0.0011 - mape: 85490.5938 - val_loss: 0.0012 - val_mape: 12.8531\n",
            "Epoch 54/1000\n",
            "61/61 [==============================] - 0s 3ms/step - loss: 0.0011 - mape: 83426.3750 - val_loss: 9.9676e-04 - val_mape: 11.8827\n",
            "Epoch 55/1000\n",
            "61/61 [==============================] - 0s 3ms/step - loss: 0.0013 - mape: 82440.1094 - val_loss: 0.0011 - val_mape: 12.1172\n",
            "Epoch 56/1000\n",
            "61/61 [==============================] - 0s 3ms/step - loss: 0.0011 - mape: 81284.9297 - val_loss: 9.6353e-04 - val_mape: 11.8883\n",
            "Epoch 57/1000\n",
            "61/61 [==============================] - 0s 3ms/step - loss: 0.0011 - mape: 92236.8125 - val_loss: 9.1708e-04 - val_mape: 11.8751\n",
            "Epoch 58/1000\n",
            "61/61 [==============================] - 0s 3ms/step - loss: 0.0011 - mape: 84894.3594 - val_loss: 9.5741e-04 - val_mape: 12.9472\n",
            "Epoch 59/1000\n",
            "61/61 [==============================] - 0s 3ms/step - loss: 0.0011 - mape: 81081.2891 - val_loss: 8.8363e-04 - val_mape: 11.7102\n",
            "Epoch 60/1000\n",
            "61/61 [==============================] - 0s 3ms/step - loss: 0.0012 - mape: 83826.1016 - val_loss: 8.6860e-04 - val_mape: 11.8458\n",
            "Epoch 61/1000\n",
            "61/61 [==============================] - 0s 3ms/step - loss: 0.0011 - mape: 85548.4531 - val_loss: 9.1841e-04 - val_mape: 12.3203\n",
            "Epoch 62/1000\n",
            "61/61 [==============================] - 0s 3ms/step - loss: 0.0011 - mape: 77764.9375 - val_loss: 9.1816e-04 - val_mape: 12.2594\n",
            "Epoch 63/1000\n",
            "61/61 [==============================] - 0s 3ms/step - loss: 0.0011 - mape: 91869.4219 - val_loss: 8.9288e-04 - val_mape: 11.6406\n",
            "Epoch 64/1000\n",
            "61/61 [==============================] - 0s 3ms/step - loss: 0.0011 - mape: 83188.7500 - val_loss: 8.9915e-04 - val_mape: 12.1016\n",
            "Epoch 65/1000\n",
            "61/61 [==============================] - 0s 3ms/step - loss: 0.0011 - mape: 85472.5078 - val_loss: 8.8850e-04 - val_mape: 12.4581\n",
            "Epoch 66/1000\n",
            "61/61 [==============================] - 0s 3ms/step - loss: 0.0011 - mape: 85871.0703 - val_loss: 8.5787e-04 - val_mape: 11.8232\n",
            "Epoch 67/1000\n",
            "61/61 [==============================] - 0s 3ms/step - loss: 0.0011 - mape: 82831.7422 - val_loss: 8.8778e-04 - val_mape: 12.1212\n",
            "Epoch 68/1000\n",
            "61/61 [==============================] - 0s 3ms/step - loss: 0.0012 - mape: 83347.9531 - val_loss: 8.6862e-04 - val_mape: 11.8680\n",
            "Epoch 69/1000\n",
            "61/61 [==============================] - 0s 3ms/step - loss: 0.0011 - mape: 81552.9062 - val_loss: 9.0865e-04 - val_mape: 11.7265\n",
            "Epoch 70/1000\n",
            "61/61 [==============================] - 0s 3ms/step - loss: 0.0011 - mape: 94008.6797 - val_loss: 0.0010 - val_mape: 12.2952\n",
            "Epoch 71/1000\n",
            "61/61 [==============================] - 0s 3ms/step - loss: 0.0011 - mape: 88016.7578 - val_loss: 8.9342e-04 - val_mape: 12.0919\n",
            "Epoch 72/1000\n",
            "61/61 [==============================] - 0s 3ms/step - loss: 0.0011 - mape: 87707.0156 - val_loss: 9.9938e-04 - val_mape: 11.9176\n",
            "Epoch 73/1000\n",
            "61/61 [==============================] - 0s 3ms/step - loss: 0.0011 - mape: 80959.2969 - val_loss: 9.3168e-04 - val_mape: 11.8571\n",
            "Epoch 74/1000\n",
            "61/61 [==============================] - 0s 3ms/step - loss: 0.0010 - mape: 85960.6094 - val_loss: 8.7962e-04 - val_mape: 12.0599\n",
            "Epoch 75/1000\n",
            "61/61 [==============================] - 0s 3ms/step - loss: 0.0011 - mape: 87202.1953 - val_loss: 9.2150e-04 - val_mape: 12.0249\n",
            "Epoch 76/1000\n",
            "61/61 [==============================] - 0s 3ms/step - loss: 0.0010 - mape: 83391.7578 - val_loss: 0.0010 - val_mape: 12.0321\n",
            "Epoch 77/1000\n",
            "61/61 [==============================] - 0s 3ms/step - loss: 0.0012 - mape: 80881.1875 - val_loss: 9.0339e-04 - val_mape: 12.3834\n",
            "Epoch 78/1000\n",
            "61/61 [==============================] - 0s 3ms/step - loss: 0.0011 - mape: 77867.0156 - val_loss: 0.0010 - val_mape: 12.1576\n",
            "Epoch 79/1000\n",
            "61/61 [==============================] - 0s 3ms/step - loss: 0.0010 - mape: 77461.3828 - val_loss: 9.4582e-04 - val_mape: 12.1461\n",
            "Epoch 80/1000\n",
            "61/61 [==============================] - 0s 3ms/step - loss: 0.0012 - mape: 75654.2578 - val_loss: 0.0012 - val_mape: 12.6963\n",
            "Epoch 81/1000\n",
            "61/61 [==============================] - 0s 3ms/step - loss: 0.0010 - mape: 94389.5234 - val_loss: 9.0580e-04 - val_mape: 12.5269\n",
            "Epoch 82/1000\n",
            "61/61 [==============================] - 0s 3ms/step - loss: 0.0011 - mape: 82350.3438 - val_loss: 8.6891e-04 - val_mape: 11.4527\n",
            "Epoch 83/1000\n",
            "61/61 [==============================] - 0s 3ms/step - loss: 0.0010 - mape: 77788.2969 - val_loss: 8.8624e-04 - val_mape: 12.0468\n",
            "Epoch 84/1000\n",
            "61/61 [==============================] - 0s 3ms/step - loss: 0.0010 - mape: 78168.4375 - val_loss: 0.0010 - val_mape: 12.6328\n",
            "Epoch 85/1000\n",
            "61/61 [==============================] - 0s 3ms/step - loss: 0.0011 - mape: 83211.5703 - val_loss: 9.1833e-04 - val_mape: 12.0944\n",
            "Epoch 86/1000\n",
            "61/61 [==============================] - 0s 3ms/step - loss: 0.0011 - mape: 81787.0469 - val_loss: 9.9260e-04 - val_mape: 12.8481\n",
            "Epoch 87/1000\n",
            "61/61 [==============================] - 0s 3ms/step - loss: 0.0011 - mape: 79484.2578 - val_loss: 9.2762e-04 - val_mape: 11.7280\n",
            "Epoch 88/1000\n",
            "61/61 [==============================] - 0s 3ms/step - loss: 0.0011 - mape: 76992.2188 - val_loss: 9.0629e-04 - val_mape: 11.8381\n",
            "Epoch 89/1000\n",
            "61/61 [==============================] - 0s 3ms/step - loss: 0.0011 - mape: 74475.3516 - val_loss: 8.9706e-04 - val_mape: 12.2024\n",
            "Epoch 90/1000\n",
            "61/61 [==============================] - 0s 3ms/step - loss: 0.0010 - mape: 80795.7266 - val_loss: 9.5219e-04 - val_mape: 11.8841\n",
            "Epoch 91/1000\n",
            "61/61 [==============================] - 0s 3ms/step - loss: 0.0010 - mape: 75333.9531 - val_loss: 9.3622e-04 - val_mape: 12.0324\n",
            "Epoch 92/1000\n",
            "61/61 [==============================] - 0s 3ms/step - loss: 0.0010 - mape: 90370.5469 - val_loss: 9.1968e-04 - val_mape: 11.8681\n",
            "Epoch 93/1000\n",
            "61/61 [==============================] - 0s 3ms/step - loss: 0.0010 - mape: 81798.1641 - val_loss: 0.0010 - val_mape: 12.3043\n",
            "Epoch 94/1000\n",
            "61/61 [==============================] - 0s 3ms/step - loss: 0.0011 - mape: 83236.9844 - val_loss: 0.0010 - val_mape: 12.0793\n",
            "Epoch 95/1000\n",
            "61/61 [==============================] - 0s 3ms/step - loss: 0.0011 - mape: 94495.8359 - val_loss: 9.6528e-04 - val_mape: 11.9788\n",
            "Epoch 96/1000\n",
            "61/61 [==============================] - 0s 3ms/step - loss: 0.0010 - mape: 77221.7812 - val_loss: 9.1911e-04 - val_mape: 11.7154\n",
            "Epoch 97/1000\n",
            "61/61 [==============================] - 0s 3ms/step - loss: 0.0011 - mape: 78278.3359 - val_loss: 9.3182e-04 - val_mape: 12.1835\n",
            "Epoch 98/1000\n",
            "61/61 [==============================] - 0s 3ms/step - loss: 0.0010 - mape: 77726.3047 - val_loss: 9.2458e-04 - val_mape: 11.9908\n",
            "Epoch 99/1000\n",
            "61/61 [==============================] - 0s 3ms/step - loss: 0.0011 - mape: 80123.3359 - val_loss: 9.4750e-04 - val_mape: 12.2772\n",
            "Epoch 100/1000\n",
            "61/61 [==============================] - 0s 3ms/step - loss: 9.8456e-04 - mape: 76019.0703 - val_loss: 0.0012 - val_mape: 12.5215\n",
            "Epoch 101/1000\n",
            "61/61 [==============================] - 0s 3ms/step - loss: 0.0011 - mape: 91152.9141 - val_loss: 8.9143e-04 - val_mape: 11.6131\n",
            "Epoch 102/1000\n",
            "61/61 [==============================] - 0s 3ms/step - loss: 0.0010 - mape: 77896.6016 - val_loss: 9.2007e-04 - val_mape: 11.6151\n",
            "Epoch 103/1000\n",
            "61/61 [==============================] - 0s 3ms/step - loss: 9.9396e-04 - mape: 86306.1484 - val_loss: 8.7656e-04 - val_mape: 11.6984\n",
            "Epoch 104/1000\n",
            "61/61 [==============================] - 0s 3ms/step - loss: 0.0010 - mape: 78611.0078 - val_loss: 9.5509e-04 - val_mape: 13.2374\n",
            "Epoch 105/1000\n",
            "61/61 [==============================] - 0s 3ms/step - loss: 0.0010 - mape: 83290.9453 - val_loss: 8.8341e-04 - val_mape: 11.8192\n",
            "Epoch 106/1000\n",
            "61/61 [==============================] - 0s 3ms/step - loss: 0.0010 - mape: 77235.1172 - val_loss: 0.0011 - val_mape: 13.5851\n",
            "Epoch 107/1000\n",
            "61/61 [==============================] - 0s 3ms/step - loss: 0.0011 - mape: 83165.6719 - val_loss: 9.2348e-04 - val_mape: 12.0609\n",
            "Epoch 108/1000\n",
            "61/61 [==============================] - 0s 3ms/step - loss: 9.9430e-04 - mape: 75739.8047 - val_loss: 9.5148e-04 - val_mape: 11.9570\n",
            "Epoch 109/1000\n",
            "61/61 [==============================] - 0s 3ms/step - loss: 0.0011 - mape: 74139.8594 - val_loss: 0.0012 - val_mape: 15.0828\n",
            "Epoch 110/1000\n",
            "61/61 [==============================] - 0s 3ms/step - loss: 0.0010 - mape: 77035.5234 - val_loss: 9.4001e-04 - val_mape: 11.9422\n",
            "Epoch 111/1000\n",
            "61/61 [==============================] - 0s 3ms/step - loss: 0.0010 - mape: 84341.4375 - val_loss: 0.0012 - val_mape: 12.7039\n",
            "Epoch 112/1000\n",
            "61/61 [==============================] - 0s 3ms/step - loss: 0.0010 - mape: 81124.7812 - val_loss: 0.0010 - val_mape: 11.9645\n",
            "Epoch 113/1000\n",
            "61/61 [==============================] - 0s 3ms/step - loss: 0.0010 - mape: 79504.1641 - val_loss: 9.1069e-04 - val_mape: 12.2041\n",
            "Epoch 114/1000\n",
            "61/61 [==============================] - 0s 3ms/step - loss: 0.0011 - mape: 73086.5625 - val_loss: 0.0010 - val_mape: 12.1084\n",
            "Epoch 115/1000\n",
            "61/61 [==============================] - 0s 3ms/step - loss: 0.0012 - mape: 76352.7344 - val_loss: 9.1149e-04 - val_mape: 11.9996\n",
            "Epoch 116/1000\n",
            "61/61 [==============================] - 0s 3ms/step - loss: 0.0010 - mape: 76766.8125 - val_loss: 9.2090e-04 - val_mape: 11.9634\n",
            "Epoch 00116: early stopping\n"
          ]
        },
        {
          "data": {
            "image/png": "[encoded data removed]",
            "text/plain": [
              "<Figure size 432x288 with 1 Axes>"
            ]
          },
          "metadata": {
            "needs_background": "light"
          },
          "output_type": "display_data"
        },
        {
          "name": "stdout",
          "output_type": "stream",
          "text": [
            "9/9 [==============================] - 0s 2ms/step - loss: 0.0014 - mape: 11.4241\n",
            "loss= 0.0014088640455156565\n",
            "mape= 11.424092292785645\n"
          ]
        },
        {
          "data": {
            "image/png": "[encoded data removed]",
            "text/plain": [
              "<Figure size 432x288 with 1 Axes>"
            ]
          },
          "metadata": {
            "needs_background": "light"
          },
          "output_type": "display_data"
        }
      ],
      "source": [
        "import numpy as np\n",
        "import pandas as pd\n",
        "import matplotlib.pyplot as plt\n",
        "\n",
        "import tensorflow as tf\n",
        "\n",
        "from tensorflow import keras\n",
        "from tensorflow.keras import optimizers\n",
        "from tensorflow.keras.layers import Dense, Dropout\n",
        "from keras.callbacks import EarlyStopping\n",
        "\n",
        "model = keras.Sequential()\n",
        "model.add(Dense(8, activation='relu', input_shape=(23,)))\n",
        "model.add(Dense(8, activation='relu'))\n",
        "model.add(Dense(8, activation='relu'))\n",
        "model.add(Dense(8, activation='relu'))\n",
        "model.add(Dense(1))  # 이게 거의 최적.\n",
        "\n",
        "model.compile(optimizer=\"adam\", loss=\"mse\", metrics=[\"mape\"])\n",
        "model.summary()\n",
        "\n",
        "history = model.fit(train_x, train_y, epochs=1000, batch_size=16, validation_split=0.1, callbacks=EarlyStopping(monitor='val_loss', mode='min', verbose=1, patience=50))\n",
        "\n",
        "plt.plot(history.history['loss'])\n",
        "plt.plot(history.history['val_loss'])\n",
        "plt.show()\n",
        "\n",
        "loss, mape = model.evaluate(test_x, test_y)\n",
        "print(\"loss=\", loss)\n",
        "print(\"mape=\", mape)\n",
        "\n",
        "y_ = model.predict(test_x)\n",
        "\n",
        "plt.scatter(test_y, y_)\n",
        "plt.show()"
      ]
    },
    {
      "cell_type": "code",
      "execution_count": 12,
      "metadata": {
        "colab": {
          "base_uri": "https://localhost:8080/"
        },
        "id": "ijt7YrkLecs7",
        "outputId": "7e2282d6-f5f2-4f5f-fe34-6ce82bd68102"
      },
      "outputs": [
        {
          "name": "stdout",
          "output_type": "stream",
          "text": [
            "<class 'pandas.core.frame.DataFrame'>\n",
            "RangeIndex: 1350 entries, 0 to 1349\n",
            "Data columns (total 24 columns):\n",
            " #   Column                     Non-Null Count  Dtype  \n",
            "---  ------                     --------------  -----  \n",
            " 0   Bsmt Qual_Ex               1350 non-null   uint8  \n",
            " 1   Bsmt Qual_Fa               1350 non-null   uint8  \n",
            " 2   Bsmt Qual_Gd               1350 non-null   uint8  \n",
            " 3   Bsmt Qual_Po               1350 non-null   uint8  \n",
            " 4   Bsmt Qual_TA               1350 non-null   uint8  \n",
            " 5   Exter Qual_Ex              1350 non-null   uint8  \n",
            " 6   Exter Qual_Fa              1350 non-null   uint8  \n",
            " 7   Exter Qual_Gd              1350 non-null   uint8  \n",
            " 8   Exter Qual_TA              1350 non-null   uint8  \n",
            " 9   Kitchen Qual_Ex            1350 non-null   uint8  \n",
            " 10  Kitchen Qual_Fa            1350 non-null   uint8  \n",
            " 11  Kitchen Qual_Gd            1350 non-null   uint8  \n",
            " 12  Kitchen Qual_Po            1350 non-null   uint8  \n",
            " 13  Kitchen Qual_TA            1350 non-null   uint8  \n",
            " 14  normalized_Year Built      1350 non-null   float64\n",
            " 15  normalized_Year Remod/Add  1350 non-null   float64\n",
            " 16  normalized_Garage Yr Blt   1350 non-null   float64\n",
            " 17  normalized_Overall Qual    1350 non-null   float64\n",
            " 18  normalized_Gr Liv Area     1350 non-null   float64\n",
            " 19  normalized_Garage Area     1350 non-null   float64\n",
            " 20  normalized_Total Bsmt SF   1350 non-null   float64\n",
            " 21  normalized_1st Flr SF      1350 non-null   float64\n",
            " 22  normalized_Full Bath       1350 non-null   float64\n",
            " 23  normalized_Garage Cars     1350 non-null   float64\n",
            "dtypes: float64(10), uint8(14)\n",
            "memory usage: 124.1 KB\n"
          ]
        }
      ],
      "source": [
        "df = pd.read_csv('test.csv')\n",
        "df = pd.get_dummies(df, columns=['Bsmt Qual', 'Exter Qual', 'Kitchen Qual'])\n",
        "df.drop(columns = ['id'], inplace=True)\n",
        "normalize_target = ['Year Built', 'Year Remod/Add', 'Garage Yr Blt', 'Overall Qual', 'Gr Liv Area', 'Garage Area', 'Total Bsmt SF', '1st Flr SF', 'Full Bath', 'Garage Cars']\n",
        "for column_name in normalize_target:\n",
        "  df['normalized_{}'.format(column_name)] = (df[column_name] - df[column_name].min()) / (df[column_name].max() - df[column_name].min())\n",
        "df.drop(columns=normalize_target, inplace=True)\n",
        "\n",
        "df.info()"
      ]
    },
    {
      "cell_type": "code",
      "execution_count": 13,
      "metadata": {
        "id": "BaiNM4dKhilL"
      },
      "outputs": [],
      "source": [
        "col = df_edit.columns.tolist()"
      ]
    },
    {
      "cell_type": "code",
      "execution_count": 14,
      "metadata": {
        "colab": {
          "base_uri": "https://localhost:8080/"
        },
        "id": "hbioaoLLiZSY",
        "outputId": "e2b4623f-720e-4a3c-8a4a-2f11c0541451"
      },
      "outputs": [
        {
          "name": "stdout",
          "output_type": "stream",
          "text": [
            "0, max_limied_normalized_Garage Yr Blt\n",
            "1, max_limied_normalized_Gr Liv Area\n",
            "2, max_limied_normalized_Garage Area\n",
            "3, Bsmt Qual_Ex\n",
            "4, Bsmt Qual_Fa\n",
            "5, Bsmt Qual_Gd\n",
            "6, Bsmt Qual_Po\n",
            "7, Bsmt Qual_TA\n",
            "8, Exter Qual_Ex\n",
            "9, Exter Qual_Fa\n",
            "10, Exter Qual_Gd\n",
            "11, Exter Qual_TA\n",
            "12, Kitchen Qual_Ex\n",
            "13, Kitchen Qual_Fa\n",
            "14, Kitchen Qual_Gd\n",
            "15, Kitchen Qual_TA\n",
            "16, normalized_Year Built\n",
            "17, normalized_Year Remod/Add\n",
            "18, normalized_Overall Qual\n",
            "19, normalized_Total Bsmt SF\n",
            "20, normalized_1st Flr SF\n",
            "21, normalized_Full Bath\n",
            "22, normalized_Garage Cars\n",
            "23, normalized_target\n"
          ]
        }
      ],
      "source": [
        "for i, coln in enumerate(col):\n",
        "  print('{}, {}'.format(i, coln))"
      ]
    },
    {
      "cell_type": "code",
      "execution_count": 15,
      "metadata": {
        "colab": {
          "base_uri": "https://localhost:8080/"
        },
        "id": "9H22mTo9rD-K",
        "outputId": "c8d4401f-0a15-4758-fd67-2f377dae5f91"
      },
      "outputs": [
        {
          "name": "stdout",
          "output_type": "stream",
          "text": [
            "0, normalized_Garage Yr Blt\n",
            "1, normalized_Gr Liv Area\n",
            "2, normalized_Garage Area\n",
            "3, Bsmt Qual_Ex\n",
            "4, Bsmt Qual_Fa\n",
            "5, Bsmt Qual_Gd\n",
            "6, Bsmt Qual_Po\n",
            "7, Bsmt Qual_TA\n",
            "8, Exter Qual_Ex\n",
            "9, Exter Qual_Fa\n",
            "10, Exter Qual_Gd\n",
            "11, Exter Qual_TA\n",
            "12, Kitchen Qual_Ex\n",
            "13, Kitchen Qual_Fa\n",
            "14, Kitchen Qual_Gd\n",
            "15, Kitchen Qual_TA\n",
            "16, normalized_Year Built\n",
            "17, normalized_Year Remod/Add\n",
            "18, normalized_Overall Qual\n",
            "19, normalized_Total Bsmt SF\n",
            "20, normalized_1st Flr SF\n",
            "21, normalized_Full Bath\n",
            "22, normalized_Garage Cars\n",
            "23, normalized_target\n"
          ]
        }
      ],
      "source": [
        "col[0] = 'normalized_Garage Yr Blt'\n",
        "col[1] = 'normalized_Gr Liv Area'\n",
        "col[2] = 'normalized_Garage Area'\n",
        "for i, coln in enumerate(col):\n",
        "  print('{}, {}'.format(i, coln))"
      ]
    },
    {
      "cell_type": "code",
      "execution_count": 16,
      "metadata": {
        "colab": {
          "base_uri": "https://localhost:8080/"
        },
        "id": "0YDo0LsFr2Av",
        "outputId": "e9abd750-5410-4653-cbb6-6d62e4e5bae4"
      },
      "outputs": [
        {
          "data": {
            "text/plain": [
              "['normalized_Garage Yr Blt',\n",
              " 'normalized_Gr Liv Area',\n",
              " 'normalized_Garage Area',\n",
              " 'Bsmt Qual_Ex',\n",
              " 'Bsmt Qual_Fa',\n",
              " 'Bsmt Qual_Gd',\n",
              " 'Bsmt Qual_Po',\n",
              " 'Bsmt Qual_TA',\n",
              " 'Exter Qual_Ex',\n",
              " 'Exter Qual_Fa',\n",
              " 'Exter Qual_Gd',\n",
              " 'Exter Qual_TA',\n",
              " 'Kitchen Qual_Ex',\n",
              " 'Kitchen Qual_Fa',\n",
              " 'Kitchen Qual_Gd',\n",
              " 'Kitchen Qual_TA',\n",
              " 'normalized_Year Built',\n",
              " 'normalized_Year Remod/Add',\n",
              " 'normalized_Overall Qual',\n",
              " 'normalized_Total Bsmt SF',\n",
              " 'normalized_1st Flr SF',\n",
              " 'normalized_Full Bath',\n",
              " 'normalized_Garage Cars']"
            ]
          },
          "execution_count": 16,
          "metadata": {},
          "output_type": "execute_result"
        }
      ],
      "source": [
        "del col[23]\n",
        "col"
      ]
    },
    {
      "cell_type": "code",
      "execution_count": 17,
      "metadata": {
        "colab": {
          "base_uri": "https://localhost:8080/"
        },
        "id": "DYujMxQgsta4",
        "outputId": "1d919427-4bae-4923-d6a4-d1bdb3252ab8"
      },
      "outputs": [
        {
          "name": "stdout",
          "output_type": "stream",
          "text": [
            "<class 'pandas.core.frame.DataFrame'>\n",
            "RangeIndex: 1350 entries, 0 to 1349\n",
            "Data columns (total 23 columns):\n",
            " #   Column                     Non-Null Count  Dtype  \n",
            "---  ------                     --------------  -----  \n",
            " 0   normalized_Garage Yr Blt   1350 non-null   float64\n",
            " 1   normalized_Gr Liv Area     1350 non-null   float64\n",
            " 2   normalized_Garage Area     1350 non-null   float64\n",
            " 3   Bsmt Qual_Ex               1350 non-null   uint8  \n",
            " 4   Bsmt Qual_Fa               1350 non-null   uint8  \n",
            " 5   Bsmt Qual_Gd               1350 non-null   uint8  \n",
            " 6   Bsmt Qual_Po               1350 non-null   uint8  \n",
            " 7   Bsmt Qual_TA               1350 non-null   uint8  \n",
            " 8   Exter Qual_Ex              1350 non-null   uint8  \n",
            " 9   Exter Qual_Fa              1350 non-null   uint8  \n",
            " 10  Exter Qual_Gd              1350 non-null   uint8  \n",
            " 11  Exter Qual_TA              1350 non-null   uint8  \n",
            " 12  Kitchen Qual_Ex            1350 non-null   uint8  \n",
            " 13  Kitchen Qual_Fa            1350 non-null   uint8  \n",
            " 14  Kitchen Qual_Gd            1350 non-null   uint8  \n",
            " 15  Kitchen Qual_TA            1350 non-null   uint8  \n",
            " 16  normalized_Year Built      1350 non-null   float64\n",
            " 17  normalized_Year Remod/Add  1350 non-null   float64\n",
            " 18  normalized_Overall Qual    1350 non-null   float64\n",
            " 19  normalized_Total Bsmt SF   1350 non-null   float64\n",
            " 20  normalized_1st Flr SF      1350 non-null   float64\n",
            " 21  normalized_Full Bath       1350 non-null   float64\n",
            " 22  normalized_Garage Cars     1350 non-null   float64\n",
            "dtypes: float64(10), uint8(13)\n",
            "memory usage: 122.7 KB\n"
          ]
        }
      ],
      "source": [
        "df = df[col]\n",
        "df.info()"
      ]
    },
    {
      "cell_type": "code",
      "execution_count": 18,
      "metadata": {
        "colab": {
          "base_uri": "https://localhost:8080/"
        },
        "id": "6PSwRuGYs4gw",
        "outputId": "2a463522-4b35-4f62-f5bd-ea70743f2888"
      },
      "outputs": [
        {
          "data": {
            "text/plain": [
              "array([184406.10301983, 110953.21847346, 132690.22627512, ...,\n",
              "       106626.58670086, 135432.95988417, 119523.51634005])"
            ]
          },
          "execution_count": 18,
          "metadata": {},
          "output_type": "execute_result"
        }
      ],
      "source": [
        "testnp = df.to_numpy()\n",
        "testnp_y = model.predict(testnp)\n",
        "\n",
        "testnp_y = testnp_y * (targetmax - targetmin) + targetmin\n",
        "testnp_y = testnp_y.reshape((1350, ))\n",
        "testnp_y"
      ]
    },
    {
      "cell_type": "code",
      "execution_count": 19,
      "metadata": {
        "colab": {
          "base_uri": "https://localhost:8080/"
        },
        "id": "zghrCsO3tofl",
        "outputId": "812178ae-fcca-4bb7-ad51-5870e34172fe"
      },
      "outputs": [
        {
          "data": {
            "text/plain": [
              "array([[1.00000000e+00, 2.68800223e+05],\n",
              "       [2.00000000e+00, 1.14565499e+05],\n",
              "       [3.00000000e+00, 1.49236020e+05],\n",
              "       ...,\n",
              "       [1.34800000e+03, 8.03289870e+04],\n",
              "       [1.34900000e+03, 1.32207227e+05],\n",
              "       [1.35000000e+03, 1.22307613e+05]])"
            ]
          },
          "execution_count": 19,
          "metadata": {},
          "output_type": "execute_result"
        }
      ],
      "source": [
        "id = np.array(range(len(testnp_y))) + 1\n",
        "\n",
        "sub_numpy = np.column_stack([id.T, testnp_y.T])\n",
        "\n",
        "sub_numpy"
      ]
    },
    {
      "cell_type": "code",
      "execution_count": null,
      "metadata": {
        "id": "ADDnDqiuu-hn"
      },
      "outputs": [],
      "source": [
        "sub_df = pd.DataFrame(sub_numpy, columns=['id', 'target'])\n",
        "sub_df.head()"
      ]
    },
    {
      "cell_type": "code",
      "execution_count": 20,
      "metadata": {
        "colab": {
          "base_uri": "https://localhost:8080/",
          "height": 173
        },
        "id": "2lo-k1DR2dO5",
        "outputId": "be71aaf5-7d94-42ec-cead-c364fea4121b"
      },
      "outputs": [
        {
          "ename": "NameError",
          "evalue": "ignored",
          "output_type": "error",
          "traceback": [
            "\u001b[0;31m---------------------------------------------------------------------------\u001b[0m",
            "\u001b[0;31mNameError\u001b[0m                                 Traceback (most recent call last)",
            "\u001b[0;32m<ipython-input-20-e2ad3013412f>\u001b[0m in \u001b[0;36m<module>\u001b[0;34m()\u001b[0m\n\u001b[0;32m----> 1\u001b[0;31m \u001b[0msub_df\u001b[0m \u001b[0;34m=\u001b[0m \u001b[0msub_df\u001b[0m\u001b[0;34m.\u001b[0m\u001b[0mastype\u001b[0m\u001b[0;34m(\u001b[0m\u001b[0;34m{\u001b[0m\u001b[0;34m'id'\u001b[0m\u001b[0;34m:\u001b[0m\u001b[0;34m'int'\u001b[0m\u001b[0;34m}\u001b[0m\u001b[0;34m)\u001b[0m\u001b[0;34m\u001b[0m\u001b[0;34m\u001b[0m\u001b[0m\n\u001b[0m",
            "\u001b[0;31mNameError\u001b[0m: name 'sub_df' is not defined"
          ]
        }
      ],
      "source": [
        "sub_df = sub_df.astype({'id':'int'})"
      ]
    },
    {
      "cell_type": "code",
      "execution_count": null,
      "metadata": {
        "id": "fFNrILwt2gQM"
      },
      "outputs": [],
      "source": [
        "sub_df.head()"
      ]
    },
    {
      "cell_type": "code",
      "execution_count": null,
      "metadata": {
        "id": "70TzrGnsvomH"
      },
      "outputs": [],
      "source": [
        "sub_df.to_csv('submission.csv', index=False)"
      ]
    },
    {
      "cell_type": "code",
      "execution_count": 20,
      "metadata": {
        "id": "NDQKRnwXxuBH"
      },
      "outputs": [],
      "source": []
    }
  ],
  "metadata": {
    "accelerator": "GPU",
    "colab": {
      "authorship_tag": "ABX9TyNzpA4GjMr3JPsKCVqEe33G",
      "collapsed_sections": [],
      "include_colab_link": true,
      "machine_shape": "hm",
      "name": "dacon_house price prediction.ipynb",
      "provenance": []
    },
    "kernelspec": {
      "display_name": "Python 3",
      "name": "python3"
    },
    "language_info": {
      "codemirror_mode": {
        "name": "ipython",
        "version": 3
      },
      "file_extension": ".py",
      "mimetype": "text/x-python",
      "name": "python",
      "nbconvert_exporter": "python",
      "pygments_lexer": "ipython3",
      "version": "3.9.7"
    }
  },
  "nbformat": 4,
  "nbformat_minor": 0
}
