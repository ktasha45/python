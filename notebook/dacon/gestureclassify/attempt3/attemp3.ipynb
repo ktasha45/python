{
 "cells": [
  {
   "cell_type": "code",
   "execution_count": 34,
   "metadata": {},
   "outputs": [],
   "source": [
    "import torch\n",
    "import pandas as pd\n",
    "import numpy as np\n",
    "import os\n",
    "import tqdm\n",
    "import pytorch_lightning as pl\n",
    "import torchmetrics\n",
    "from torchsummary import summary\n",
    "from matplotlib import pyplot as plt\n",
    "from pytorch_lightning.core.lightning import LightningModule\n",
    "from torch import nn"
   ]
  },
  {
   "cell_type": "code",
   "execution_count": 3,
   "metadata": {},
   "outputs": [
    {
     "data": {
      "text/plain": [
       "'0.11.3'"
      ]
     },
     "execution_count": 3,
     "metadata": {},
     "output_type": "execute_result"
    }
   ],
   "source": [
    "import torchvision\n",
    "torchvision.__version__"
   ]
  },
  {
   "cell_type": "code",
   "execution_count": 4,
   "metadata": {},
   "outputs": [
    {
     "name": "stdout",
     "output_type": "stream",
     "text": [
      "1.10.2\n",
      "cuda\n",
      "NVIDIA GeForce MX250\n"
     ]
    }
   ],
   "source": [
    "print(torch.__version__)\n",
    "\n",
    "device = 'cuda' if torch.cuda.is_available() else 'cpu'\n",
    "print(device)\n",
    "print(torch.cuda.get_device_name(0))"
   ]
  },
  {
   "cell_type": "code",
   "execution_count": 32,
   "metadata": {},
   "outputs": [],
   "source": [
    "class model(LightningModule):\n",
    "    def __init__(self):\n",
    "        super().__init__()\n",
    "        self.loss_fn = nn.CrossEntropyLoss().to(device)\n",
    "        # self.metrics = torchmetrics.functional.accuracy()\n",
    "        self.net = nn.Sequential(\n",
    "            nn.Linear(32, 16),\n",
    "            nn.BatchNorm1d(16),\n",
    "            nn.ReLU(inplace=True),\n",
    "\n",
    "            nn.Linear(16, 8),\n",
    "            nn.BatchNorm1d(8),\n",
    "            nn.ReLU(inplace=True),\n",
    "            \n",
    "            nn.Linear(8, 8),\n",
    "            nn.BatchNorm1d(8),\n",
    "            nn.ReLU(inplace=True),\n",
    "            nn.Dropout(0,7),\n",
    "\n",
    "            nn.Linear(8, 4)\n",
    "        ).to(device)\n",
    "\n",
    "    def forawrd(self, x):\n",
    "        return self.net(x)\n",
    "    \n",
    "    def training_step(self, batch, batch_idx):\n",
    "        x = batch[:, :32].to(device)\n",
    "        target = batch[:, 32].to(torch.int64).to(device)\n",
    "        pred = self.forawrd(x)\n",
    "        loss = self.loss_fn(pred, target)\n",
    "        acc = torchmetrics.functional.accuracy(pred, target)\n",
    "\n",
    "        self.log(\"train_acc\", acc, on_step=True, on_epoch=True, prog_bar=True, logger=True)\n",
    "        self.log(\"train_loss\", loss, on_step=True, on_epoch=True, prog_bar=True, logger=True)\n",
    "        return {\"loss\" : loss, \"acc\" : acc}\n",
    "    \n",
    "    def validation_step(self, batch, batch_idx):\n",
    "        x = batch[:, :32].to(device)\n",
    "        target = batch[:, 32].to(torch.int64).to(device)\n",
    "        pred = self.net(x)\n",
    "        loss = self.loss_fn(pred, target)\n",
    "        acc = torchmetrics.functional.accuracy(pred, target)\n",
    "        \n",
    "        self.log(\"valid_acc\", acc, on_step=True, on_epoch=True, prog_bar=True, logger=True)\n",
    "        self.log(\"valid_loss\", loss, on_step=True, on_epoch=True, prog_bar=True, logger=True)\n",
    "        return {\"loss\" : loss, \"acc\" : acc}\n",
    "\n",
    "    def configure_optimizers(self):\n",
    "        return torch.optim.Adam(self.parameters(), lr=0.001)"
   ]
  },
  {
   "cell_type": "code",
   "execution_count": 6,
   "metadata": {},
   "outputs": [],
   "source": [
    "def create_datasets(batch_size):\n",
    "    valid_size = 0.2\n",
    "\n",
    "    # torch.FloatTensor로 변환\n",
    "    train_csv = pd.read_csv('../data/train.csv')\n",
    "    test_csv = pd.read_csv('../data/test.csv')\n",
    "\n",
    "    train_data = torch.tensor(train_csv.to_numpy()[:, 1:]).float()\n",
    "    test_data = torch.tensor(test_csv.to_numpy()[:, 1:]).float()\n",
    "\n",
    "    # validation으로 사용할 trainning indices를 얻는다.\n",
    "    num_train = len(train_data)\n",
    "    indices = list(range(num_train))\n",
    "    np.random.shuffle(indices)\n",
    "    split = np.int32(np.floor(valid_size * num_train))\n",
    "    train_idx, valid_idx = indices[split:], indices[:split]\n",
    "\n",
    "    vaild_data = train_data[valid_idx]\n",
    "    train_data = train_data[train_idx]\n",
    "    # train_sampler = SubsetRandomSampler(train_idx)\n",
    "    # valid_sampler = SubsetRandomSampler(valid_idx)\n",
    "\n",
    "    # load training data in batches\n",
    "    train_loader = torch.utils.data.DataLoader(train_data,\n",
    "                                               batch_size=batch_size,\n",
    "                                            #    sampler=train_sampler,\n",
    "                                               num_workers=0)\n",
    "\n",
    "    # load validation data in batches\n",
    "    valid_loader = torch.utils.data.DataLoader(train_data,\n",
    "                                               batch_size=batch_size,\n",
    "                                            #    sampler=valid_sampler,\n",
    "                                               num_workers=0)\n",
    "\n",
    "    # load test data in batches\n",
    "    test_loader = torch.utils.data.DataLoader(test_data,\n",
    "                                              batch_size=batch_size,\n",
    "                                              num_workers=0)\n",
    "\n",
    "    return train_loader, test_loader, valid_loader\n"
   ]
  },
  {
   "cell_type": "code",
   "execution_count": 33,
   "metadata": {},
   "outputs": [
    {
     "name": "stderr",
     "output_type": "stream",
     "text": [
      "GPU available: True, used: True\n",
      "TPU available: False, using: 0 TPU cores\n",
      "IPU available: False, using: 0 IPUs\n",
      "LOCAL_RANK: 0 - CUDA_VISIBLE_DEVICES: [0]\n",
      "\n",
      "  | Name    | Type             | Params\n",
      "---------------------------------------------\n",
      "0 | loss_fn | CrossEntropyLoss | 0     \n",
      "1 | net     | Sequential       | 836   \n",
      "---------------------------------------------\n",
      "836       Trainable params\n",
      "0         Non-trainable params\n",
      "836       Total params\n",
      "0.003     Total estimated model params size (MB)\n"
     ]
    },
    {
     "name": "stdout",
     "output_type": "stream",
     "text": [
      "                                                              "
     ]
    },
    {
     "name": "stderr",
     "output_type": "stream",
     "text": [
      "C:\\Users\\ktash\\.conda\\envs\\pytorch\\lib\\site-packages\\pytorch_lightning\\trainer\\data_loading.py:132: UserWarning: The dataloader, val_dataloader 0, does not have many workers which may be a bottleneck. Consider increasing the value of the `num_workers` argument` (try 8 which is the number of cpus on this machine) in the `DataLoader` init to improve performance.\n",
      "  rank_zero_warn(\n",
      "C:\\Users\\ktash\\.conda\\envs\\pytorch\\lib\\site-packages\\pytorch_lightning\\trainer\\data_loading.py:132: UserWarning: The dataloader, train_dataloader, does not have many workers which may be a bottleneck. Consider increasing the value of the `num_workers` argument` (try 8 which is the number of cpus on this machine) in the `DataLoader` init to improve performance.\n",
      "  rank_zero_warn(\n",
      "C:\\Users\\ktash\\.conda\\envs\\pytorch\\lib\\site-packages\\pytorch_lightning\\trainer\\data_loading.py:432: UserWarning: The number of training samples (30) is smaller than the logging interval Trainer(log_every_n_steps=50). Set a lower value for log_every_n_steps if you want to see logs for the training epoch.\n",
      "  rank_zero_warn(\n"
     ]
    },
    {
     "name": "stdout",
     "output_type": "stream",
     "text": [
      "Epoch 0: 100%|██████████| 60/60 [00:02<00:00, 28.17it/s, loss=1.43, v_num=5, train_acc_step=0.500, train_loss_step=1.280, valid_acc_step=0.417, valid_loss_step=1.280, valid_acc_epoch=0.251, valid_loss_epoch=1.400]"
     ]
    },
    {
     "name": "stderr",
     "output_type": "stream",
     "text": [
      "Metric valid_loss improved. New best score: 1.401\n"
     ]
    },
    {
     "name": "stdout",
     "output_type": "stream",
     "text": [
      "Epoch 1: 100%|██████████| 60/60 [00:01<00:00, 32.87it/s, loss=1.38, v_num=5, train_acc_step=0.583, train_loss_step=1.220, valid_acc_step=0.583, valid_loss_step=1.220, valid_acc_epoch=0.288, valid_loss_epoch=1.370, train_acc_epoch=0.210, train_loss_epoch=1.440]"
     ]
    },
    {
     "name": "stderr",
     "output_type": "stream",
     "text": [
      "Metric valid_loss improved by 0.032 >= min_delta = 0.0. New best score: 1.368\n"
     ]
    },
    {
     "name": "stdout",
     "output_type": "stream",
     "text": [
      "Epoch 2: 100%|██████████| 60/60 [00:02<00:00, 27.01it/s, loss=1.35, v_num=5, train_acc_step=0.583, train_loss_step=1.180, valid_acc_step=0.667, valid_loss_step=1.210, valid_acc_epoch=0.336, valid_loss_epoch=1.340, train_acc_epoch=0.270, train_loss_epoch=1.390]"
     ]
    },
    {
     "name": "stderr",
     "output_type": "stream",
     "text": [
      "Metric valid_loss improved by 0.028 >= min_delta = 0.0. New best score: 1.340\n"
     ]
    },
    {
     "name": "stdout",
     "output_type": "stream",
     "text": [
      "Epoch 3: 100%|██████████| 60/60 [00:01<00:00, 37.34it/s, loss=1.32, v_num=5, train_acc_step=0.750, train_loss_step=1.130, valid_acc_step=0.667, valid_loss_step=1.180, valid_acc_epoch=0.392, valid_loss_epoch=1.310, train_acc_epoch=0.322, train_loss_epoch=1.360]"
     ]
    },
    {
     "name": "stderr",
     "output_type": "stream",
     "text": [
      "Metric valid_loss improved by 0.028 >= min_delta = 0.0. New best score: 1.312\n"
     ]
    },
    {
     "name": "stdout",
     "output_type": "stream",
     "text": [
      "Epoch 4: 100%|██████████| 60/60 [00:02<00:00, 28.43it/s, loss=1.29, v_num=5, train_acc_step=0.750, train_loss_step=1.060, valid_acc_step=0.667, valid_loss_step=1.140, valid_acc_epoch=0.438, valid_loss_epoch=1.280, train_acc_epoch=0.371, train_loss_epoch=1.330]"
     ]
    },
    {
     "name": "stderr",
     "output_type": "stream",
     "text": [
      "Metric valid_loss improved by 0.031 >= min_delta = 0.0. New best score: 1.281\n"
     ]
    },
    {
     "name": "stdout",
     "output_type": "stream",
     "text": [
      "Epoch 5: 100%|██████████| 60/60 [00:01<00:00, 38.41it/s, loss=1.26, v_num=5, train_acc_step=0.833, train_loss_step=1.020, valid_acc_step=0.750, valid_loss_step=1.100, valid_acc_epoch=0.469, valid_loss_epoch=1.250, train_acc_epoch=0.419, train_loss_epoch=1.300]"
     ]
    },
    {
     "name": "stderr",
     "output_type": "stream",
     "text": [
      "Metric valid_loss improved by 0.033 >= min_delta = 0.0. New best score: 1.248\n"
     ]
    },
    {
     "name": "stdout",
     "output_type": "stream",
     "text": [
      "Epoch 6: 100%|██████████| 60/60 [00:01<00:00, 34.98it/s, loss=1.22, v_num=5, train_acc_step=0.833, train_loss_step=0.993, valid_acc_step=0.667, valid_loss_step=1.060, valid_acc_epoch=0.491, valid_loss_epoch=1.210, train_acc_epoch=0.445, train_loss_epoch=1.270]"
     ]
    },
    {
     "name": "stderr",
     "output_type": "stream",
     "text": [
      "Metric valid_loss improved by 0.035 >= min_delta = 0.0. New best score: 1.213\n"
     ]
    },
    {
     "name": "stdout",
     "output_type": "stream",
     "text": [
      "Epoch 7: 100%|██████████| 60/60 [00:01<00:00, 40.80it/s, loss=1.19, v_num=5, train_acc_step=0.833, train_loss_step=0.956, valid_acc_step=0.667, valid_loss_step=0.996, valid_acc_epoch=0.512, valid_loss_epoch=1.180, train_acc_epoch=0.475, train_loss_epoch=1.240]"
     ]
    },
    {
     "name": "stderr",
     "output_type": "stream",
     "text": [
      "Metric valid_loss improved by 0.036 >= min_delta = 0.0. New best score: 1.176\n"
     ]
    },
    {
     "name": "stdout",
     "output_type": "stream",
     "text": [
      "Epoch 8: 100%|██████████| 60/60 [00:02<00:00, 28.16it/s, loss=1.15, v_num=5, train_acc_step=0.833, train_loss_step=0.910, valid_acc_step=0.750, valid_loss_step=0.936, valid_acc_epoch=0.537, valid_loss_epoch=1.140, train_acc_epoch=0.503, train_loss_epoch=1.200]"
     ]
    },
    {
     "name": "stderr",
     "output_type": "stream",
     "text": [
      "Metric valid_loss improved by 0.038 >= min_delta = 0.0. New best score: 1.138\n"
     ]
    },
    {
     "name": "stdout",
     "output_type": "stream",
     "text": [
      "Epoch 9: 100%|██████████| 60/60 [00:02<00:00, 24.88it/s, loss=1.11, v_num=5, train_acc_step=0.917, train_loss_step=0.825, valid_acc_step=0.750, valid_loss_step=0.875, valid_acc_epoch=0.561, valid_loss_epoch=1.100, train_acc_epoch=0.519, train_loss_epoch=1.170]"
     ]
    },
    {
     "name": "stderr",
     "output_type": "stream",
     "text": [
      "Metric valid_loss improved by 0.041 >= min_delta = 0.0. New best score: 1.097\n"
     ]
    },
    {
     "name": "stdout",
     "output_type": "stream",
     "text": [
      "Epoch 10: 100%|██████████| 60/60 [00:02<00:00, 28.32it/s, loss=1.07, v_num=5, train_acc_step=0.833, train_loss_step=0.801, valid_acc_step=0.750, valid_loss_step=0.836, valid_acc_epoch=0.575, valid_loss_epoch=1.060, train_acc_epoch=0.534, train_loss_epoch=1.130]"
     ]
    },
    {
     "name": "stderr",
     "output_type": "stream",
     "text": [
      "Metric valid_loss improved by 0.038 >= min_delta = 0.0. New best score: 1.059\n"
     ]
    },
    {
     "name": "stdout",
     "output_type": "stream",
     "text": [
      "Epoch 11:  50%|█████     | 30/60 [00:01<00:01, 25.34it/s, loss=1.03, v_num=5, train_acc_step=0.833, train_loss_step=0.742, valid_acc_step=0.750, valid_loss_step=0.836, valid_acc_epoch=0.575, valid_loss_epoch=1.060, train_acc_epoch=0.557, train_loss_epoch=1.090]"
     ]
    },
    {
     "name": "stderr",
     "output_type": "stream",
     "text": [
      "C:\\Users\\ktash\\.conda\\envs\\pytorch\\lib\\site-packages\\pytorch_lightning\\trainer\\trainer.py:688: UserWarning: Detected KeyboardInterrupt, attempting graceful shutdown...\n",
      "  rank_zero_warn(\"Detected KeyboardInterrupt, attempting graceful shutdown...\")\n"
     ]
    },
    {
     "name": "stdout",
     "output_type": "stream",
     "text": [
      "Epoch 11:  55%|█████▌    | 33/60 [00:19<00:15,  1.72it/s, loss=1.03, v_num=5, train_acc_step=0.833, train_loss_step=0.742, valid_acc_step=0.750, valid_loss_step=0.836, valid_acc_epoch=0.575, valid_loss_epoch=1.060, train_acc_epoch=0.557, train_loss_epoch=1.090]"
     ]
    }
   ],
   "source": [
    "batch_size = 64\n",
    "train_loader, test_loader, valid_loader = create_datasets(batch_size)\n",
    "\n",
    "model_nn = model()\n",
    "n_epochs = 500\n",
    "\n",
    "# training\n",
    "from pytorch_lightning.callbacks.early_stopping import EarlyStopping\n",
    "\n",
    "earlyStopping = EarlyStopping(monitor=\"valid_loss\", min_delta=0.00, patience=5, verbose=True, mode=\"min\")\n",
    "trainer = pl.Trainer(max_epochs=n_epochs, gpus=1, callbacks=[earlyStopping])\n",
    "trainer.fit(model_nn, train_loader, valid_loader)"
   ]
  },
  {
   "cell_type": "code",
   "execution_count": 1,
   "metadata": {},
   "outputs": [
    {
     "ename": "SyntaxError",
     "evalue": "invalid syntax (2012125320.py, line 1)",
     "output_type": "error",
     "traceback": [
      "\u001b[1;36m  Input \u001b[1;32mIn [1]\u001b[1;36m\u001b[0m\n\u001b[1;33m    Launch Tensorboard\u001b[0m\n\u001b[1;37m           ^\u001b[0m\n\u001b[1;31mSyntaxError\u001b[0m\u001b[1;31m:\u001b[0m invalid syntax\n"
     ]
    }
   ],
   "source": [
    "import tensorboard"
   ]
  },
  {
   "cell_type": "code",
   "execution_count": 31,
   "metadata": {},
   "outputs": [],
   "source": [
    "import pandas as pd\n",
    "\n",
    "sample_submission = pd.read_csv('../data/sample_submission.csv')\n",
    "\n",
    "batch_index = 0\n",
    "\n",
    "for i, data in enumerate(test_loader):\n",
    "    data = data.float()\n",
    "    outputs = model_nn.forawrd(data)\n",
    "    batch_index = i * batch_size\n",
    "    max_vals, max_indices = torch.max(outputs, 1)\n",
    "    sample_submission.iloc[batch_index:batch_index + batch_size, 1:] = max_indices.long().cpu().numpy()[:,np.newaxis]\n",
    "\n",
    "sample_submission.to_csv('dacon_object_1.csv', index=False)"
   ]
  },
  {
   "cell_type": "markdown",
   "metadata": {},
   "source": [
    "# 0.58\n",
    "일단 lightning에 적응해야 한다.  \n",
    "속성 데이터로서는 이정도로 마무리하고, cnn으로 85 정도 정확도를 얻고 다시 생각해보자.\n"
   ]
  },
  {
   "cell_type": "markdown",
   "metadata": {},
   "source": []
  }
 ],
 "metadata": {
  "interpreter": {
   "hash": "5b56c85b99612cd17cac5581c56effa9708fc39132bdc4a947ab30c245c89427"
  },
  "kernelspec": {
   "display_name": "Python 3 (ipykernel)",
   "language": "python",
   "name": "python3"
  },
  "language_info": {
   "codemirror_mode": {
    "name": "ipython",
    "version": 3
   },
   "file_extension": ".py",
   "mimetype": "text/x-python",
   "name": "python",
   "nbconvert_exporter": "python",
   "pygments_lexer": "ipython3",
   "version": "3.9.7"
  }
 },
 "nbformat": 4,
 "nbformat_minor": 2
}
