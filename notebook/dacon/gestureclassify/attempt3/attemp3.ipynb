{
 "cells": [
  {
   "cell_type": "code",
   "execution_count": 15,
   "metadata": {},
   "outputs": [],
   "source": [
    "import torch\n",
    "import pandas as pd\n",
    "import numpy as np\n",
    "import os\n",
    "import tqdm\n",
    "import pytorch_lightning as pl\n",
    "from torchsummary import summary\n",
    "from matplotlib import pyplot as plt\n",
    "from pytorch_lightning.core.lightning import LightningModule\n",
    "from torch import nn"
   ]
  },
  {
   "cell_type": "code",
   "execution_count": 4,
   "metadata": {},
   "outputs": [
    {
     "data": {
      "text/plain": [
       "'0.11.3'"
      ]
     },
     "execution_count": 4,
     "metadata": {},
     "output_type": "execute_result"
    }
   ],
   "source": [
    "import torchvision\n",
    "torchvision.__version__"
   ]
  },
  {
   "cell_type": "code",
   "execution_count": 5,
   "metadata": {},
   "outputs": [
    {
     "name": "stdout",
     "output_type": "stream",
     "text": [
      "1.10.2\n",
      "cuda\n",
      "NVIDIA GeForce MX250\n"
     ]
    }
   ],
   "source": [
    "print(torch.__version__)\n",
    "\n",
    "device = 'cuda' if torch.cuda.is_available() else 'cpu'\n",
    "print(device)\n",
    "print(torch.cuda.get_device_name(0))"
   ]
  },
  {
   "cell_type": "code",
   "execution_count": 6,
   "metadata": {},
   "outputs": [],
   "source": [
    "import torchmetrics"
   ]
  },
  {
   "cell_type": "code",
   "execution_count": 39,
   "metadata": {},
   "outputs": [],
   "source": [
    "from torch.optim import Adam"
   ]
  },
  {
   "cell_type": "code",
   "execution_count": 70,
   "metadata": {},
   "outputs": [],
   "source": [
    "class model(LightningModule):\n",
    "    def __init__(self):\n",
    "        super().__init__()\n",
    "        self.loss_fn = nn.CrossEntropyLoss().to(device)\n",
    "        # self.metrics = torchmetrics.functional.accuracy()\n",
    "        self.net = nn.Sequential(\n",
    "            nn.Linear(32, 16),\n",
    "            nn.BatchNorm1d(16),\n",
    "            nn.ReLU(inplace=True),\n",
    "\n",
    "            nn.Linear(16, 8),\n",
    "            nn.BatchNorm1d(8),\n",
    "            nn.ReLU(inplace=True),\n",
    "            \n",
    "            nn.Linear(8, 4)\n",
    "        ).to(device)\n",
    "\n",
    "    def forawrd(self, x):\n",
    "        return self.net(x)\n",
    "    \n",
    "    def training_step(self, batch, batch_idx):\n",
    "        x = batch[:, :32] \n",
    "        target = batch[:, 32].to(torch.int64)\n",
    "        pred = self.forawrd(x)\n",
    "        loss = self.loss_fn(pred, target)\n",
    "        acc = torchmetrics.functional.accuracy(pred, target)\n",
    "\n",
    "        self.log(\"train_acc\", acc, on_step=True, on_epoch=True, prog_bar=True, logger=True)\n",
    "        self.log(\"train_loss\", loss, on_step=True, on_epoch=True, prog_bar=True, logger=True)\n",
    "        return {\"loss\" : loss, \"acc\" : acc}\n",
    "    \n",
    "    # def validation_step(self, batch, batch_idx):\n",
    "    #     x, target = batch\n",
    "    #     pred = self.net(x)\n",
    "    #     loss = self.loss_fn(pred, target)\n",
    "    #     acc = torchmetrics.functional.accuracy()(pred, target)\n",
    "        \n",
    "    #     self.log(\"valid_acc\", acc, on_step=True, on_epoch=True, prog_bar=True, logger=True)\n",
    "    #     self.log(\"valid_loss\", loss, on_step=True, on_epoch=True, prog_bar=True, logger=True)\n",
    "    #     {\"loss\" : loss, \"acc\" : acc}\n",
    "\n",
    "    def configure_optimizers(self):\n",
    "        return Adam(self.parameters(), lr=0.002)"
   ]
  },
  {
   "cell_type": "code",
   "execution_count": 54,
   "metadata": {},
   "outputs": [],
   "source": [
    "def create_datasets(batch_size):\n",
    "    valid_size = 0.2\n",
    "\n",
    "    # torch.FloatTensor로 변환\n",
    "    train_csv = pd.read_csv('../data/train.csv')\n",
    "    test_csv = pd.read_csv('../data/test.csv')\n",
    "\n",
    "    train_data = torch.tensor(train_csv.to_numpy()[:, 1:]).float()\n",
    "    test_data = torch.tensor(test_csv.to_numpy()[:, 1:]).float()\n",
    "\n",
    "    # validation으로 사용할 trainning indices를 얻는다.\n",
    "    num_train = len(train_data)\n",
    "    indices = list(range(num_train))\n",
    "    np.random.shuffle(indices)\n",
    "    split = np.int32(np.floor(valid_size * num_train))\n",
    "    train_idx, valid_idx = indices[split:], indices[:split]\n",
    "\n",
    "    vaild_data = train_data[valid_idx]\n",
    "    train_data = train_data[train_idx]\n",
    "    # train_sampler = SubsetRandomSampler(train_idx)\n",
    "    # valid_sampler = SubsetRandomSampler(valid_idx)\n",
    "\n",
    "    # load training data in batches\n",
    "    train_loader = torch.utils.data.DataLoader(train_data,\n",
    "                                               batch_size=batch_size,\n",
    "                                            #    sampler=train_sampler,\n",
    "                                               num_workers=0)\n",
    "\n",
    "    # load validation data in batches\n",
    "    valid_loader = torch.utils.data.DataLoader(train_data,\n",
    "                                               batch_size=batch_size,\n",
    "                                            #    sampler=valid_sampler,\n",
    "                                               num_workers=0)\n",
    "\n",
    "    # load test data in batches\n",
    "    test_loader = torch.utils.data.DataLoader(test_data,\n",
    "                                              batch_size=batch_size,\n",
    "                                              num_workers=0)\n",
    "\n",
    "    return train_loader, test_loader, valid_loader\n"
   ]
  },
  {
   "cell_type": "code",
   "execution_count": 55,
   "metadata": {},
   "outputs": [],
   "source": [
    "batch_size = 64\n",
    "\n",
    "train_loader, test_loader, valid_loader = create_datasets(batch_size)"
   ]
  },
  {
   "cell_type": "code",
   "execution_count": 71,
   "metadata": {},
   "outputs": [
    {
     "name": "stderr",
     "output_type": "stream",
     "text": [
      "GPU available: True, used: True\n",
      "TPU available: False, using: 0 TPU cores\n",
      "IPU available: False, using: 0 IPUs\n",
      "LOCAL_RANK: 0 - CUDA_VISIBLE_DEVICES: [0]\n",
      "\n",
      "  | Name    | Type             | Params\n",
      "---------------------------------------------\n",
      "0 | loss_fn | CrossEntropyLoss | 0     \n",
      "1 | net     | Sequential       | 748   \n",
      "---------------------------------------------\n",
      "748       Trainable params\n",
      "0         Non-trainable params\n",
      "748       Total params\n",
      "0.003     Total estimated model params size (MB)\n",
      "C:\\Users\\ktash\\.conda\\envs\\pytorch\\lib\\site-packages\\pytorch_lightning\\trainer\\data_loading.py:132: UserWarning: The dataloader, train_dataloader, does not have many workers which may be a bottleneck. Consider increasing the value of the `num_workers` argument` (try 8 which is the number of cpus on this machine) in the `DataLoader` init to improve performance.\n",
      "  rank_zero_warn(\n",
      "C:\\Users\\ktash\\.conda\\envs\\pytorch\\lib\\site-packages\\pytorch_lightning\\trainer\\data_loading.py:432: UserWarning: The number of training samples (30) is smaller than the logging interval Trainer(log_every_n_steps=50). Set a lower value for log_every_n_steps if you want to see logs for the training epoch.\n",
      "  rank_zero_warn(\n"
     ]
    },
    {
     "name": "stdout",
     "output_type": "stream",
     "text": [
      "Epoch 49: 100%|██████████| 30/30 [00:00<00:00, 34.66it/s, loss=0.369, v_num=8, train_acc_step=1.000, train_loss_step=0.0905, train_acc_epoch=0.851, train_loss_epoch=0.404]\n"
     ]
    }
   ],
   "source": [
    "model_nn = model()\n",
    "n_epochs = 50\n",
    "\n",
    "# training\n",
    "trainer = pl.Trainer(max_epochs=n_epochs, gpus=1)\n",
    "trainer.fit(model_nn, train_loader)"
   ]
  },
  {
   "cell_type": "code",
   "execution_count": null,
   "metadata": {},
   "outputs": [],
   "source": []
  },
  {
   "cell_type": "code",
   "execution_count": null,
   "metadata": {},
   "outputs": [],
   "source": []
  }
 ],
 "metadata": {
  "interpreter": {
   "hash": "5b56c85b99612cd17cac5581c56effa9708fc39132bdc4a947ab30c245c89427"
  },
  "kernelspec": {
   "display_name": "Python 3.9.7 ('pytorch')",
   "language": "python",
   "name": "python3"
  },
  "language_info": {
   "codemirror_mode": {
    "name": "ipython",
    "version": 3
   },
   "file_extension": ".py",
   "mimetype": "text/x-python",
   "name": "python",
   "nbconvert_exporter": "python",
   "pygments_lexer": "ipython3",
   "version": "3.9.7"
  },
  "orig_nbformat": 4
 },
 "nbformat": 4,
 "nbformat_minor": 2
}
