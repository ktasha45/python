{
 "cells": [
  {
   "cell_type": "code",
   "execution_count": 1,
   "metadata": {},
   "outputs": [],
   "source": [
    "import numpy as np\n",
    "import pandas as pd\n",
    "import matplotlib.pyplot as plt\n",
    "import tensorflow as tf\n",
    "from sklearn.model_selection import train_test_split"
   ]
  },
  {
   "cell_type": "code",
   "execution_count": 2,
   "metadata": {},
   "outputs": [
    {
     "data": {
      "text/plain": [
       "[name: \"/device:CPU:0\"\n",
       " device_type: \"CPU\"\n",
       " memory_limit: 268435456\n",
       " locality {\n",
       " }\n",
       " incarnation: 8497367566893141538,\n",
       " name: \"/device:GPU:0\"\n",
       " device_type: \"GPU\"\n",
       " memory_limit: 10078846976\n",
       " locality {\n",
       "   bus_id: 1\n",
       "   links {\n",
       "   }\n",
       " }\n",
       " incarnation: 17531116108437281717\n",
       " physical_device_desc: \"device: 0, name: NVIDIA GeForce RTX 3060, pci bus id: 0000:01:00.0, compute capability: 8.6\"]"
      ]
     },
     "execution_count": 2,
     "metadata": {},
     "output_type": "execute_result"
    }
   ],
   "source": [
    "from tensorflow.python.client import device_lib\n",
    "device_lib.list_local_devices()"
   ]
  },
  {
   "cell_type": "code",
   "execution_count": 3,
   "metadata": {},
   "outputs": [
    {
     "data": {
      "text/plain": [
       "'2.5.0'"
      ]
     },
     "execution_count": 3,
     "metadata": {},
     "output_type": "execute_result"
    }
   ],
   "source": [
    "tf.__version__"
   ]
  },
  {
   "cell_type": "code",
   "execution_count": 4,
   "metadata": {},
   "outputs": [
    {
     "name": "stdout",
     "output_type": "stream",
     "text": [
      "[0. 1. 2. 3.]\n"
     ]
    }
   ],
   "source": [
    "train_X = pd.read_csv('../data/train.csv').to_numpy()[:, 1:33]\n",
    "train_Y = pd.read_csv('../data/train.csv').to_numpy()[:, 33]\n",
    "\n",
    "print(np.unique(train_Y))"
   ]
  },
  {
   "cell_type": "code",
   "execution_count": 5,
   "metadata": {},
   "outputs": [
    {
     "name": "stdout",
     "output_type": "stream",
     "text": [
      "[ -6.1494632   -0.92971357   9.05836761  -7.01785369  -2.95847138\n",
      "   0.179233    -0.95659101  -0.97240086   5.95621278   4.14563573\n",
      "  25.01764496  -4.06125365   0.99663162  -3.83734549 -13.95699405\n",
      "  -2.04295728   2.13020964  -1.95766247  -1.14993047   6.08202762\n",
      "   0.8786122    5.09310164  -6.06664753  -7.02643577  -6.00628223\n",
      "  -6.00583611   7.04308355  21.88465021  -3.06415192  -5.2475518\n",
      "  -6.02610749 -11.9908216 ]\n"
     ]
    },
    {
     "data": {
      "text/plain": [
       "<matplotlib.image.AxesImage at 0x255820da610>"
      ]
     },
     "execution_count": 5,
     "metadata": {},
     "output_type": "execute_result"
    },
    {
     "data": {
      "image/png": "[encoded data removed]",
      "text/plain": [
       "<Figure size 432x288 with 1 Axes>"
      ]
     },
     "metadata": {
      "needs_background": "light"
     },
     "output_type": "display_data"
    }
   ],
   "source": [
    "%matplotlib inline\n",
    "print(train_X[0])\n",
    "\n",
    "plt.imshow(train_X[0].reshape((8, 4)))"
   ]
  },
  {
   "cell_type": "code",
   "execution_count": 6,
   "metadata": {},
   "outputs": [
    {
     "name": "stdout",
     "output_type": "stream",
     "text": [
      "[-0.43776871  0.01283528  0.36702599 -0.44186102 -0.22958889  0.08241698\n",
      " -0.0607833  -0.00233294  0.56222051  0.65694049  0.99469012 -0.20766559\n",
      "  0.12516799 -0.40348996 -0.52742155 -0.05894667  0.26518511 -0.17375546\n",
      " -0.02196712  0.4230557   0.12480023  0.77306941 -0.22853245 -0.40354838\n",
      " -0.42254303 -0.72812096  0.27488664  1.43228101 -0.20089462 -0.59425977\n",
      " -0.21874098 -0.69014602]\n"
     ]
    },
    {
     "data": {
      "image/png": "[encoded data removed]",
      "text/plain": [
       "<Figure size 432x288 with 1 Axes>"
      ]
     },
     "metadata": {
      "needs_background": "light"
     },
     "output_type": "display_data"
    }
   ],
   "source": [
    "plt.hist(train_X[0])\n",
    "\n",
    "from sklearn.preprocessing import StandardScaler\n",
    "scaler = StandardScaler()\n",
    "train_X = scaler.fit_transform(train_X)\n",
    "\n",
    "print(train_X[0])"
   ]
  },
  {
   "cell_type": "code",
   "execution_count": 7,
   "metadata": {},
   "outputs": [
    {
     "data": {
      "text/plain": [
       "<matplotlib.image.AxesImage at 0x2558359ab80>"
      ]
     },
     "execution_count": 7,
     "metadata": {},
     "output_type": "execute_result"
    },
    {
     "data": {
      "image/png": "[encoded data removed]",
      "text/plain": [
       "<Figure size 432x288 with 1 Axes>"
      ]
     },
     "metadata": {
      "needs_background": "light"
     },
     "output_type": "display_data"
    }
   ],
   "source": [
    "plt.imshow(train_X[0].reshape((8, 4)))"
   ]
  },
  {
   "cell_type": "code",
   "execution_count": 8,
   "metadata": {},
   "outputs": [
    {
     "data": {
      "text/plain": [
       "(array([4., 5., 6., 8., 2., 3., 2., 1., 0., 1.]),\n",
       " array([-0.72812096, -0.51208076, -0.29604057, -0.08000037,  0.13603983,\n",
       "         0.35208002,  0.56812022,  0.78416042,  1.00020061,  1.21624081,\n",
       "         1.43228101]),\n",
       " <BarContainer object of 10 artists>)"
      ]
     },
     "execution_count": 8,
     "metadata": {},
     "output_type": "execute_result"
    },
    {
     "data": {
      "image/png": "[encoded data removed]",
      "text/plain": [
       "<Figure size 432x288 with 1 Axes>"
      ]
     },
     "metadata": {
      "needs_background": "light"
     },
     "output_type": "display_data"
    }
   ],
   "source": [
    "\n",
    "plt.hist(train_X[0])"
   ]
  },
  {
   "cell_type": "code",
   "execution_count": 9,
   "metadata": {},
   "outputs": [
    {
     "name": "stdout",
     "output_type": "stream",
     "text": [
      "(2335, 8, 4)\n",
      "(2335, 8, 4)\n"
     ]
    }
   ],
   "source": [
    "train_X = train_X.reshape(-1, 8, 4)\n",
    "train_X_add = np.zeros_like(train_X)\n",
    "print(train_X_add.shape)\n",
    "print(train_X.shape)"
   ]
  },
  {
   "cell_type": "code",
   "execution_count": 10,
   "metadata": {},
   "outputs": [],
   "source": [
    "# for j in range(8):\n",
    "#     train_X_add[:, j, :] = train_X[:, j, ::-1]\n",
    "\n",
    "# print(train_X_add[0].reshape((8, 4)))\n",
    "# print(train_X[0].reshape((8, 4)))\n",
    "\n",
    "# train_X = np.concatenate([train_X, train_X_add], axis=0)\n",
    "# train_Y = np.concatenate([train_Y, train_Y], axis=0)"
   ]
  },
  {
   "cell_type": "code",
   "execution_count": 11,
   "metadata": {},
   "outputs": [
    {
     "name": "stdout",
     "output_type": "stream",
     "text": [
      "(2335, 8, 4)\n",
      "(2335,)\n"
     ]
    }
   ],
   "source": [
    "print(train_X.shape)\n",
    "print(train_Y.shape)"
   ]
  },
  {
   "cell_type": "code",
   "execution_count": 12,
   "metadata": {},
   "outputs": [
    {
     "name": "stdout",
     "output_type": "stream",
     "text": [
      "[1. 1. 0. 1. 2. 2. 1. 2. 1. 3.]\n",
      "[]\n"
     ]
    }
   ],
   "source": [
    "print(train_Y[0:10])\n",
    "print(train_Y[0+2335:10+2335])"
   ]
  },
  {
   "cell_type": "code",
   "execution_count": 13,
   "metadata": {},
   "outputs": [],
   "source": [
    "# print(train_X[0])\n",
    "# print(train_X[2335])"
   ]
  },
  {
   "cell_type": "code",
   "execution_count": 14,
   "metadata": {},
   "outputs": [
    {
     "name": "stdout",
     "output_type": "stream",
     "text": [
      "(2335, 8, 4)\n",
      "(2335,)\n"
     ]
    }
   ],
   "source": [
    "print(train_X.shape)\n",
    "print(train_Y.shape)"
   ]
  },
  {
   "cell_type": "code",
   "execution_count": 15,
   "metadata": {},
   "outputs": [
    {
     "name": "stdout",
     "output_type": "stream",
     "text": [
      "(1401, 8, 4)\n",
      "(1401,)\n",
      "\n",
      "(467, 8, 4)\n",
      "(467,)\n",
      "\n",
      "(467, 8, 4)\n",
      "(467,)\n"
     ]
    }
   ],
   "source": [
    "train_x, x_test, train_y, y_test = train_test_split(train_X, train_Y, test_size=0.2, shuffle=True, stratify=train_Y, random_state=34)\n",
    "x_train, x_valid, y_train, y_valid = train_test_split(train_x, train_y, test_size=0.25, shuffle=True, stratify=train_y, random_state=40)\n",
    "\n",
    "print(x_train.shape)\n",
    "print(y_train.shape)\n",
    "print()\n",
    "print(x_valid.shape)\n",
    "print(y_valid.shape)\n",
    "print()\n",
    "print(x_test.shape)\n",
    "print(y_test.shape)"
   ]
  },
  {
   "cell_type": "code",
   "execution_count": 34,
   "metadata": {},
   "outputs": [
    {
     "name": "stdout",
     "output_type": "stream",
     "text": [
      "Model: \"sequential_7\"\n",
      "_________________________________________________________________\n",
      "Layer (type)                 Output Shape              Param #   \n",
      "=================================================================\n",
      "reshape_7 (Reshape)          (64, 1, 8, 4)             0         \n",
      "_________________________________________________________________\n",
      "conv2d_31 (Conv2D)           (64, 128, 8, 4)           640       \n",
      "_________________________________________________________________\n",
      "batch_normalization_45 (Batc (64, 128, 8, 4)           16        \n",
      "_________________________________________________________________\n",
      "dropout_52 (Dropout)         (64, 128, 8, 4)           0         \n",
      "_________________________________________________________________\n",
      "conv2d_32 (Conv2D)           (64, 256, 8, 4)           131328    \n",
      "_________________________________________________________________\n",
      "batch_normalization_46 (Batc (64, 256, 8, 4)           16        \n",
      "_________________________________________________________________\n",
      "dropout_53 (Dropout)         (64, 256, 8, 4)           0         \n",
      "_________________________________________________________________\n",
      "conv2d_33 (Conv2D)           (64, 256, 8, 4)           262400    \n",
      "_________________________________________________________________\n",
      "batch_normalization_47 (Batc (64, 256, 8, 4)           16        \n",
      "_________________________________________________________________\n",
      "dropout_54 (Dropout)         (64, 256, 8, 4)           0         \n",
      "_________________________________________________________________\n",
      "conv2d_34 (Conv2D)           (64, 256, 8, 4)           262400    \n",
      "_________________________________________________________________\n",
      "batch_normalization_48 (Batc (64, 256, 8, 4)           16        \n",
      "_________________________________________________________________\n",
      "dropout_55 (Dropout)         (64, 256, 8, 4)           0         \n",
      "_________________________________________________________________\n",
      "conv2d_35 (Conv2D)           (64, 256, 7, 3)           262400    \n",
      "_________________________________________________________________\n",
      "batch_normalization_49 (Batc (64, 256, 7, 3)           12        \n",
      "_________________________________________________________________\n",
      "dropout_56 (Dropout)         (64, 256, 7, 3)           0         \n",
      "_________________________________________________________________\n",
      "flatten_7 (Flatten)          (64, 5376)                0         \n",
      "_________________________________________________________________\n",
      "dropout_57 (Dropout)         (64, 5376)                0         \n",
      "_________________________________________________________________\n",
      "dense_21 (Dense)             (64, 1028)                5527556   \n",
      "_________________________________________________________________\n",
      "batch_normalization_50 (Batc (64, 1028)                4112      \n",
      "_________________________________________________________________\n",
      "dropout_58 (Dropout)         (64, 1028)                0         \n",
      "_________________________________________________________________\n",
      "dense_22 (Dense)             (64, 256)                 263424    \n",
      "_________________________________________________________________\n",
      "batch_normalization_51 (Batc (64, 256)                 1024      \n",
      "_________________________________________________________________\n",
      "dropout_59 (Dropout)         (64, 256)                 0         \n",
      "_________________________________________________________________\n",
      "dense_23 (Dense)             (64, 4)                   1028      \n",
      "=================================================================\n",
      "Total params: 6,716,388\n",
      "Trainable params: 6,713,782\n",
      "Non-trainable params: 2,606\n",
      "_________________________________________________________________\n",
      "Epoch 1/300\n",
      "WARNING:tensorflow:Model was constructed with shape (64, 1, 8, 4) for input KerasTensor(type_spec=TensorSpec(shape=(64, 1, 8, 4), dtype=tf.float32, name='input_8'), name='input_8', description=\"created by layer 'input_8'\"), but it was called on an input with incompatible shape (None, 8, 4).\n",
      "WARNING:tensorflow:Model was constructed with shape (64, 1, 8, 4) for input KerasTensor(type_spec=TensorSpec(shape=(64, 1, 8, 4), dtype=tf.float32, name='input_8'), name='input_8', description=\"created by layer 'input_8'\"), but it was called on an input with incompatible shape (None, 8, 4).\n",
      "21/22 [===========================>..] - ETA: 0s - loss: 1.9426 - accuracy: 0.3408WARNING:tensorflow:Model was constructed with shape (64, 1, 8, 4) for input KerasTensor(type_spec=TensorSpec(shape=(64, 1, 8, 4), dtype=tf.float32, name='input_8'), name='input_8', description=\"created by layer 'input_8'\"), but it was called on an input with incompatible shape (None, 8, 4).\n",
      "22/22 [==============================] - 2s 43ms/step - loss: 1.9367 - accuracy: 0.3398 - val_loss: 1.4746 - val_accuracy: 0.2463\n",
      "Epoch 2/300\n",
      "22/22 [==============================] - 1s 24ms/step - loss: 1.6981 - accuracy: 0.3940 - val_loss: 1.7157 - val_accuracy: 0.2463\n",
      "Epoch 3/300\n",
      "22/22 [==============================] - 1s 24ms/step - loss: 1.5105 - accuracy: 0.4111 - val_loss: 1.8761 - val_accuracy: 0.2463\n",
      "Epoch 4/300\n",
      "22/22 [==============================] - 1s 24ms/step - loss: 1.3755 - accuracy: 0.4611 - val_loss: 2.1757 - val_accuracy: 0.2463\n",
      "Epoch 5/300\n",
      "22/22 [==============================] - 1s 23ms/step - loss: 1.2817 - accuracy: 0.4775 - val_loss: 2.7697 - val_accuracy: 0.2463\n",
      "Epoch 6/300\n",
      "22/22 [==============================] - 1s 24ms/step - loss: 1.1646 - accuracy: 0.5261 - val_loss: 3.3921 - val_accuracy: 0.2463\n",
      "Epoch 7/300\n",
      "22/22 [==============================] - 1s 23ms/step - loss: 1.0851 - accuracy: 0.5603 - val_loss: 3.8055 - val_accuracy: 0.2463\n",
      "Epoch 8/300\n",
      "22/22 [==============================] - 1s 24ms/step - loss: 1.0532 - accuracy: 0.5774 - val_loss: 4.3612 - val_accuracy: 0.2463\n",
      "Epoch 9/300\n",
      "22/22 [==============================] - 1s 24ms/step - loss: 0.9427 - accuracy: 0.6324 - val_loss: 2.9473 - val_accuracy: 0.2741\n",
      "Epoch 10/300\n",
      "22/22 [==============================] - 1s 23ms/step - loss: 0.8131 - accuracy: 0.6824 - val_loss: 2.7368 - val_accuracy: 0.2848\n",
      "Epoch 11/300\n",
      "22/22 [==============================] - 1s 24ms/step - loss: 0.7916 - accuracy: 0.7173 - val_loss: 1.9823 - val_accuracy: 0.3940\n",
      "Epoch 12/300\n",
      "22/22 [==============================] - 1s 23ms/step - loss: 0.7266 - accuracy: 0.7252 - val_loss: 2.8433 - val_accuracy: 0.3662\n",
      "Epoch 13/300\n",
      "22/22 [==============================] - 1s 23ms/step - loss: 0.6412 - accuracy: 0.7609 - val_loss: 2.1738 - val_accuracy: 0.4154\n",
      "Epoch 14/300\n",
      "22/22 [==============================] - 1s 24ms/step - loss: 0.5975 - accuracy: 0.7709 - val_loss: 2.1908 - val_accuracy: 0.4133\n",
      "Epoch 15/300\n",
      "22/22 [==============================] - 1s 24ms/step - loss: 0.6441 - accuracy: 0.7695 - val_loss: 1.2514 - val_accuracy: 0.5782\n",
      "Epoch 16/300\n",
      "22/22 [==============================] - 1s 24ms/step - loss: 0.5567 - accuracy: 0.7951 - val_loss: 1.5201 - val_accuracy: 0.5460\n",
      "Epoch 17/300\n",
      "22/22 [==============================] - 1s 24ms/step - loss: 0.5478 - accuracy: 0.7966 - val_loss: 1.0638 - val_accuracy: 0.6017\n",
      "Epoch 18/300\n",
      "22/22 [==============================] - 0s 22ms/step - loss: 0.4935 - accuracy: 0.8216 - val_loss: 1.1605 - val_accuracy: 0.6317\n",
      "Epoch 19/300\n",
      "22/22 [==============================] - 0s 22ms/step - loss: 0.4941 - accuracy: 0.8244 - val_loss: 0.9191 - val_accuracy: 0.6916\n",
      "Epoch 20/300\n",
      "22/22 [==============================] - 1s 23ms/step - loss: 0.4722 - accuracy: 0.8351 - val_loss: 0.7082 - val_accuracy: 0.7559\n",
      "Epoch 21/300\n",
      "22/22 [==============================] - 1s 25ms/step - loss: 0.4995 - accuracy: 0.8087 - val_loss: 0.5112 - val_accuracy: 0.8266\n",
      "Epoch 22/300\n",
      "22/22 [==============================] - 1s 25ms/step - loss: 0.4311 - accuracy: 0.8465 - val_loss: 0.4358 - val_accuracy: 0.8587\n",
      "Epoch 23/300\n",
      "22/22 [==============================] - 1s 24ms/step - loss: 0.4553 - accuracy: 0.8344 - val_loss: 0.4852 - val_accuracy: 0.8330\n",
      "Epoch 24/300\n",
      "22/22 [==============================] - 1s 24ms/step - loss: 0.4205 - accuracy: 0.8544 - val_loss: 0.4192 - val_accuracy: 0.8544\n",
      "Epoch 25/300\n",
      "22/22 [==============================] - 1s 25ms/step - loss: 0.4003 - accuracy: 0.8601 - val_loss: 0.4192 - val_accuracy: 0.8651\n",
      "Epoch 26/300\n",
      "22/22 [==============================] - 1s 24ms/step - loss: 0.4313 - accuracy: 0.8544 - val_loss: 0.4778 - val_accuracy: 0.8544\n",
      "Epoch 27/300\n",
      "22/22 [==============================] - 1s 23ms/step - loss: 0.4130 - accuracy: 0.8415 - val_loss: 0.3884 - val_accuracy: 0.8801\n",
      "Epoch 28/300\n",
      "22/22 [==============================] - 1s 24ms/step - loss: 0.4259 - accuracy: 0.8458 - val_loss: 0.3628 - val_accuracy: 0.8737\n",
      "Epoch 29/300\n",
      "22/22 [==============================] - 1s 24ms/step - loss: 0.3903 - accuracy: 0.8615 - val_loss: 0.3696 - val_accuracy: 0.8737\n",
      "Epoch 30/300\n",
      "22/22 [==============================] - 0s 22ms/step - loss: 0.3866 - accuracy: 0.8558 - val_loss: 0.3621 - val_accuracy: 0.8929\n",
      "Epoch 31/300\n",
      "22/22 [==============================] - 0s 15ms/step - loss: 0.3696 - accuracy: 0.8665 - val_loss: 0.3530 - val_accuracy: 0.8929\n",
      "Epoch 32/300\n",
      "22/22 [==============================] - 0s 15ms/step - loss: 0.3779 - accuracy: 0.8680 - val_loss: 0.3536 - val_accuracy: 0.8951\n",
      "Epoch 33/300\n",
      "22/22 [==============================] - 0s 15ms/step - loss: 0.3627 - accuracy: 0.8744 - val_loss: 0.3665 - val_accuracy: 0.8865\n",
      "Epoch 34/300\n",
      "22/22 [==============================] - 0s 15ms/step - loss: 0.4102 - accuracy: 0.8615 - val_loss: 0.3372 - val_accuracy: 0.8865\n",
      "Epoch 35/300\n",
      "22/22 [==============================] - 0s 16ms/step - loss: 0.3301 - accuracy: 0.8815 - val_loss: 0.3720 - val_accuracy: 0.8865\n",
      "Epoch 36/300\n",
      "22/22 [==============================] - 0s 15ms/step - loss: 0.3775 - accuracy: 0.8744 - val_loss: 0.3780 - val_accuracy: 0.8822\n",
      "Epoch 37/300\n",
      "22/22 [==============================] - 0s 15ms/step - loss: 0.3451 - accuracy: 0.8737 - val_loss: 0.3412 - val_accuracy: 0.8929\n",
      "Epoch 38/300\n",
      "22/22 [==============================] - 0s 14ms/step - loss: 0.3179 - accuracy: 0.8801 - val_loss: 0.3623 - val_accuracy: 0.8694\n",
      "Epoch 39/300\n",
      "22/22 [==============================] - 0s 15ms/step - loss: 0.3382 - accuracy: 0.8822 - val_loss: 0.3838 - val_accuracy: 0.8737\n",
      "Epoch 40/300\n",
      "22/22 [==============================] - 0s 15ms/step - loss: 0.3197 - accuracy: 0.8858 - val_loss: 0.3632 - val_accuracy: 0.8801\n",
      "Epoch 41/300\n",
      "22/22 [==============================] - 0s 15ms/step - loss: 0.3259 - accuracy: 0.8744 - val_loss: 0.3628 - val_accuracy: 0.8822\n",
      "Epoch 42/300\n",
      "22/22 [==============================] - 0s 15ms/step - loss: 0.3455 - accuracy: 0.8737 - val_loss: 0.3642 - val_accuracy: 0.8779\n",
      "Epoch 43/300\n",
      "22/22 [==============================] - 0s 15ms/step - loss: 0.3084 - accuracy: 0.8901 - val_loss: 0.3481 - val_accuracy: 0.8865\n",
      "Epoch 44/300\n",
      "22/22 [==============================] - 0s 15ms/step - loss: 0.2946 - accuracy: 0.8944 - val_loss: 0.3553 - val_accuracy: 0.8779\n",
      "Epoch 45/300\n",
      "22/22 [==============================] - 0s 15ms/step - loss: 0.3127 - accuracy: 0.8829 - val_loss: 0.3531 - val_accuracy: 0.8887\n",
      "Epoch 46/300\n",
      "22/22 [==============================] - 0s 15ms/step - loss: 0.3201 - accuracy: 0.8822 - val_loss: 0.3426 - val_accuracy: 0.8887\n",
      "Epoch 47/300\n",
      "22/22 [==============================] - 0s 15ms/step - loss: 0.3026 - accuracy: 0.8908 - val_loss: 0.3772 - val_accuracy: 0.8801\n",
      "Epoch 48/300\n",
      "22/22 [==============================] - 0s 16ms/step - loss: 0.2805 - accuracy: 0.9051 - val_loss: 0.4035 - val_accuracy: 0.8715\n",
      "Epoch 49/300\n",
      "22/22 [==============================] - 0s 16ms/step - loss: 0.3473 - accuracy: 0.8687 - val_loss: 0.3713 - val_accuracy: 0.8801\n",
      "Epoch 50/300\n",
      "22/22 [==============================] - 0s 16ms/step - loss: 0.2893 - accuracy: 0.8951 - val_loss: 0.3515 - val_accuracy: 0.8908\n",
      "Epoch 51/300\n",
      "22/22 [==============================] - 1s 24ms/step - loss: 0.2772 - accuracy: 0.8994 - val_loss: 0.3406 - val_accuracy: 0.8887\n",
      "Epoch 52/300\n",
      "22/22 [==============================] - 1s 24ms/step - loss: 0.3083 - accuracy: 0.8872 - val_loss: 0.3545 - val_accuracy: 0.8822\n",
      "Epoch 53/300\n",
      "22/22 [==============================] - 1s 24ms/step - loss: 0.2645 - accuracy: 0.9051 - val_loss: 0.3469 - val_accuracy: 0.8822\n",
      "Epoch 54/300\n",
      "22/22 [==============================] - 1s 24ms/step - loss: 0.2471 - accuracy: 0.9108 - val_loss: 0.3549 - val_accuracy: 0.8865\n",
      "Epoch 00054: early stopping\n"
     ]
    },
    {
     "data": {
      "image/png": "[encoded data removed]",
      "text/plain": [
       "<Figure size 432x288 with 1 Axes>"
      ]
     },
     "metadata": {
      "needs_background": "light"
     },
     "output_type": "display_data"
    },
    {
     "name": "stdout",
     "output_type": "stream",
     "text": [
      "15/15 [==============================] - 0s 5ms/step - loss: 0.3587 - accuracy: 0.8758\n",
      "loss= 0.35866236686706543\n",
      "acc= 0.8758029937744141\n"
     ]
    }
   ],
   "source": [
    "from tensorflow import keras\n",
    "from tensorflow.keras import optimizers\n",
    "from tensorflow.keras.layers import Dense, Dropout, Conv2D, BatchNormalization, Flatten, GlobalAveragePooling2D, InputLayer, Reshape\n",
    "from tensorflow.keras.callbacks import EarlyStopping\n",
    "\n",
    "model = keras.Sequential()\n",
    "\n",
    "model.add(InputLayer((1, 8, 4), 64))\n",
    "model.add(Reshape((1, 8, 4)))\n",
    "model.add(Conv2D(128, (2, 2), activation='relu', padding='same', data_format='channels_first'))\n",
    "model.add(BatchNormalization())\n",
    "model.add(Dropout(0.5))\n",
    "model.add(Conv2D(256, (2, 2), activation='relu', padding='same', data_format='channels_first'))\n",
    "model.add(BatchNormalization())\n",
    "model.add(Dropout(0.5))\n",
    "model.add(Conv2D(256, (2, 2), activation='relu', padding='same', data_format='channels_first'))\n",
    "model.add(BatchNormalization())\n",
    "model.add(Dropout(0.5))\n",
    "model.add(Conv2D(256, (2, 2), activation='relu', padding='same', data_format='channels_first'))\n",
    "model.add(BatchNormalization())\n",
    "model.add(Dropout(0.5))\n",
    "model.add(Conv2D(256, (2, 2), activation='relu', data_format='channels_first'))\n",
    "model.add(BatchNormalization())\n",
    "model.add(Dropout(0.5))\n",
    "model.add(Flatten())\n",
    "model.add(Dropout(0.5))\n",
    "model.add(Dense(1028, activation='relu'))\n",
    "model.add(BatchNormalization())\n",
    "model.add(Dropout(0.5))\n",
    "model.add(Dense(4, activation='softmax'))  # 이게 거의 최적.\n",
    "\n",
    "model.compile(\n",
    "    optimizer=keras.optimizers.Adam(learning_rate=0.001),\n",
    "    loss='sparse_categorical_crossentropy',\n",
    "    metrics='accuracy'\n",
    ")\n",
    "\n",
    "model.summary()\n",
    "\n",
    "history = model.fit(\n",
    "    x_train,\n",
    "    y_train,\n",
    "    validation_data=(x_valid, y_valid),\n",
    "    epochs=300, \n",
    "    batch_size=64, \n",
    "    callbacks=EarlyStopping(monitor='val_loss', mode='min', verbose=1, patience=20)\n",
    ")\n",
    "\n",
    "plt.plot(history.history['loss'])\n",
    "plt.plot(history.history['val_loss'])\n",
    "plt.show()\n",
    "\n",
    "loss, acc = model.evaluate(x_test, y_test)\n",
    "print(\"loss=\", loss)\n",
    "print(\"acc=\", acc)"
   ]
  },
  {
   "cell_type": "code",
   "execution_count": 32,
   "metadata": {},
   "outputs": [
    {
     "name": "stdout",
     "output_type": "stream",
     "text": [
      "[0 0 1 ... 2 0 3]\n"
     ]
    }
   ],
   "source": [
    "sample_submission = pd.read_csv('../data/sample_submission.csv')\n",
    "test_data = pd.read_csv('../data/test.csv').to_numpy()[:, 1:]\n",
    "test_data = scaler.fit_transform(test_data).reshape(-1, 1, 8, 4)\n",
    "\n",
    "output = np.argmax(model(test_data), axis=1)\n",
    "print(output)\n",
    "# for i, data in enumerate(test_data):\n",
    "#     outputs = model.forward(data)\n",
    "#     batch_index = i * batch_size\n",
    "#     max_vals, max_indices = torch.max(outputs, 1)\n",
    "#     sample_submission.iloc[batch_index:batch_index + batch_size, 1:] = max_indices.long().cpu().numpy()[:,np.newaxis]\n",
    "# sample_submission.to_csv('version30.csv', index=False)"
   ]
  },
  {
   "cell_type": "code",
   "execution_count": 33,
   "metadata": {},
   "outputs": [],
   "source": [
    "sample_submission['target'] = output.astype('uint8')\n",
    "sample_submission.to_csv('version2.csv', index=False)"
   ]
  },
  {
   "cell_type": "code",
   "execution_count": null,
   "metadata": {},
   "outputs": [],
   "source": []
  }
 ],
 "metadata": {
  "interpreter": {
   "hash": "b69a98d3df882577ba469635c4ab08c5ae67eaedfd3a57f311f98966a6edb2d0"
  },
  "kernelspec": {
   "display_name": "Python 3.9.7 ('torch')",
   "language": "python",
   "name": "python3"
  },
  "language_info": {
   "codemirror_mode": {
    "name": "ipython",
    "version": 3
   },
   "file_extension": ".py",
   "mimetype": "text/x-python",
   "name": "python",
   "nbconvert_exporter": "python",
   "pygments_lexer": "ipython3",
   "version": "3.9.7"
  },
  "orig_nbformat": 4
 },
 "nbformat": 4,
 "nbformat_minor": 2
}
