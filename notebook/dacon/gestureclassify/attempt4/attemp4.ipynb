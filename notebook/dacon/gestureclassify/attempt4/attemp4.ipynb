{
 "cells": [
  {
   "cell_type": "code",
   "execution_count": 1,
   "metadata": {},
   "outputs": [],
   "source": [
    "import torch\n",
    "import pandas as pd\n",
    "import numpy as np\n",
    "import os\n",
    "import tqdm\n",
    "import pytorch_lightning as pl\n",
    "import torchmetrics\n",
    "import torchvision\n",
    "from matplotlib import pyplot as plt\n",
    "from pytorch_lightning.core.lightning import LightningModule\n",
    "from torch import nn\n",
    "from torch.utils import data\n",
    "from pytorch_lightning.callbacks.early_stopping import EarlyStopping\n",
    "from PIL import Image"
   ]
  },
  {
   "cell_type": "code",
   "execution_count": 46,
   "metadata": {},
   "outputs": [],
   "source": [
    "class make_dataset(data.Dataset):\n",
    "  def __init__(self, idx_list, file, mode):\n",
    "    self.file = file\n",
    "    self.idx_list = idx_list\n",
    "    self.mode = mode\n",
    "\n",
    "  def __len__(self):\n",
    "    return len(self.idx_list)\n",
    "\n",
    "  def __getitem__(self, index):\n",
    "    img = self.file[index, 1:33].reshape(1, -1, 4).astype('float32')\n",
    "    img2 = np.zeros((1, 8,4)).astype('float32')\n",
    "    for i in range(4):\n",
    "      img2[:, i] = img[:, 4-i]\n",
    "\n",
    "    if self.mode == 'train':\n",
    "      label = self.file[index, 33].astype('int64')\n",
    "      return np.concatenate([img, img2], axis=0), label\n",
    "    else:\n",
    "      return np.concatenate([img, img2], axis=0)\n",
    "\n",
    "def make_dataloader(batch_size=32, valid_size=0.2):\n",
    "    traindata = pd.read_csv('../data/train.csv').to_numpy()\n",
    "    testdata = pd.read_csv('../data/test.csv').to_numpy()\n",
    "\n",
    "    num_train = len(traindata)\n",
    "    indices = list(range(num_train))\n",
    "    np.random.shuffle(indices)\n",
    "    split = np.int32(np.floor(valid_size * num_train))\n",
    "    train_idx, valid_idx = indices[split:], indices[:split]\n",
    "\n",
    "    test_idx = list(range(len(testdata)))\n",
    "\n",
    "    train_set = make_dataset(train_idx, traindata, 'train')\n",
    "    valid_set = make_dataset(valid_idx, traindata, 'train')\n",
    "    test_set = make_dataset(test_idx, testdata, 'test')\n",
    "\n",
    "    train_loader = data.DataLoader(train_set, batch_size=batch_size)\n",
    "    valid_loader = data.DataLoader(valid_set, batch_size=batch_size)\n",
    "    test_loader = data.DataLoader(test_set, batch_size=batch_size)\n",
    "\n",
    "    return train_loader, test_loader, valid_loader\n"
   ]
  },
  {
   "cell_type": "code",
   "execution_count": 50,
   "metadata": {},
   "outputs": [],
   "source": [
    "class network(pl.LightningModule):\n",
    "    def __init__(self):\n",
    "        super().__init__()\n",
    "        self.loss_fn = nn.CrossEntropyLoss()\n",
    "        self.net = nn.Sequential(\n",
    "            nn.Conv2d(2,128,kernel_size=2,stride=1,padding=1),\n",
    "            nn.BatchNorm2d(128),\n",
    "            nn.ELU(),\n",
    "            nn.Conv2d(128,256,kernel_size=2,stride=1,padding=1),\n",
    "            nn.BatchNorm2d(256),\n",
    "            nn.ELU(),\n",
    "            \n",
    "            nn.Conv2d(256,512,kernel_size=2,stride=1,padding=1),\n",
    "            nn.BatchNorm2d(512),\n",
    "            nn.ELU(),\n",
    "            nn.Conv2d(512,512,kernel_size=2,stride=1,padding=1),\n",
    "            nn.BatchNorm2d(512),\n",
    "            nn.ELU(),\n",
    "            \n",
    "            nn.Conv2d(512,512,kernel_size=2,stride=1,padding=1),\n",
    "            nn.BatchNorm2d(512),\n",
    "            nn.ELU(),\n",
    "\n",
    "            nn.AdaptiveAvgPool2d((1, 1)),\n",
    "            nn.Flatten(),\n",
    "            nn.Linear(512, 256),\n",
    "            nn.BatchNorm1d(256),\n",
    "            nn.ELU(),\n",
    "\n",
    "            nn.Linear(256, 4)\n",
    "        )\n",
    "        \n",
    "    def forward(self, x):\n",
    "        return self.net(x)\n",
    "\n",
    "    def training_step(self, batch, batch_idx):\n",
    "        x, target = batch\n",
    "        pred = self(x)\n",
    "        loss = self.loss_fn(pred, target)\n",
    "        self.log(\"train_loss\", loss)\n",
    "        return loss\n",
    "   \n",
    "    def validation_step(self, batch, batch_idx):\n",
    "        x, target = batch\n",
    "        pred = self(x)\n",
    "        loss = self.loss_fn(pred, target)\n",
    "        acc = torchmetrics.functional.accuracy(pred, target)\n",
    "        metrics = {'val_acc': acc, 'val_loss': loss}\n",
    "        self.log_dict(metrics)\n",
    "\n",
    "    def configure_optimizers(self):\n",
    "        optimizer = torch.optim.Adam(self.parameters(), lr=0.001)\n",
    "        return optimizer"
   ]
  },
  {
   "cell_type": "code",
   "execution_count": 51,
   "metadata": {},
   "outputs": [],
   "source": [
    "def main():\n",
    "    print(torch.__version__)\n",
    "    print(print(torch.cuda.get_device_name(0)))\n",
    "\n",
    "    train_csv = pd.read_csv('../data/train.csv')\n",
    "    test_csv = pd.read_csv('../data/test.csv')\n",
    "\n",
    "    batch_size = 128\n",
    "    train_loader, test_loader, valid_loader = make_dataloader(batch_size)\n",
    "\n",
    "    print(train_loader.dataset.__len__())\n",
    "    print(valid_loader.dataset.__len__())\n",
    "\n",
    "    print(train_loader.dataset.__getitem__(0)[0][0].shape)\n",
    "\n",
    "    fig = plt.figure(figsize=(12, 24))\n",
    "    for i, (imgs, labels) in enumerate(train_loader):\n",
    "        print(imgs.shape)\n",
    "        break\n",
    "        for j in range(9):\n",
    "            ax = fig.add_subplot(3, 3, j + 1)\n",
    "            ax.set_xlabel(labels[j].numpy())\n",
    "            plt.imshow(imgs[j][0])\n",
    "        break\n",
    "\n",
    "    model = network()\n",
    "    print(model.net)\n",
    "\n",
    "    callbacks = [EarlyStopping(monitor=\"val_loss\", patience=15, verbose=False)]\n",
    "    trainer = pl.Trainer(max_epochs=300, gpus=1, callbacks=callbacks)\n",
    "    trainer.fit(model, train_loader, valid_loader)\n",
    "    \n",
    "\n",
    "    sample_submission = pd.read_csv('../data/sample_submission.csv')\n",
    "    batch_index = 0\n",
    "    for i, data in enumerate(test_loader):\n",
    "        outputs = model.forward(data)\n",
    "        batch_index = i * batch_size\n",
    "        max_vals, max_indices = torch.max(outputs, 1)\n",
    "        sample_submission.iloc[batch_index:batch_index + batch_size, 1:] = max_indices.long().cpu().numpy()[:,np.newaxis]\n",
    "    sample_submission.to_csv('version16.csv', index=False)"
   ]
  },
  {
   "cell_type": "code",
   "execution_count": 52,
   "metadata": {},
   "outputs": [
    {
     "name": "stdout",
     "output_type": "stream",
     "text": [
      "1.11.0\n",
      "NVIDIA GeForce MX250\n",
      "None\n"
     ]
    },
    {
     "name": "stderr",
     "output_type": "stream",
     "text": [
      "GPU available: True, used: True\n",
      "TPU available: False, using: 0 TPU cores\n",
      "IPU available: False, using: 0 IPUs\n",
      "LOCAL_RANK: 0 - CUDA_VISIBLE_DEVICES: [0]\n"
     ]
    },
    {
     "name": "stdout",
     "output_type": "stream",
     "text": [
      "1868\n",
      "467\n",
      "(8, 4)\n",
      "torch.Size([128, 2, 8, 4])\n",
      "Sequential(\n",
      "  (0): Conv2d(2, 128, kernel_size=(2, 2), stride=(1, 1), padding=(1, 1))\n",
      "  (1): BatchNorm2d(128, eps=1e-05, momentum=0.1, affine=True, track_running_stats=True)\n",
      "  (2): ELU(alpha=1.0)\n",
      "  (3): Conv2d(128, 256, kernel_size=(2, 2), stride=(1, 1), padding=(1, 1))\n",
      "  (4): BatchNorm2d(256, eps=1e-05, momentum=0.1, affine=True, track_running_stats=True)\n",
      "  (5): ELU(alpha=1.0)\n",
      "  (6): Conv2d(256, 512, kernel_size=(2, 2), stride=(1, 1), padding=(1, 1))\n",
      "  (7): BatchNorm2d(512, eps=1e-05, momentum=0.1, affine=True, track_running_stats=True)\n",
      "  (8): ELU(alpha=1.0)\n",
      "  (9): Conv2d(512, 512, kernel_size=(2, 2), stride=(1, 1), padding=(1, 1))\n",
      "  (10): BatchNorm2d(512, eps=1e-05, momentum=0.1, affine=True, track_running_stats=True)\n",
      "  (11): ELU(alpha=1.0)\n",
      "  (12): Conv2d(512, 512, kernel_size=(2, 2), stride=(1, 1), padding=(1, 1))\n",
      "  (13): BatchNorm2d(512, eps=1e-05, momentum=0.1, affine=True, track_running_stats=True)\n",
      "  (14): ELU(alpha=1.0)\n",
      "  (15): AdaptiveAvgPool2d(output_size=(1, 1))\n",
      "  (16): Flatten(start_dim=1, end_dim=-1)\n",
      "  (17): Linear(in_features=512, out_features=256, bias=True)\n",
      "  (18): BatchNorm1d(256, eps=1e-05, momentum=0.1, affine=True, track_running_stats=True)\n",
      "  (19): ELU(alpha=1.0)\n",
      "  (20): Linear(in_features=256, out_features=4, bias=True)\n",
      ")\n"
     ]
    },
    {
     "name": "stderr",
     "output_type": "stream",
     "text": [
      "\n",
      "  | Name    | Type             | Params\n",
      "---------------------------------------------\n",
      "0 | loss_fn | CrossEntropyLoss | 0     \n",
      "1 | net     | Sequential       | 2.9 M \n",
      "---------------------------------------------\n",
      "2.9 M     Trainable params\n",
      "0         Non-trainable params\n",
      "2.9 M     Total params\n",
      "11.569    Total estimated model params size (MB)\n"
     ]
    },
    {
     "name": "stdout",
     "output_type": "stream",
     "text": [
      "Validation sanity check:   0%|          | 0/2 [00:00<?, ?it/s]"
     ]
    },
    {
     "name": "stderr",
     "output_type": "stream",
     "text": [
      "C:\\ProgramData\\Anaconda3\\envs\\torch\\lib\\site-packages\\pytorch_lightning\\trainer\\data_loading.py:132: UserWarning: The dataloader, val_dataloader 0, does not have many workers which may be a bottleneck. Consider increasing the value of the `num_workers` argument` (try 8 which is the number of cpus on this machine) in the `DataLoader` init to improve performance.\n",
      "  rank_zero_warn(\n"
     ]
    },
    {
     "name": "stdout",
     "output_type": "stream",
     "text": [
      "                                                                      "
     ]
    },
    {
     "name": "stderr",
     "output_type": "stream",
     "text": [
      "C:\\ProgramData\\Anaconda3\\envs\\torch\\lib\\site-packages\\pytorch_lightning\\trainer\\data_loading.py:132: UserWarning: The dataloader, train_dataloader, does not have many workers which may be a bottleneck. Consider increasing the value of the `num_workers` argument` (try 8 which is the number of cpus on this machine) in the `DataLoader` init to improve performance.\n",
      "  rank_zero_warn(\n",
      "C:\\ProgramData\\Anaconda3\\envs\\torch\\lib\\site-packages\\pytorch_lightning\\trainer\\data_loading.py:432: UserWarning: The number of training samples (15) is smaller than the logging interval Trainer(log_every_n_steps=50). Set a lower value for log_every_n_steps if you want to see logs for the training epoch.\n",
      "  rank_zero_warn(\n"
     ]
    },
    {
     "name": "stdout",
     "output_type": "stream",
     "text": [
      "Epoch 57: 100%|██████████| 19/19 [00:06<00:00,  3.13it/s, loss=0.073, v_num=16] \n"
     ]
    },
    {
     "data": {
      "text/plain": [
       "<Figure size 864x1728 with 0 Axes>"
      ]
     },
     "metadata": {},
     "output_type": "display_data"
    }
   ],
   "source": [
    "if __name__=='__main__':\n",
    "    main()"
   ]
  },
  {
   "cell_type": "code",
   "execution_count": null,
   "metadata": {},
   "outputs": [],
   "source": [
    "import tensorboard"
   ]
  },
  {
   "cell_type": "code",
   "execution_count": null,
   "metadata": {},
   "outputs": [],
   "source": []
  }
 ],
 "metadata": {
  "interpreter": {
   "hash": "b69a98d3df882577ba469635c4ab08c5ae67eaedfd3a57f311f98966a6edb2d0"
  },
  "kernelspec": {
   "display_name": "Python 3.9.7 ('torch')",
   "language": "python",
   "name": "python3"
  },
  "language_info": {
   "codemirror_mode": {
    "name": "ipython",
    "version": 3
   },
   "file_extension": ".py",
   "mimetype": "text/x-python",
   "name": "python",
   "nbconvert_exporter": "python",
   "pygments_lexer": "ipython3",
   "version": "3.9.7"
  },
  "orig_nbformat": 4
 },
 "nbformat": 4,
 "nbformat_minor": 2
}
