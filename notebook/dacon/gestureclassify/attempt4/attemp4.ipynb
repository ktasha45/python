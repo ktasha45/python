{
 "cells": [
  {
   "cell_type": "code",
   "execution_count": 1,
   "metadata": {},
   "outputs": [],
   "source": [
    "import torch\n",
    "import pandas as pd\n",
    "import numpy as np\n",
    "import os\n",
    "import tqdm\n",
    "import pytorch_lightning as pl\n",
    "import torchmetrics\n",
    "import torchvision\n",
    "from matplotlib import pyplot as plt\n",
    "from pytorch_lightning.core.lightning import LightningModule\n",
    "from torch import nn\n",
    "from torch.utils import data\n",
    "from pytorch_lightning.callbacks.early_stopping import EarlyStopping\n",
    "from PIL import Image\n",
    "from torchvision import transforms\n",
    "from torchinfo import summary"
   ]
  },
  {
   "cell_type": "code",
   "execution_count": 2,
   "metadata": {},
   "outputs": [],
   "source": [
    "class ImageTransform():\n",
    "  def __init__(self, mean=0.5, std=0.5):\n",
    "    self.data_transform = transforms.Compose([\n",
    "        transforms.ToTensor(),\n",
    "        transforms.Normalize(mean, std)\n",
    "    ])\n",
    "\n",
    "  def __call__(self, img):\n",
    "    return self.data_transform(img)\n",
    "\n",
    "class make_dataset(data.Dataset):\n",
    "  def __init__(self, idx_list, file, transform, mode):\n",
    "    self.file = file\n",
    "    self.idx_list = idx_list\n",
    "    self.mode = mode\n",
    "    self.transform = transform\n",
    "\n",
    "  def __len__(self):\n",
    "    return len(self.idx_list)\n",
    "\n",
    "  def __getitem__(self, index):\n",
    "    img = self.transform(self.file[index, 1:33].reshape(8, 4))\n",
    "    # if self.mode == 'train':\n",
    "    #   label = self.file[index, 33].astype('int64')\n",
    "    #   return img, label\n",
    "    # else:\n",
    "    #   return img\n",
    "    img2 = torch.zeros((1,8,4))\n",
    "    for i in range(4):\n",
    "      img2[0, :, i] = img[0, :, 3-i]\n",
    "\n",
    "    if self.mode == 'train':\n",
    "      label = self.file[index, 33].astype('int64')\n",
    "      return torch.cat([img, img2], dim=0).type('torch.FloatTensor'), label\n",
    "    else:\n",
    "      return torch.cat([img, img2], dim=0).type('torch.FloatTensor')\n",
    "\n",
    "def make_dataloader(batch_size=32, valid_size=0.2):\n",
    "    traindata = pd.read_csv('../data/train.csv').to_numpy()\n",
    "    testdata = pd.read_csv('../data/test.csv').to_numpy()\n",
    "\n",
    "    num_train = len(traindata)\n",
    "    indices = list(range(num_train))\n",
    "    np.random.shuffle(indices)\n",
    "    split = np.int32(np.floor(valid_size * num_train))\n",
    "    train_idx, valid_idx = indices[split:], indices[:split]\n",
    "\n",
    "    test_idx = list(range(len(testdata)))\n",
    "\n",
    "    train_set = make_dataset(train_idx, traindata, ImageTransform(), 'train')\n",
    "    valid_set = make_dataset(valid_idx, traindata, ImageTransform(), 'train')\n",
    "    test_set = make_dataset(test_idx, testdata, ImageTransform(), 'test')\n",
    "\n",
    "    train_loader = data.DataLoader(train_set, batch_size=batch_size)\n",
    "    valid_loader = data.DataLoader(valid_set, batch_size=batch_size)\n",
    "    test_loader = data.DataLoader(test_set, batch_size=batch_size)\n",
    "\n",
    "    return train_loader, test_loader, valid_loader\n"
   ]
  },
  {
   "cell_type": "code",
   "execution_count": 105,
   "metadata": {},
   "outputs": [],
   "source": [
    "class network(pl.LightningModule):\n",
    "    def __init__(self):\n",
    "        super().__init__()\n",
    "        self.loss_fn = nn.CrossEntropyLoss()\n",
    "        self.net = nn.Sequential(\n",
    "            nn.Conv2d(2,128,kernel_size=2,stride=1,padding=1),\n",
    "            nn.BatchNorm2d(128),\n",
    "            nn.ELU(inplace=True),\n",
    "            nn.Dropout(0.5),\n",
    "            nn.Conv2d(128,128,kernel_size=2,stride=1,padding=1),\n",
    "            nn.BatchNorm2d(128),\n",
    "            nn.ELU(inplace=True),\n",
    "            nn.Dropout(0.5),\n",
    "\n",
    "            nn.Conv2d(128,128,kernel_size=2,stride=1,padding=1),\n",
    "            nn.BatchNorm2d(128),\n",
    "            nn.ELU(inplace=True),\n",
    "            nn.Dropout(0.5),\n",
    "            nn.Conv2d(128,256,kernel_size=2,stride=1,padding=1),\n",
    "            nn.BatchNorm2d(256),\n",
    "            nn.ELU(inplace=True),\n",
    "            nn.Dropout(0.5),\n",
    "            \n",
    "            nn.Conv2d(256,256,kernel_size=2,stride=1,padding=1),\n",
    "            nn.BatchNorm2d(256),\n",
    "            nn.ELU(inplace=True),\n",
    "            nn.Dropout(0.5),\n",
    "            nn.Conv2d(256,512,kernel_size=2,stride=1,padding=1),\n",
    "            nn.BatchNorm2d(512),\n",
    "            nn.ELU(inplace=True),\n",
    "            nn.Dropout(0.5),\n",
    "\n",
    "            nn.Conv2d(512,512,kernel_size=2,stride=1,padding=1),\n",
    "            nn.BatchNorm2d(512),\n",
    "            nn.ELU(inplace=True),\n",
    "            nn.Dropout(0.5),\n",
    "            nn.Conv2d(512,1024,kernel_size=2,stride=1,padding=1),\n",
    "            nn.BatchNorm2d(1024),\n",
    "            nn.ELU(inplace=True),\n",
    "            nn.Dropout(0.5),\n",
    "\n",
    "            nn.AdaptiveAvgPool2d((1, 1)),\n",
    "            nn.Flatten(),\n",
    "            nn.Linear(1024, 256),\n",
    "            nn.BatchNorm1d(256),\n",
    "            nn.ELU(inplace=True),\n",
    "            nn.Dropout(0.5),\n",
    "\n",
    "            nn.Linear(256, 4)\n",
    "        )\n",
    "        \n",
    "    def forward(self, x):\n",
    "        return self.net(x)\n",
    "\n",
    "    def training_step(self, batch, batch_idx):\n",
    "        x, target = batch\n",
    "        pred = self(x)\n",
    "        loss = self.loss_fn(pred, target)\n",
    "        self.log(\"train_loss\", loss)\n",
    "        return loss\n",
    "   \n",
    "    def validation_step(self, batch, batch_idx):\n",
    "        x, target = batch\n",
    "        pred = self(x)\n",
    "        loss = self.loss_fn(pred, target)\n",
    "        acc = torchmetrics.functional.accuracy(pred, target)\n",
    "        metrics = {'val_acc': acc, 'val_loss': loss}\n",
    "        self.log_dict(metrics)\n",
    "\n",
    "    def configure_optimizers(self):\n",
    "        optimizer = torch.optim.Adam(self.parameters(), lr=0.001)\n",
    "        return optimizer"
   ]
  },
  {
   "cell_type": "code",
   "execution_count": 106,
   "metadata": {},
   "outputs": [],
   "source": [
    "def main():\n",
    "    print(torch.__version__)\n",
    "    print(print(torch.cuda.get_device_name(0)))\n",
    "\n",
    "    batch_size = 128\n",
    "    train_loader, test_loader, valid_loader = make_dataloader(batch_size)\n",
    "\n",
    "    print(train_loader.dataset.__len__())\n",
    "    print(valid_loader.dataset.__len__())\n",
    "\n",
    "    print(train_loader.dataset.__getitem__(0)[0].shape)\n",
    "\n",
    "    fig = plt.figure(figsize=(12, 24))\n",
    "    for i, (imgs, labels) in enumerate(train_loader):\n",
    "        print(imgs.shape)\n",
    "        break\n",
    "        for j in range(9):\n",
    "            ax = fig.add_subplot(3, 3, j + 1)\n",
    "            ax.set_xlabel(labels[j].numpy())\n",
    "            plt.imshow(imgs[j][0])\n",
    "        break\n",
    "\n",
    "    model = network()\n",
    "\n",
    "    print(summary(model, input_size=(batch_size, 2, 8, 4)))\n",
    "\n",
    "    callbacks = [EarlyStopping(monitor=\"val_loss\", patience=15, verbose=False)]\n",
    "    trainer = pl.Trainer(max_epochs=300, gpus=1, callbacks=callbacks)\n",
    "    trainer.fit(model, train_loader, valid_loader)\n",
    "    \n",
    "\n",
    "    sample_submission = pd.read_csv('../data/sample_submission.csv')\n",
    "    batch_index = 0\n",
    "    for i, data in enumerate(test_loader):\n",
    "        outputs = model.forward(data)\n",
    "        batch_index = i * batch_size\n",
    "        max_vals, max_indices = torch.max(outputs, 1)\n",
    "        sample_submission.iloc[batch_index:batch_index + batch_size, 1:] = max_indices.long().cpu().numpy()[:,np.newaxis]\n",
    "    sample_submission.to_csv('version26.csv', index=False)"
   ]
  },
  {
   "cell_type": "code",
   "execution_count": 107,
   "metadata": {},
   "outputs": [
    {
     "name": "stdout",
     "output_type": "stream",
     "text": [
      "1.11.0\n",
      "NVIDIA GeForce MX250\n",
      "None\n",
      "1868\n",
      "467\n",
      "torch.Size([2, 8, 4])\n",
      "torch.Size([128, 2, 8, 4])\n"
     ]
    },
    {
     "name": "stderr",
     "output_type": "stream",
     "text": [
      "GPU available: True, used: True\n",
      "TPU available: False, using: 0 TPU cores\n",
      "IPU available: False, using: 0 IPUs\n",
      "LOCAL_RANK: 0 - CUDA_VISIBLE_DEVICES: [0]\n"
     ]
    },
    {
     "name": "stdout",
     "output_type": "stream",
     "text": [
      "==========================================================================================\n",
      "Layer (type:depth-idx)                   Output Shape              Param #\n",
      "==========================================================================================\n",
      "network                                  --                        --\n",
      "├─CrossEntropyLoss: 1-1                  --                        --\n",
      "├─Sequential: 1-2                        [128, 4]                  --\n",
      "│    └─Conv2d: 2-1                       [128, 128, 9, 5]          1,152\n",
      "│    └─BatchNorm2d: 2-2                  [128, 128, 9, 5]          256\n",
      "│    └─ELU: 2-3                          [128, 128, 9, 5]          --\n",
      "│    └─Dropout: 2-4                      [128, 128, 9, 5]          --\n",
      "│    └─Conv2d: 2-5                       [128, 128, 10, 6]         65,664\n",
      "│    └─BatchNorm2d: 2-6                  [128, 128, 10, 6]         256\n",
      "│    └─ELU: 2-7                          [128, 128, 10, 6]         --\n",
      "│    └─Dropout: 2-8                      [128, 128, 10, 6]         --\n",
      "│    └─Conv2d: 2-9                       [128, 128, 11, 7]         65,664\n",
      "│    └─BatchNorm2d: 2-10                 [128, 128, 11, 7]         256\n",
      "│    └─ELU: 2-11                         [128, 128, 11, 7]         --\n",
      "│    └─Dropout: 2-12                     [128, 128, 11, 7]         --\n",
      "│    └─Conv2d: 2-13                      [128, 256, 12, 8]         131,328\n",
      "│    └─BatchNorm2d: 2-14                 [128, 256, 12, 8]         512\n",
      "│    └─ELU: 2-15                         [128, 256, 12, 8]         --\n",
      "│    └─Dropout: 2-16                     [128, 256, 12, 8]         --\n",
      "│    └─Conv2d: 2-17                      [128, 256, 13, 9]         262,400\n",
      "│    └─BatchNorm2d: 2-18                 [128, 256, 13, 9]         512\n",
      "│    └─ELU: 2-19                         [128, 256, 13, 9]         --\n",
      "│    └─Dropout: 2-20                     [128, 256, 13, 9]         --\n",
      "│    └─Conv2d: 2-21                      [128, 512, 14, 10]        524,800\n",
      "│    └─BatchNorm2d: 2-22                 [128, 512, 14, 10]        1,024\n",
      "│    └─ELU: 2-23                         [128, 512, 14, 10]        --\n",
      "│    └─Dropout: 2-24                     [128, 512, 14, 10]        --\n",
      "│    └─Conv2d: 2-25                      [128, 512, 15, 11]        1,049,088\n",
      "│    └─BatchNorm2d: 2-26                 [128, 512, 15, 11]        1,024\n",
      "│    └─ELU: 2-27                         [128, 512, 15, 11]        --\n",
      "│    └─Dropout: 2-28                     [128, 512, 15, 11]        --\n",
      "│    └─Conv2d: 2-29                      [128, 1024, 16, 12]       2,098,176\n",
      "│    └─BatchNorm2d: 2-30                 [128, 1024, 16, 12]       2,048\n",
      "│    └─ELU: 2-31                         [128, 1024, 16, 12]       --\n",
      "│    └─Dropout: 2-32                     [128, 1024, 16, 12]       --\n",
      "│    └─AdaptiveAvgPool2d: 2-33           [128, 1024, 1, 1]         --\n",
      "│    └─Flatten: 2-34                     [128, 1024]               --\n",
      "│    └─Linear: 2-35                      [128, 256]                262,400\n",
      "│    └─BatchNorm1d: 2-36                 [128, 256]                512\n",
      "│    └─ELU: 2-37                         [128, 256]                --\n",
      "│    └─Dropout: 2-38                     [128, 256]                --\n",
      "│    └─Linear: 2-39                      [128, 4]                  1,028\n",
      "==========================================================================================\n",
      "Total params: 4,468,100\n",
      "Trainable params: 4,468,100\n",
      "Non-trainable params: 0\n",
      "Total mult-adds (G): 89.86\n",
      "==========================================================================================\n",
      "Input size (MB): 0.03\n",
      "Forward/backward pass size (MB): 882.38\n",
      "Params size (MB): 17.87\n",
      "Estimated Total Size (MB): 900.29\n",
      "==========================================================================================\n"
     ]
    },
    {
     "name": "stderr",
     "output_type": "stream",
     "text": [
      "\n",
      "  | Name    | Type             | Params\n",
      "---------------------------------------------\n",
      "0 | loss_fn | CrossEntropyLoss | 0     \n",
      "1 | net     | Sequential       | 4.5 M \n",
      "---------------------------------------------\n",
      "4.5 M     Trainable params\n",
      "0         Non-trainable params\n",
      "4.5 M     Total params\n",
      "17.872    Total estimated model params size (MB)\n"
     ]
    },
    {
     "name": "stdout",
     "output_type": "stream",
     "text": [
      "Validation sanity check:   0%|          | 0/2 [00:00<?, ?it/s]"
     ]
    },
    {
     "name": "stderr",
     "output_type": "stream",
     "text": [
      "C:\\ProgramData\\Anaconda3\\envs\\torch\\lib\\site-packages\\pytorch_lightning\\trainer\\data_loading.py:132: UserWarning: The dataloader, val_dataloader 0, does not have many workers which may be a bottleneck. Consider increasing the value of the `num_workers` argument` (try 8 which is the number of cpus on this machine) in the `DataLoader` init to improve performance.\n",
      "  rank_zero_warn(\n"
     ]
    },
    {
     "name": "stdout",
     "output_type": "stream",
     "text": [
      "                                                                      "
     ]
    },
    {
     "name": "stderr",
     "output_type": "stream",
     "text": [
      "C:\\ProgramData\\Anaconda3\\envs\\torch\\lib\\site-packages\\pytorch_lightning\\trainer\\data_loading.py:132: UserWarning: The dataloader, train_dataloader, does not have many workers which may be a bottleneck. Consider increasing the value of the `num_workers` argument` (try 8 which is the number of cpus on this machine) in the `DataLoader` init to improve performance.\n",
      "  rank_zero_warn(\n",
      "C:\\ProgramData\\Anaconda3\\envs\\torch\\lib\\site-packages\\pytorch_lightning\\trainer\\data_loading.py:432: UserWarning: The number of training samples (15) is smaller than the logging interval Trainer(log_every_n_steps=50). Set a lower value for log_every_n_steps if you want to see logs for the training epoch.\n",
      "  rank_zero_warn(\n"
     ]
    },
    {
     "name": "stdout",
     "output_type": "stream",
     "text": [
      "Epoch 50:  68%|██████▊   | 13/19 [00:14<00:06,  1.13s/it, loss=0.4, v_num=26]  "
     ]
    },
    {
     "name": "stderr",
     "output_type": "stream",
     "text": [
      "C:\\ProgramData\\Anaconda3\\envs\\torch\\lib\\site-packages\\pytorch_lightning\\trainer\\trainer.py:688: UserWarning: Detected KeyboardInterrupt, attempting graceful shutdown...\n",
      "  rank_zero_warn(\"Detected KeyboardInterrupt, attempting graceful shutdown...\")\n"
     ]
    },
    {
     "ename": "RuntimeError",
     "evalue": "Input type (torch.FloatTensor) and weight type (torch.cuda.FloatTensor) should be the same or input should be a MKLDNN tensor and weight is a dense tensor",
     "output_type": "error",
     "traceback": [
      "\u001b[1;31m---------------------------------------------------------------------------\u001b[0m",
      "\u001b[1;31mRuntimeError\u001b[0m                              Traceback (most recent call last)",
      "\u001b[1;32mc:\\godspell\\python\\notebook\\dacon\\gestureclassify\\attempt4\\attemp4.ipynb Cell 5'\u001b[0m in \u001b[0;36m<cell line: 1>\u001b[1;34m()\u001b[0m\n\u001b[0;32m      <a href='vscode-notebook-cell:/c%3A/godspell/python/notebook/dacon/gestureclassify/attempt4/attemp4.ipynb#ch0000004?line=0'>1</a>\u001b[0m \u001b[39mif\u001b[39;00m \u001b[39m__name__\u001b[39m\u001b[39m==\u001b[39m\u001b[39m'\u001b[39m\u001b[39m__main__\u001b[39m\u001b[39m'\u001b[39m:\n\u001b[1;32m----> <a href='vscode-notebook-cell:/c%3A/godspell/python/notebook/dacon/gestureclassify/attempt4/attemp4.ipynb#ch0000004?line=1'>2</a>\u001b[0m     main()\n",
      "\u001b[1;32mc:\\godspell\\python\\notebook\\dacon\\gestureclassify\\attempt4\\attemp4.ipynb Cell 4'\u001b[0m in \u001b[0;36mmain\u001b[1;34m()\u001b[0m\n\u001b[0;32m     <a href='vscode-notebook-cell:/c%3A/godspell/python/notebook/dacon/gestureclassify/attempt4/attemp4.ipynb#ch0000003?line=32'>33</a>\u001b[0m batch_index \u001b[39m=\u001b[39m \u001b[39m0\u001b[39m\n\u001b[0;32m     <a href='vscode-notebook-cell:/c%3A/godspell/python/notebook/dacon/gestureclassify/attempt4/attemp4.ipynb#ch0000003?line=33'>34</a>\u001b[0m \u001b[39mfor\u001b[39;00m i, data \u001b[39min\u001b[39;00m \u001b[39menumerate\u001b[39m(test_loader):\n\u001b[1;32m---> <a href='vscode-notebook-cell:/c%3A/godspell/python/notebook/dacon/gestureclassify/attempt4/attemp4.ipynb#ch0000003?line=34'>35</a>\u001b[0m     outputs \u001b[39m=\u001b[39m model\u001b[39m.\u001b[39;49mforward(data)\n\u001b[0;32m     <a href='vscode-notebook-cell:/c%3A/godspell/python/notebook/dacon/gestureclassify/attempt4/attemp4.ipynb#ch0000003?line=35'>36</a>\u001b[0m     batch_index \u001b[39m=\u001b[39m i \u001b[39m*\u001b[39m batch_size\n\u001b[0;32m     <a href='vscode-notebook-cell:/c%3A/godspell/python/notebook/dacon/gestureclassify/attempt4/attemp4.ipynb#ch0000003?line=36'>37</a>\u001b[0m     max_vals, max_indices \u001b[39m=\u001b[39m torch\u001b[39m.\u001b[39mmax(outputs, \u001b[39m1\u001b[39m)\n",
      "\u001b[1;32mc:\\godspell\\python\\notebook\\dacon\\gestureclassify\\attempt4\\attemp4.ipynb Cell 3'\u001b[0m in \u001b[0;36mnetwork.forward\u001b[1;34m(self, x)\u001b[0m\n\u001b[0;32m     <a href='vscode-notebook-cell:/c%3A/godspell/python/notebook/dacon/gestureclassify/attempt4/attemp4.ipynb#ch0000002?line=51'>52</a>\u001b[0m \u001b[39mdef\u001b[39;00m \u001b[39mforward\u001b[39m(\u001b[39mself\u001b[39m, x):\n\u001b[1;32m---> <a href='vscode-notebook-cell:/c%3A/godspell/python/notebook/dacon/gestureclassify/attempt4/attemp4.ipynb#ch0000002?line=52'>53</a>\u001b[0m     \u001b[39mreturn\u001b[39;00m \u001b[39mself\u001b[39;49m\u001b[39m.\u001b[39;49mnet(x)\n",
      "File \u001b[1;32mC:\\ProgramData\\Anaconda3\\envs\\torch\\lib\\site-packages\\torch\\nn\\modules\\module.py:1110\u001b[0m, in \u001b[0;36mModule._call_impl\u001b[1;34m(self, *input, **kwargs)\u001b[0m\n\u001b[0;32m   <a href='file:///c%3A/ProgramData/Anaconda3/envs/torch/lib/site-packages/torch/nn/modules/module.py?line=1105'>1106</a>\u001b[0m \u001b[39m# If we don't have any hooks, we want to skip the rest of the logic in\u001b[39;00m\n\u001b[0;32m   <a href='file:///c%3A/ProgramData/Anaconda3/envs/torch/lib/site-packages/torch/nn/modules/module.py?line=1106'>1107</a>\u001b[0m \u001b[39m# this function, and just call forward.\u001b[39;00m\n\u001b[0;32m   <a href='file:///c%3A/ProgramData/Anaconda3/envs/torch/lib/site-packages/torch/nn/modules/module.py?line=1107'>1108</a>\u001b[0m \u001b[39mif\u001b[39;00m \u001b[39mnot\u001b[39;00m (\u001b[39mself\u001b[39m\u001b[39m.\u001b[39m_backward_hooks \u001b[39mor\u001b[39;00m \u001b[39mself\u001b[39m\u001b[39m.\u001b[39m_forward_hooks \u001b[39mor\u001b[39;00m \u001b[39mself\u001b[39m\u001b[39m.\u001b[39m_forward_pre_hooks \u001b[39mor\u001b[39;00m _global_backward_hooks\n\u001b[0;32m   <a href='file:///c%3A/ProgramData/Anaconda3/envs/torch/lib/site-packages/torch/nn/modules/module.py?line=1108'>1109</a>\u001b[0m         \u001b[39mor\u001b[39;00m _global_forward_hooks \u001b[39mor\u001b[39;00m _global_forward_pre_hooks):\n\u001b[1;32m-> <a href='file:///c%3A/ProgramData/Anaconda3/envs/torch/lib/site-packages/torch/nn/modules/module.py?line=1109'>1110</a>\u001b[0m     \u001b[39mreturn\u001b[39;00m forward_call(\u001b[39m*\u001b[39m\u001b[39minput\u001b[39m, \u001b[39m*\u001b[39m\u001b[39m*\u001b[39mkwargs)\n\u001b[0;32m   <a href='file:///c%3A/ProgramData/Anaconda3/envs/torch/lib/site-packages/torch/nn/modules/module.py?line=1110'>1111</a>\u001b[0m \u001b[39m# Do not call functions when jit is used\u001b[39;00m\n\u001b[0;32m   <a href='file:///c%3A/ProgramData/Anaconda3/envs/torch/lib/site-packages/torch/nn/modules/module.py?line=1111'>1112</a>\u001b[0m full_backward_hooks, non_full_backward_hooks \u001b[39m=\u001b[39m [], []\n",
      "File \u001b[1;32mC:\\ProgramData\\Anaconda3\\envs\\torch\\lib\\site-packages\\torch\\nn\\modules\\container.py:141\u001b[0m, in \u001b[0;36mSequential.forward\u001b[1;34m(self, input)\u001b[0m\n\u001b[0;32m    <a href='file:///c%3A/ProgramData/Anaconda3/envs/torch/lib/site-packages/torch/nn/modules/container.py?line=138'>139</a>\u001b[0m \u001b[39mdef\u001b[39;00m \u001b[39mforward\u001b[39m(\u001b[39mself\u001b[39m, \u001b[39minput\u001b[39m):\n\u001b[0;32m    <a href='file:///c%3A/ProgramData/Anaconda3/envs/torch/lib/site-packages/torch/nn/modules/container.py?line=139'>140</a>\u001b[0m     \u001b[39mfor\u001b[39;00m module \u001b[39min\u001b[39;00m \u001b[39mself\u001b[39m:\n\u001b[1;32m--> <a href='file:///c%3A/ProgramData/Anaconda3/envs/torch/lib/site-packages/torch/nn/modules/container.py?line=140'>141</a>\u001b[0m         \u001b[39minput\u001b[39m \u001b[39m=\u001b[39m module(\u001b[39minput\u001b[39;49m)\n\u001b[0;32m    <a href='file:///c%3A/ProgramData/Anaconda3/envs/torch/lib/site-packages/torch/nn/modules/container.py?line=141'>142</a>\u001b[0m     \u001b[39mreturn\u001b[39;00m \u001b[39minput\u001b[39m\n",
      "File \u001b[1;32mC:\\ProgramData\\Anaconda3\\envs\\torch\\lib\\site-packages\\torch\\nn\\modules\\module.py:1110\u001b[0m, in \u001b[0;36mModule._call_impl\u001b[1;34m(self, *input, **kwargs)\u001b[0m\n\u001b[0;32m   <a href='file:///c%3A/ProgramData/Anaconda3/envs/torch/lib/site-packages/torch/nn/modules/module.py?line=1105'>1106</a>\u001b[0m \u001b[39m# If we don't have any hooks, we want to skip the rest of the logic in\u001b[39;00m\n\u001b[0;32m   <a href='file:///c%3A/ProgramData/Anaconda3/envs/torch/lib/site-packages/torch/nn/modules/module.py?line=1106'>1107</a>\u001b[0m \u001b[39m# this function, and just call forward.\u001b[39;00m\n\u001b[0;32m   <a href='file:///c%3A/ProgramData/Anaconda3/envs/torch/lib/site-packages/torch/nn/modules/module.py?line=1107'>1108</a>\u001b[0m \u001b[39mif\u001b[39;00m \u001b[39mnot\u001b[39;00m (\u001b[39mself\u001b[39m\u001b[39m.\u001b[39m_backward_hooks \u001b[39mor\u001b[39;00m \u001b[39mself\u001b[39m\u001b[39m.\u001b[39m_forward_hooks \u001b[39mor\u001b[39;00m \u001b[39mself\u001b[39m\u001b[39m.\u001b[39m_forward_pre_hooks \u001b[39mor\u001b[39;00m _global_backward_hooks\n\u001b[0;32m   <a href='file:///c%3A/ProgramData/Anaconda3/envs/torch/lib/site-packages/torch/nn/modules/module.py?line=1108'>1109</a>\u001b[0m         \u001b[39mor\u001b[39;00m _global_forward_hooks \u001b[39mor\u001b[39;00m _global_forward_pre_hooks):\n\u001b[1;32m-> <a href='file:///c%3A/ProgramData/Anaconda3/envs/torch/lib/site-packages/torch/nn/modules/module.py?line=1109'>1110</a>\u001b[0m     \u001b[39mreturn\u001b[39;00m forward_call(\u001b[39m*\u001b[39m\u001b[39minput\u001b[39m, \u001b[39m*\u001b[39m\u001b[39m*\u001b[39mkwargs)\n\u001b[0;32m   <a href='file:///c%3A/ProgramData/Anaconda3/envs/torch/lib/site-packages/torch/nn/modules/module.py?line=1110'>1111</a>\u001b[0m \u001b[39m# Do not call functions when jit is used\u001b[39;00m\n\u001b[0;32m   <a href='file:///c%3A/ProgramData/Anaconda3/envs/torch/lib/site-packages/torch/nn/modules/module.py?line=1111'>1112</a>\u001b[0m full_backward_hooks, non_full_backward_hooks \u001b[39m=\u001b[39m [], []\n",
      "File \u001b[1;32mC:\\ProgramData\\Anaconda3\\envs\\torch\\lib\\site-packages\\torch\\nn\\modules\\conv.py:447\u001b[0m, in \u001b[0;36mConv2d.forward\u001b[1;34m(self, input)\u001b[0m\n\u001b[0;32m    <a href='file:///c%3A/ProgramData/Anaconda3/envs/torch/lib/site-packages/torch/nn/modules/conv.py?line=445'>446</a>\u001b[0m \u001b[39mdef\u001b[39;00m \u001b[39mforward\u001b[39m(\u001b[39mself\u001b[39m, \u001b[39minput\u001b[39m: Tensor) \u001b[39m-\u001b[39m\u001b[39m>\u001b[39m Tensor:\n\u001b[1;32m--> <a href='file:///c%3A/ProgramData/Anaconda3/envs/torch/lib/site-packages/torch/nn/modules/conv.py?line=446'>447</a>\u001b[0m     \u001b[39mreturn\u001b[39;00m \u001b[39mself\u001b[39;49m\u001b[39m.\u001b[39;49m_conv_forward(\u001b[39minput\u001b[39;49m, \u001b[39mself\u001b[39;49m\u001b[39m.\u001b[39;49mweight, \u001b[39mself\u001b[39;49m\u001b[39m.\u001b[39;49mbias)\n",
      "File \u001b[1;32mC:\\ProgramData\\Anaconda3\\envs\\torch\\lib\\site-packages\\torch\\nn\\modules\\conv.py:443\u001b[0m, in \u001b[0;36mConv2d._conv_forward\u001b[1;34m(self, input, weight, bias)\u001b[0m\n\u001b[0;32m    <a href='file:///c%3A/ProgramData/Anaconda3/envs/torch/lib/site-packages/torch/nn/modules/conv.py?line=438'>439</a>\u001b[0m \u001b[39mif\u001b[39;00m \u001b[39mself\u001b[39m\u001b[39m.\u001b[39mpadding_mode \u001b[39m!=\u001b[39m \u001b[39m'\u001b[39m\u001b[39mzeros\u001b[39m\u001b[39m'\u001b[39m:\n\u001b[0;32m    <a href='file:///c%3A/ProgramData/Anaconda3/envs/torch/lib/site-packages/torch/nn/modules/conv.py?line=439'>440</a>\u001b[0m     \u001b[39mreturn\u001b[39;00m F\u001b[39m.\u001b[39mconv2d(F\u001b[39m.\u001b[39mpad(\u001b[39minput\u001b[39m, \u001b[39mself\u001b[39m\u001b[39m.\u001b[39m_reversed_padding_repeated_twice, mode\u001b[39m=\u001b[39m\u001b[39mself\u001b[39m\u001b[39m.\u001b[39mpadding_mode),\n\u001b[0;32m    <a href='file:///c%3A/ProgramData/Anaconda3/envs/torch/lib/site-packages/torch/nn/modules/conv.py?line=440'>441</a>\u001b[0m                     weight, bias, \u001b[39mself\u001b[39m\u001b[39m.\u001b[39mstride,\n\u001b[0;32m    <a href='file:///c%3A/ProgramData/Anaconda3/envs/torch/lib/site-packages/torch/nn/modules/conv.py?line=441'>442</a>\u001b[0m                     _pair(\u001b[39m0\u001b[39m), \u001b[39mself\u001b[39m\u001b[39m.\u001b[39mdilation, \u001b[39mself\u001b[39m\u001b[39m.\u001b[39mgroups)\n\u001b[1;32m--> <a href='file:///c%3A/ProgramData/Anaconda3/envs/torch/lib/site-packages/torch/nn/modules/conv.py?line=442'>443</a>\u001b[0m \u001b[39mreturn\u001b[39;00m F\u001b[39m.\u001b[39;49mconv2d(\u001b[39minput\u001b[39;49m, weight, bias, \u001b[39mself\u001b[39;49m\u001b[39m.\u001b[39;49mstride,\n\u001b[0;32m    <a href='file:///c%3A/ProgramData/Anaconda3/envs/torch/lib/site-packages/torch/nn/modules/conv.py?line=443'>444</a>\u001b[0m                 \u001b[39mself\u001b[39;49m\u001b[39m.\u001b[39;49mpadding, \u001b[39mself\u001b[39;49m\u001b[39m.\u001b[39;49mdilation, \u001b[39mself\u001b[39;49m\u001b[39m.\u001b[39;49mgroups)\n",
      "\u001b[1;31mRuntimeError\u001b[0m: Input type (torch.FloatTensor) and weight type (torch.cuda.FloatTensor) should be the same or input should be a MKLDNN tensor and weight is a dense tensor"
     ]
    },
    {
     "data": {
      "text/plain": [
       "<Figure size 864x1728 with 0 Axes>"
      ]
     },
     "metadata": {},
     "output_type": "display_data"
    },
    {
     "name": "stdout",
     "output_type": "stream",
     "text": [
      "Epoch 50:  68%|██████▊   | 13/19 [00:31<00:14,  2.43s/it, loss=0.4, v_num=26]"
     ]
    }
   ],
   "source": [
    "if __name__=='__main__':\n",
    "    main()"
   ]
  },
  {
   "cell_type": "code",
   "execution_count": null,
   "metadata": {},
   "outputs": [],
   "source": [
    "import tensorboard"
   ]
  },
  {
   "cell_type": "code",
   "execution_count": 8,
   "metadata": {},
   "outputs": [],
   "source": [
    "traindata = pd.read_csv('../data/train.csv').to_numpy()"
   ]
  },
  {
   "cell_type": "code",
   "execution_count": 10,
   "metadata": {},
   "outputs": [
    {
     "name": "stdout",
     "output_type": "stream",
     "text": [
      "(8, 4)\n",
      "(8, 4)\n",
      "(8, 4)\n",
      "(8, 4)\n",
      "(8, 4)\n",
      "(8, 4)\n",
      "(8, 4)\n",
      "(8, 4)\n",
      "(8, 4)\n"
     ]
    },
    {
     "data": {
      "image/png": "[encoded data removed]",
      "text/plain": [
       "<Figure size 864x1728 with 9 Axes>"
      ]
     },
     "metadata": {
      "needs_background": "light"
     },
     "output_type": "display_data"
    }
   ],
   "source": [
    "fig = plt.figure(figsize=(12, 24))\n",
    "for j in range(9):\n",
    "    img = traindata[j, 1:33].reshape((8, 4))\n",
    "    label = traindata[j, 33]\n",
    "    print(img.shape)\n",
    "    ax = fig.add_subplot(3, 3, j + 1)\n",
    "    ax.set_xlabel(label)\n",
    "    plt.imshow(img)"
   ]
  },
  {
   "cell_type": "code",
   "execution_count": 11,
   "metadata": {},
   "outputs": [
    {
     "name": "stdout",
     "output_type": "stream",
     "text": [
      "[[ -6.1494632   -0.92971357   9.05836761  -7.01785369]\n",
      " [ -2.95847138   0.179233    -0.95659101  -0.97240086]\n",
      " [  5.95621278   4.14563573  25.01764496  -4.06125365]\n",
      " [  0.99663162  -3.83734549 -13.95699405  -2.04295728]\n",
      " [  2.13020964  -1.95766247  -1.14993047   6.08202762]\n",
      " [  0.8786122    5.09310164  -6.06664753  -7.02643577]\n",
      " [ -6.00628223  -6.00583611   7.04308355  21.88465021]\n",
      " [ -3.06415192  -5.2475518   -6.02610749 -11.9908216 ]]\n",
      "[[ -2.23883638  -1.0035114    5.09807901 -10.88035741]\n",
      " [ -0.80456235  -2.99212304  26.97272407  -8.90086087]\n",
      " [ -5.96829834  -4.06013351   2.95284269  -5.04635318]\n",
      " [  1.08381865   3.97837803 -25.07254153  -2.04160214]\n",
      " [  2.91226875  -3.99803505   6.06969811   4.96618658]\n",
      " [  1.99405085  -1.13205948  14.90620531  -1.9967135 ]\n",
      " [ -7.9338059   -3.13677267   8.77421138  10.94475869]\n",
      " [  9.85818622  -0.96924102  -3.93555279 -15.89242069]]\n",
      "[[ 19.08793392  -2.09251433   0.94674955 -21.83178755]\n",
      " [  9.11923488  17.85358741 -21.0699539  -15.93321192]\n",
      " [ -9.01603893  -5.97519444 -23.21840847  -9.00062969]\n",
      " [  9.11595714  12.09731775 -10.95436685  -3.93071416]\n",
      " [-19.06959447  -6.11894035  -5.00134583  -9.10537122]\n",
      " [ -9.89488499  10.10761419   4.94857003  -6.88968512]\n",
      " [ 54.05232952  -6.10923796  12.15459503   6.09598917]\n",
      " [-40.19508817  -3.95812387  -8.07953684  -5.16008972]]\n",
      "[[ -2.21162857  -1.93090391  21.8884055   -3.06755958]\n",
      " [ -0.24063398   2.98505616 -29.07336927   0.20077359]\n",
      " [ -1.04374212   2.09984519 -15.12377438  -0.06986694]\n",
      " [ -0.11424706  -1.89610891   5.12719415  -2.8774228 ]\n",
      " [  2.97004432  -1.09970222   3.11676673   8.12420895]\n",
      " [ -0.91741775  -1.02719871  14.04829826  -2.12617029]\n",
      " [ -1.03552568   2.17876927  10.03272304  -1.01089672]\n",
      " [ -3.91284793  -2.98033797 -12.98359737  -3.00107677]]\n",
      "[[  3.95385219   2.96489227 -36.04480185   0.89983806]\n",
      " [ 26.93021023  11.00440889 -21.96242285 -11.95018858]\n",
      " [-20.93378518  -4.00050639  16.01044186   5.96121916]\n",
      " [  9.90711511  -0.06775401  -9.97072842   0.86849896]\n",
      " [  1.89223329  -3.16169842  -9.22599017   3.95395597]\n",
      " [-17.95965184  -3.11549103  -6.05167431  -2.05176055]\n",
      " [ 10.91756708   1.90533525 -13.00470678  17.1695521 ]\n",
      " [  2.10519444   3.96798565  11.86165709 -27.08884605]]\n",
      "[[ 2.82001086e+01  4.03807210e+00 -2.40278809e+01  3.02889750e+00]\n",
      " [-3.49922778e+01  1.85647779e+00  3.70731306e+01  2.69732767e+01]\n",
      " [ 8.93495252e+00 -1.26001982e-02  9.10464651e+00 -2.80091220e+01]\n",
      " [-1.78777298e+01  3.86983926e+00 -2.02588080e+00  4.11164264e+00]\n",
      " [-3.90849630e+00 -5.81057550e+00  1.58187168e+01 -1.99296231e+00]\n",
      " [ 2.20814897e+01 -1.26096287e+00 -1.19914853e+01  4.75326075e+00]\n",
      " [-1.89117805e+01 -2.09401914e+00 -3.49942789e+01 -9.88606655e+00]\n",
      " [ 4.14264571e+00  2.03661181e+00  4.40659324e+01  1.30972622e+01]]\n",
      "[[ -0.13976329  -2.95041369   2.95375532  -7.89571066]\n",
      " [ -0.76788707  -1.94478115   1.05257829  11.09061493]\n",
      " [ -0.08703333  -1.00155364  13.85103478  -8.93088527]\n",
      " [ -0.93206181  -2.94562915  -6.94024008  -1.09314089]\n",
      " [  2.90244639   0.93125964   1.93664712   6.98976723]\n",
      " [  2.71952755  -1.16782976   1.96530964  -2.05808407]\n",
      " [ -2.86425427   1.97767317 -16.89756144  -7.98009488]\n",
      " [ -5.03070641  -5.96204503  14.04404255  10.83130228]]\n",
      "[[ -8.02107116   2.06106293  11.93665213  21.06762082]\n",
      " [  1.92631763  -5.89388338   5.9754641  -11.07830696]\n",
      " [  8.08454006  -1.14583106  -4.98348328  26.11678667]\n",
      " [ 20.96535195  -3.80003329  -7.1595536   -2.9186402 ]\n",
      " [ 11.77208669  -1.97397058 -23.92976583  -4.90632741]\n",
      " [ -4.04854136  -0.9458566   17.88260821 -14.08177753]\n",
      " [ -1.12334809  -1.06655299  -2.03290467   1.89640765]\n",
      " [-28.0958096    2.94160568   4.96668121   3.96925673]]\n",
      "[[  5.96940045   0.91145792  -6.23825944   5.08999546]\n",
      " [  3.11489884  -2.05151374   5.08237398   0.10619877]\n",
      " [ -0.0163215   -0.15584704  10.03995339 -10.04776084]\n",
      " [ -4.93069689  -2.02548072  -2.8885807    1.89182891]\n",
      " [  0.96444165   2.87996324  -8.21056154  -2.03437198]\n",
      " [  0.8060773   -1.15481575  -5.93174378  -5.86400118]\n",
      " [ -2.14575834  -1.0327911    8.05957475   2.98737978]\n",
      " [ -4.13492205  -1.97961264   5.06969304   1.89852255]]\n"
     ]
    },
    {
     "data": {
      "text/plain": [
       "<Figure size 864x1728 with 0 Axes>"
      ]
     },
     "metadata": {},
     "output_type": "display_data"
    }
   ],
   "source": [
    "fig = plt.figure(figsize=(12, 24))\n",
    "for j in range(9):\n",
    "    img = traindata[j, 1:33].reshape((8, 4))\n",
    "    img\n",
    "    for n in range(4*2-1):\n",
    "        for m in range(8*2-1):\n",
    "            \n",
    "    label = traindata[j, 33]\n",
    "    print(img)\n",
    "    # ax = fig.add_subplot(3, 3, j + 1)\n",
    "    # ax.set_xlabel(label)\n",
    "    # plt.imshow(img)"
   ]
  },
  {
   "cell_type": "code",
   "execution_count": null,
   "metadata": {},
   "outputs": [],
   "source": []
  }
 ],
 "metadata": {
  "interpreter": {
   "hash": "b69a98d3df882577ba469635c4ab08c5ae67eaedfd3a57f311f98966a6edb2d0"
  },
  "kernelspec": {
   "display_name": "Python 3.9.7 ('torch')",
   "language": "python",
   "name": "python3"
  },
  "language_info": {
   "codemirror_mode": {
    "name": "ipython",
    "version": 3
   },
   "file_extension": ".py",
   "mimetype": "text/x-python",
   "name": "python",
   "nbconvert_exporter": "python",
   "pygments_lexer": "ipython3",
   "version": "3.9.7"
  },
  "orig_nbformat": 4
 },
 "nbformat": 4,
 "nbformat_minor": 2
}
