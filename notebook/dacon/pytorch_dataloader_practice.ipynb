{
  "nbformat": 4,
  "nbformat_minor": 0,
  "metadata": {
    "colab": {
      "name": "pytorch dataloader practice.ipynb",
      "provenance": [],
      "collapsed_sections": [],
      "authorship_tag": "ABX9TyNcHJpK6M1SUgdPtFBk+ItP",
      "include_colab_link": true
    },
    "kernelspec": {
      "name": "python3",
      "display_name": "Python 3"
    },
    "language_info": {
      "name": "python"
    },
    "accelerator": "GPU"
  },
  "cells": [
    {
      "cell_type": "markdown",
      "metadata": {
        "id": "view-in-github",
        "colab_type": "text"
      },
      "source": [
        "<a href=\"https://colab.research.google.com/github/ktasha45/python/blob/master/notebook/dacon/pytorch_dataloader_practice.ipynb\" target=\"_parent\"><img src=\"https://colab.research.google.com/assets/colab-badge.svg\" alt=\"Open In Colab\"/></a>"
      ]
    },
    {
      "cell_type": "markdown",
      "source": [
        "references  \n",
        "https://blog.promedius.ai/pytorch_dataloader_1/  \n",
        "data  \n",
        "https://dacon.io/competitions/official/235874/codeshare/4549?page=1&dtype=recent"
      ],
      "metadata": {
        "id": "GRv1ZoIIAk_v"
      }
    },
    {
      "cell_type": "code",
      "source": [
        "from google.colab import drive\n",
        "drive.mount('/gdrive')\n",
        "!ls -al /gdrive/MyDrive/tmp/image.zip\n",
        "!cp /gdrive/MyDrive/tmp/image.zip ./\n",
        "!unzip image.zip"
      ],
      "metadata": {
        "id": "QoSeHAXjrI2d"
      },
      "execution_count": null,
      "outputs": []
    },
    {
      "cell_type": "code",
      "source": [
        "import os\n",
        "import numpy as np\n",
        "from glob import glob\n",
        "from tqdm import tqdm\n",
        "import matplotlib.pyplot as plt\n",
        "from torch.utils import data\n",
        "from PIL import Image\n",
        "from torchvision import transforms \n",
        "from torchvision.transforms.functional import to_pil_image\n",
        "import matplotlib.pyplot as plt"
      ],
      "metadata": {
        "id": "0uLoaJrgui1i"
      },
      "execution_count": null,
      "outputs": []
    },
    {
      "cell_type": "code",
      "execution_count": null,
      "metadata": {
        "id": "Pf6K3c_jj3M3",
        "colab": {
          "base_uri": "https://localhost:8080/"
        },
        "outputId": "55fee2a2-e320-4239-b70c-9fb27a259212"
      },
      "outputs": [
        {
          "output_type": "stream",
          "name": "stderr",
          "text": [
            "100%|██████████| 5000/5000 [00:00<00:00, 1114557.82it/s]\n",
            "100%|██████████| 5000/5000 [00:00<00:00, 536452.05it/s]\n",
            "100%|██████████| 5000/5000 [00:00<00:00, 739944.96it/s]\n",
            "100%|██████████| 5000/5000 [00:00<00:00, 745256.57it/s]\n",
            "100%|██████████| 5000/5000 [00:00<00:00, 723729.85it/s]\n",
            "100%|██████████| 5000/5000 [00:00<00:00, 329507.74it/s]\n",
            "100%|██████████| 5000/5000 [00:00<00:00, 257758.88it/s]\n",
            "100%|██████████| 5000/5000 [00:00<00:00, 833228.18it/s]\n",
            "100%|██████████| 5000/5000 [00:00<00:00, 952817.81it/s]\n",
            "100%|██████████| 5000/5000 [00:00<00:00, 837955.81it/s]\n"
          ]
        }
      ],
      "source": [
        "def make_file_list(path):\n",
        "  file_list = list()\n",
        "  label_list = list()\n",
        "  label_dic = {}\n",
        "  path = path\n",
        "  for i, dir in enumerate(glob(path + '*')):\n",
        "    label_dic[dir.split('/')[2]] = i\n",
        "    for file_path in tqdm(sorted(glob(dir + '/*'))):\n",
        "      file_list.append(file_path)\n",
        "      label_list.append(i)\n",
        "  return label_dic, file_list, label_list\n",
        "\n",
        "label_dic, file_list, label_list = make_file_list(path = './train/')"
      ]
    },
    {
      "cell_type": "code",
      "source": [
        "print(file_list[5002])\n",
        "print(label_list[5002])\n",
        "print(label_list[5003])\n",
        "print(label_dic)\n",
        "\n",
        "from sklearn.model_selection import train_test_split\n",
        "x_train, x_valid, y_train, y_valid = train_test_split(file_list, label_list, test_size=0.1, shuffle=True, stratify=label_list, random_state=34) # 층화 무작위 추출"
      ],
      "metadata": {
        "colab": {
          "base_uri": "https://localhost:8080/"
        },
        "id": "TlCRh_MjwLPG",
        "outputId": "57f7c372-b860-4a53-c44d-71c637697ed3"
      },
      "execution_count": null,
      "outputs": [
        {
          "output_type": "stream",
          "name": "stdout",
          "text": [
            "./train/bird/0002.jpg\n",
            "1\n",
            "1\n",
            "{'dog': 0, 'bird': 1, 'cat': 2, 'automobile': 3, 'frog': 4, 'horse': 5, 'truck': 6, 'airplane': 7, 'deer': 8, 'ship': 9}\n"
          ]
        }
      ]
    },
    {
      "cell_type": "code",
      "source": [
        "print(len(x_train))\n",
        "print(len(y_train))\n",
        "print(len(x_valid))\n",
        "print(len(y_valid))"
      ],
      "metadata": {
        "colab": {
          "base_uri": "https://localhost:8080/"
        },
        "id": "A81Y4q0Jri6I",
        "outputId": "1823e6c0-95b9-4d95-9e04-b0a47d91ea7a"
      },
      "execution_count": null,
      "outputs": [
        {
          "output_type": "stream",
          "name": "stdout",
          "text": [
            "45000\n",
            "45000\n",
            "5000\n",
            "5000\n"
          ]
        }
      ]
    },
    {
      "cell_type": "code",
      "source": [
        "plt.hist(y_valid) # 층화 무작위"
      ],
      "metadata": {
        "colab": {
          "base_uri": "https://localhost:8080/",
          "height": 320
        },
        "id": "lgh887T-sPYR",
        "outputId": "ab248c00-5aae-41f4-d060-06e43868f6c9"
      },
      "execution_count": null,
      "outputs": [
        {
          "output_type": "execute_result",
          "data": {
            "text/plain": [
              "(array([500., 500., 500., 500., 500., 500., 500., 500., 500., 500.]),\n",
              " array([0. , 0.9, 1.8, 2.7, 3.6, 4.5, 5.4, 6.3, 7.2, 8.1, 9. ]),\n",
              " <a list of 10 Patch objects>)"
            ]
          },
          "metadata": {},
          "execution_count": 5
        },
        {
          "output_type": "display_data",
          "data": {
            "image/png": "[encoded data removed]",
            "text/plain": [
              "<Figure size 432x288 with 1 Axes>"
            ]
          },
          "metadata": {
            "needs_background": "light"
          }
        }
      ]
    },
    {
      "cell_type": "code",
      "source": [
        "class ImageTransform():\n",
        "  def __init__(self):\n",
        "    self.data_transform = transforms.Compose([\n",
        "        transforms.ToTensor(),\n",
        "        # transforms.Normalize(mean, std)\n",
        "    ])\n",
        "\n",
        "  def __call__(self, img):\n",
        "    return self.data_transform(img)\n",
        "\n",
        "\n",
        "class Img_Dataset(data.Dataset):\n",
        "  def __init__(self, file_list, transform):\n",
        "    self.file_list = file_list\n",
        "    self.transform = transform\n",
        "\n",
        "  def __len__(self):\n",
        "    return len(self.file_list)\n",
        "\n",
        "  def __getitem__(self, index):\n",
        "    img_path = self.file_list[index] # 데이터셋에서 파일 하나를 특정\n",
        "    img = Image.open(img_path)\n",
        "    img_transformed = self.transform(img)\n",
        "\n",
        "    label = label_dic[img_path.split('/')[2]] # 파일명으로부터 라벨명 추출\n",
        "\n",
        "    return img_transformed, label\n",
        "\n",
        "train_dataset = Img_Dataset(file_list=x_train, transform=ImageTransform())\n",
        "test_dataset = Img_Dataset(file_list=x_valid, transform=ImageTransform())\n",
        "#train_dataset = Img_Dataset(file_list=file_list, transform=transforms.ToTensor())"
      ],
      "metadata": {
        "id": "9mc1ohhd3E2P"
      },
      "execution_count": null,
      "outputs": []
    },
    {
      "cell_type": "code",
      "source": [
        "print(train_dataset.__len__())\n",
        "print(test_dataset.__len__())"
      ],
      "metadata": {
        "colab": {
          "base_uri": "https://localhost:8080/"
        },
        "id": "aoHOlq805GD9",
        "outputId": "2a4422b1-f0f7-4f84-93a0-c2ab9014d80d"
      },
      "execution_count": null,
      "outputs": [
        {
          "output_type": "stream",
          "name": "stdout",
          "text": [
            "45000\n",
            "5000\n"
          ]
        }
      ]
    },
    {
      "cell_type": "code",
      "source": [
        "print(train_dataset.__getitem__(0)[0])\n",
        "print(train_dataset.__getitem__(0)[0].shape)"
      ],
      "metadata": {
        "colab": {
          "base_uri": "https://localhost:8080/"
        },
        "id": "KDnMw19B6CQP",
        "outputId": "b41ae689-713d-4c5e-afdd-625efb4ee130"
      },
      "execution_count": null,
      "outputs": [
        {
          "output_type": "stream",
          "name": "stdout",
          "text": [
            "tensor([[[0.4275, 0.4745, 0.4941,  ..., 0.4588, 0.4314, 0.3843],\n",
            "         [0.3804, 0.4118, 0.4078,  ..., 0.4784, 0.4549, 0.4157],\n",
            "         [0.3098, 0.3333, 0.3137,  ..., 0.4745, 0.4706, 0.4471],\n",
            "         ...,\n",
            "         [0.4431, 0.4431, 0.4667,  ..., 0.5216, 0.5216, 0.5216],\n",
            "         [0.4588, 0.4549, 0.4667,  ..., 0.5059, 0.4980, 0.4941],\n",
            "         [0.4314, 0.4275, 0.4431,  ..., 0.5020, 0.4863, 0.4745]],\n",
            "\n",
            "        [[0.4824, 0.5333, 0.5843,  ..., 0.5529, 0.5137, 0.4471],\n",
            "         [0.4314, 0.4706, 0.4980,  ..., 0.5725, 0.5373, 0.4784],\n",
            "         [0.3608, 0.3922, 0.4039,  ..., 0.5686, 0.5412, 0.5098],\n",
            "         ...,\n",
            "         [0.6039, 0.5922, 0.6039,  ..., 0.8000, 0.8000, 0.8000],\n",
            "         [0.6353, 0.6196, 0.6157,  ..., 0.8000, 0.7922, 0.7882],\n",
            "         [0.6118, 0.6039, 0.6039,  ..., 0.8039, 0.7882, 0.7765]],\n",
            "\n",
            "        [[0.3922, 0.4431, 0.4745,  ..., 0.4118, 0.3608, 0.2941],\n",
            "         [0.3529, 0.3804, 0.3882,  ..., 0.4314, 0.3843, 0.3255],\n",
            "         [0.2902, 0.3176, 0.3020,  ..., 0.4275, 0.3922, 0.3569],\n",
            "         ...,\n",
            "         [0.4314, 0.4314, 0.4471,  ..., 0.8863, 0.8863, 0.8863],\n",
            "         [0.4745, 0.4627, 0.4627,  ..., 0.8745, 0.8667, 0.8706],\n",
            "         [0.4588, 0.4510, 0.4471,  ..., 0.8667, 0.8588, 0.8471]]])\n",
            "torch.Size([3, 32, 32])\n"
          ]
        }
      ]
    },
    {
      "cell_type": "code",
      "source": [
        "%matplotlib inline\n",
        "\n",
        "train_dataloader = data.DataLoader(train_dataset, batch_size=128, shuffle=True)\n",
        "test_dataloader = data.DataLoader(test_dataset, batch_size=128)\n",
        "\n",
        "batch_iterator = iter(train_dataloader)\n",
        "images = next(batch_iterator)\n",
        "\n",
        "def get_key(val):\n",
        "  for key, value in label_dic.items():\n",
        "    if val == value:\n",
        "      return key\n",
        "\n",
        "plt.figure(figsize=(15, 6))\n",
        "\n",
        "for i in range(10):\n",
        "  plt.subplot(2,5,i+1)\n",
        "  plt.title(get_key(images[1][i]))\n",
        "  plt.imshow(to_pil_image(images[0][i]))"
      ],
      "metadata": {
        "colab": {
          "base_uri": "https://localhost:8080/",
          "height": 385
        },
        "id": "vqPB0pCY6FLc",
        "outputId": "635e18d2-064f-40c7-d440-d346f3d1ed27"
      },
      "execution_count": null,
      "outputs": [
        {
          "output_type": "display_data",
          "data": {
            "image/png": "[encoded data removed]",
            "text/plain": [
              "<Figure size 1080x432 with 10 Axes>"
            ]
          },
          "metadata": {
            "needs_background": "light"
          }
        }
      ]
    },
    {
      "cell_type": "code",
      "source": [
        "%matplotlib inline\n",
        "\n",
        "print(images[0][0].flatten())\n",
        "plt.hist(images[0][0].flatten(), bins = 50)"
      ],
      "metadata": {
        "colab": {
          "base_uri": "https://localhost:8080/",
          "height": 596
        },
        "id": "K2QpjbLVke3a",
        "outputId": "3e9d223c-d99c-44b7-83ee-7ce8b69f5f21"
      },
      "execution_count": null,
      "outputs": [
        {
          "output_type": "stream",
          "name": "stdout",
          "text": [
            "tensor([1.0000, 0.9961, 0.9922,  ..., 0.3137, 0.3294, 0.3294])\n"
          ]
        },
        {
          "output_type": "execute_result",
          "data": {
            "text/plain": [
              "(array([  3.,   0.,   5.,   7.,  13.,  20.,  23.,  26.,  43.,  49.,  65.,\n",
              "         69.,  70.,  81.,  88.,  96.,  85.,  90.,  70.,  82.,  84.,  86.,\n",
              "         81.,  69.,  80.,  75.,  65.,  60.,  47.,  47.,  60.,  48.,  53.,\n",
              "         52.,  74.,  73.,  67.,  49.,  57.,  52.,  40.,  35.,  40.,  44.,\n",
              "         54.,  70.,  81.,  91., 131., 222.]),\n",
              " array([0.01568628, 0.03537255, 0.05505883, 0.0747451 , 0.09443137,\n",
              "        0.11411764, 0.13380392, 0.1534902 , 0.17317647, 0.19286275,\n",
              "        0.21254902, 0.2322353 , 0.25192156, 0.27160785, 0.29129413,\n",
              "        0.31098038, 0.33066666, 0.35035294, 0.37003922, 0.38972548,\n",
              "        0.40941176, 0.42909804, 0.44878432, 0.4684706 , 0.48815686,\n",
              "        0.50784314, 0.5275294 , 0.5472157 , 0.566902  , 0.58658826,\n",
              "        0.6062745 , 0.62596077, 0.64564705, 0.66533333, 0.6850196 ,\n",
              "        0.7047059 , 0.7243922 , 0.74407846, 0.7637647 , 0.78345096,\n",
              "        0.80313724, 0.8228235 , 0.8425098 , 0.8621961 , 0.88188237,\n",
              "        0.90156865, 0.9212549 , 0.94094115, 0.96062744, 0.9803137 ,\n",
              "        1.        ], dtype=float32),\n",
              " <a list of 50 Patch objects>)"
            ]
          },
          "metadata": {},
          "execution_count": 10
        },
        {
          "output_type": "display_data",
          "data": {
            "image/png": "[encoded data removed]",
            "text/plain": [
              "<Figure size 432x288 with 1 Axes>"
            ]
          },
          "metadata": {
            "needs_background": "light"
          }
        }
      ]
    },
    {
      "cell_type": "code",
      "source": [
        "import torch\n",
        "\n",
        "device = 'cuda' if torch.cuda.is_available() else 'cpu'\n",
        "print(f'Using {device} device')"
      ],
      "metadata": {
        "colab": {
          "base_uri": "https://localhost:8080/"
        },
        "id": "XsAmxr5HCMcO",
        "outputId": "b77a2db9-de3c-495e-e85d-1e19530314be"
      },
      "execution_count": null,
      "outputs": [
        {
          "output_type": "stream",
          "name": "stdout",
          "text": [
            "Using cuda device\n"
          ]
        }
      ]
    },
    {
      "cell_type": "code",
      "source": [
        "from torch import nn\n",
        "\n",
        "class NeuralNetwork(nn.Module):\n",
        "  def __init__(self):\n",
        "    super(NeuralNetwork, self).__init__()\n",
        "    self.linear_relu_stack = nn.Sequential(\n",
        "      nn.Conv2d(3,32,kernel_size=3,padding=1),\n",
        "      nn.ReLU(),\n",
        "      nn.Conv2d(32,64,kernel_size=3,stride=1,padding=1),\n",
        "      nn.ReLU(),\n",
        "      nn.MaxPool2d(2,2),\n",
        "\n",
        "      nn.Conv2d(64,128,kernel_size=3,stride=1,padding=1),\n",
        "      nn.ReLU(),\n",
        "      nn.Conv2d(128,128,kernel_size=3,stride=1,padding=1),\n",
        "      nn.ReLU(),\n",
        "      nn.MaxPool2d(2,2),\n",
        "\n",
        "      nn.Conv2d(128,256,kernel_size=3,stride=1,padding=1),\n",
        "      nn.ReLU(),\n",
        "      nn.Conv2d(256,512,kernel_size=3,stride=1,padding=1),\n",
        "      nn.ReLU(),\n",
        "      nn.MaxPool2d(2,2),\n",
        "\n",
        "      nn.Conv2d(512,512,kernel_size=3,stride=1,padding=1),\n",
        "      nn.ReLU(),\n",
        "      nn.MaxPool2d(2,2),\n",
        "      \n",
        "      nn.AdaptiveAvgPool2d((1, 1)),\n",
        "      nn.Flatten(),\n",
        "      nn.Linear(512, 1024),\n",
        "      nn.ReLU(),\n",
        "      nn.Linear(1024, 512),\n",
        "      nn.ReLU(),\n",
        "      nn.Dropout(0.7),\n",
        "      nn.Linear(512, 10)\n",
        "    )\n",
        "\n",
        "  def forward(self, x):\n",
        "    logits = self.linear_relu_stack(x)\n",
        "    return logits"
      ],
      "metadata": {
        "id": "RF9-W2ED_-rg"
      },
      "execution_count": null,
      "outputs": []
    },
    {
      "cell_type": "code",
      "source": [
        "model = NeuralNetwork().to(device)\n",
        "print(model)"
      ],
      "metadata": {
        "colab": {
          "base_uri": "https://localhost:8080/"
        },
        "id": "V7xXFLQAB4YP",
        "outputId": "77605edb-3b6c-4891-b2cf-e58aa29672f3"
      },
      "execution_count": null,
      "outputs": [
        {
          "output_type": "stream",
          "name": "stdout",
          "text": [
            "NeuralNetwork(\n",
            "  (linear_relu_stack): Sequential(\n",
            "    (0): Conv2d(3, 32, kernel_size=(3, 3), stride=(1, 1), padding=(1, 1))\n",
            "    (1): ReLU()\n",
            "    (2): Conv2d(32, 64, kernel_size=(3, 3), stride=(1, 1), padding=(1, 1))\n",
            "    (3): ReLU()\n",
            "    (4): MaxPool2d(kernel_size=2, stride=2, padding=0, dilation=1, ceil_mode=False)\n",
            "    (5): Conv2d(64, 128, kernel_size=(3, 3), stride=(1, 1), padding=(1, 1))\n",
            "    (6): ReLU()\n",
            "    (7): Conv2d(128, 128, kernel_size=(3, 3), stride=(1, 1), padding=(1, 1))\n",
            "    (8): ReLU()\n",
            "    (9): MaxPool2d(kernel_size=2, stride=2, padding=0, dilation=1, ceil_mode=False)\n",
            "    (10): Conv2d(128, 256, kernel_size=(3, 3), stride=(1, 1), padding=(1, 1))\n",
            "    (11): ReLU()\n",
            "    (12): Conv2d(256, 512, kernel_size=(3, 3), stride=(1, 1), padding=(1, 1))\n",
            "    (13): ReLU()\n",
            "    (14): MaxPool2d(kernel_size=2, stride=2, padding=0, dilation=1, ceil_mode=False)\n",
            "    (15): Conv2d(512, 512, kernel_size=(3, 3), stride=(1, 1), padding=(1, 1))\n",
            "    (16): ReLU()\n",
            "    (17): MaxPool2d(kernel_size=2, stride=2, padding=0, dilation=1, ceil_mode=False)\n",
            "    (18): AdaptiveAvgPool2d(output_size=(1, 1))\n",
            "    (19): Flatten(start_dim=1, end_dim=-1)\n",
            "    (20): Linear(in_features=512, out_features=1024, bias=True)\n",
            "    (21): ReLU()\n",
            "    (22): Linear(in_features=1024, out_features=512, bias=True)\n",
            "    (23): ReLU()\n",
            "    (24): Dropout(p=0.7, inplace=False)\n",
            "    (25): Linear(in_features=512, out_features=10, bias=True)\n",
            "  )\n",
            ")\n"
          ]
        }
      ]
    },
    {
      "cell_type": "code",
      "source": [
        "!pip install pytorchtools"
      ],
      "metadata": {
        "colab": {
          "base_uri": "https://localhost:8080/"
        },
        "id": "cIDPXaB-Fn7D",
        "outputId": "5f8be37d-f03d-40bf-cd0e-aed1f4448a58"
      },
      "execution_count": null,
      "outputs": [
        {
          "output_type": "stream",
          "name": "stdout",
          "text": [
            "Requirement already satisfied: pytorchtools in /usr/local/lib/python3.7/dist-packages (0.0.2)\n"
          ]
        }
      ]
    },
    {
      "cell_type": "code",
      "source": [
        "class EarlyStopping:\n",
        "    \"\"\"주어진 patience 이후로 validation loss가 개선되지 않으면 학습을 조기 중지\"\"\"\n",
        "    def __init__(self, patience=7, verbose=False, delta=0, path='checkpoint.pt'):\n",
        "        \"\"\"\n",
        "        Args:\n",
        "            patience (int): validation loss가 개선된 후 기다리는 기간\n",
        "                            Default: 7\n",
        "            verbose (bool): True일 경우 각 validation loss의 개선 사항 메세지 출력\n",
        "                            Default: False\n",
        "            delta (float): 개선되었다고 인정되는 monitered quantity의 최소 변화\n",
        "                            Default: 0\n",
        "            path (str): checkpoint저장 경로\n",
        "                            Default: 'checkpoint.pt'\n",
        "        \"\"\"\n",
        "        self.patience = patience\n",
        "        self.verbose = verbose\n",
        "        self.counter = 0\n",
        "        self.best_score = None\n",
        "        self.early_stop = False\n",
        "        self.val_loss_min = np.Inf\n",
        "        self.delta = delta\n",
        "        self.path = path\n",
        "\n",
        "    def __call__(self, val_loss, model):\n",
        "\n",
        "        score = -val_loss\n",
        "\n",
        "        if self.best_score is None:\n",
        "            self.best_score = score\n",
        "            self.save_checkpoint(val_loss, model)\n",
        "        elif score < self.best_score + self.delta:\n",
        "            self.counter += 1\n",
        "            print(f'EarlyStopping counter: {self.counter} out of {self.patience}')\n",
        "            if self.counter >= self.patience:\n",
        "                self.early_stop = True\n",
        "        else:\n",
        "            self.best_score = score\n",
        "            self.save_checkpoint(val_loss, model)\n",
        "            self.counter = 0\n",
        "\n",
        "    def save_checkpoint(self, val_loss, model):\n",
        "        '''validation loss가 감소하면 모델을 저장한다.'''\n",
        "        if self.verbose:\n",
        "            print(f'Validation loss decreased ({self.val_loss_min:.6f} --> {val_loss:.6f}).  Saving model ...')\n",
        "        torch.save(model.state_dict(), self.path)\n",
        "        self.val_loss_min = val_loss\n"
      ],
      "metadata": {
        "id": "b-J_WLt5Fm63"
      },
      "execution_count": null,
      "outputs": []
    },
    {
      "cell_type": "code",
      "source": [
        "# def test_loop(dataloader, model, loss_fn):\n",
        "#   size = len(dataloader.dataset)\n",
        "#   num_batches = len(dataloader)\n",
        "#   test_loss, correct = 0, 0\n",
        "\n",
        "#   with torch.no_grad():\n",
        "#     for X, y in dataloader:\n",
        "#       X = X.to(device)\n",
        "#       y = y.to(device)\n",
        "#       pred = model(X)\n",
        "#       test_loss += loss_fn(pred, y).item()\n",
        "#       correct += (pred.argmax(1) == y).type(torch.float).sum().item()\n",
        "\n",
        "#   test_loss /= num_batches\n",
        "#   correct /= size\n",
        "#   print(f\"Test Error: \\n Accuracy: {(100*correct):>0.1f}%, Avg loss: {test_loss:>8f} \\n\")\n",
        "\n",
        "\n",
        "def train_loop(model, patience, loss_fn, optimizer, n_epochs):\n",
        "  train_losses = []\n",
        "  valid_losses = []\n",
        "  avg_train_losses = []\n",
        "  avg_valid_losses = []\n",
        "\n",
        "  early_stopping = EarlyStopping(patience = patience, verbose = True)\n",
        "\n",
        "  for epoch in range(1, n_epochs + 1):\n",
        "    model.train()\n",
        "    for batch, (X, y) in enumerate(train_dataloader):\n",
        "      X = X.to(device)\n",
        "      y = y.to(device)\n",
        "\n",
        "      # Compute prediction and loss\n",
        "      pred = model(X)\n",
        "      loss = loss_fn(pred, y)\n",
        "\n",
        "      # Backpropagation\n",
        "      optimizer.zero_grad()\n",
        "      loss.backward()\n",
        "      optimizer.step()\n",
        "\n",
        "      train_losses.append(loss.item())\n",
        "\n",
        "    model.eval()\n",
        "    for data, target in test_dataloader:\n",
        "      data = data.to(device)\n",
        "      target = target.to(device)\n",
        "\n",
        "      output = model(data)\n",
        "      loss = loss_fn(output, target)\n",
        "      # record validation loss\n",
        "      valid_losses.append(loss.item())\n",
        "\n",
        "    train_loss = np.average(train_losses)\n",
        "    valid_loss = np.average(valid_losses)\n",
        "    avg_train_losses.append(train_loss)\n",
        "    avg_valid_losses.append(valid_loss)\n",
        "\n",
        "    epoch_len = len(str(n_epochs))\n",
        "\n",
        "    print_msg = (f'[{epoch:>{epoch_len}}/{n_epochs:>{epoch_len}}] ' +\n",
        "                  f'train_loss: {train_loss:.5f} ' +\n",
        "                  f'valid_loss: {valid_loss:.5f}')\n",
        "    \n",
        "    print(print_msg)\n",
        "\n",
        "    train_losses = []\n",
        "    valid_losses = []\n",
        "\n",
        "    early_stopping(valid_loss, model)\n",
        "\n",
        "    if early_stopping.early_stop:\n",
        "        print(\"Early stopping\")\n",
        "        break\n",
        "\n",
        "  model.load_state_dict(torch.load('checkpoint.pt'))\n",
        "  return  model, avg_train_losses, avg_valid_losses\n",
        "\n",
        "learning_rate = 0.001\n",
        "batch_size = 128\n",
        "epochs = 100\n",
        "loss_fn = nn.CrossEntropyLoss().to(device)\n",
        "optimizer = torch.optim.Adam(model.parameters(), lr=learning_rate)\n",
        "patience = 20\n",
        "n_epochs = 100\n",
        "\n",
        "model, train_loss, valid_loss = train_loop(model, patience, loss_fn, optimizer, n_epochs)\n",
        "\n",
        "# for t in range(epochs):\n",
        "#     print(f\"Epoch {t+1}\\n-------------------------------\")\n",
        "#     train_loop(train_dataloader, model, loss_fn, optimizer)\n",
        "#     test_loop(test_dataloader, model, loss_fn)\n",
        "# print(\"Done!\")"
      ],
      "metadata": {
        "colab": {
          "base_uri": "https://localhost:8080/"
        },
        "id": "YMjMcLUeCh73",
        "outputId": "f86b859e-ab58-4aba-db4e-e73e4cb4a38b"
      },
      "execution_count": null,
      "outputs": [
        {
          "output_type": "stream",
          "name": "stdout",
          "text": [
            "[  1/100] train_loss: 2.11343 valid_loss: 1.90710\n",
            "Validation loss decreased (inf --> 1.907101).  Saving model ...\n",
            "[  2/100] train_loss: 1.72459 valid_loss: 1.50070\n",
            "Validation loss decreased (1.907101 --> 1.500700).  Saving model ...\n",
            "[  3/100] train_loss: 1.43447 valid_loss: 1.30867\n",
            "Validation loss decreased (1.500700 --> 1.308670).  Saving model ...\n",
            "[  4/100] train_loss: 1.23145 valid_loss: 1.13827\n",
            "Validation loss decreased (1.308670 --> 1.138267).  Saving model ...\n",
            "[  5/100] train_loss: 1.09720 valid_loss: 1.01484\n",
            "Validation loss decreased (1.138267 --> 1.014844).  Saving model ...\n",
            "[  6/100] train_loss: 0.96643 valid_loss: 0.92536\n",
            "Validation loss decreased (1.014844 --> 0.925363).  Saving model ...\n",
            "[  7/100] train_loss: 0.87563 valid_loss: 0.88779\n",
            "Validation loss decreased (0.925363 --> 0.887790).  Saving model ...\n",
            "[  8/100] train_loss: 0.78942 valid_loss: 0.84564\n",
            "Validation loss decreased (0.887790 --> 0.845640).  Saving model ...\n",
            "[  9/100] train_loss: 0.71171 valid_loss: 0.80924\n",
            "Validation loss decreased (0.845640 --> 0.809238).  Saving model ...\n",
            "[ 10/100] train_loss: 0.65046 valid_loss: 0.82346\n",
            "EarlyStopping counter: 1 out of 20\n",
            "[ 11/100] train_loss: 0.58659 valid_loss: 0.76940\n",
            "Validation loss decreased (0.809238 --> 0.769404).  Saving model ...\n",
            "[ 12/100] train_loss: 0.52375 valid_loss: 0.85392\n",
            "EarlyStopping counter: 1 out of 20\n",
            "[ 13/100] train_loss: 0.48078 valid_loss: 0.80681\n",
            "EarlyStopping counter: 2 out of 20\n",
            "[ 14/100] train_loss: 0.43159 valid_loss: 0.86751\n",
            "EarlyStopping counter: 3 out of 20\n",
            "[ 15/100] train_loss: 0.38261 valid_loss: 0.92124\n",
            "EarlyStopping counter: 4 out of 20\n",
            "[ 16/100] train_loss: 0.34427 valid_loss: 0.92437\n",
            "EarlyStopping counter: 5 out of 20\n",
            "[ 17/100] train_loss: 0.31607 valid_loss: 0.91346\n",
            "EarlyStopping counter: 6 out of 20\n",
            "[ 18/100] train_loss: 0.27460 valid_loss: 0.98081\n",
            "EarlyStopping counter: 7 out of 20\n",
            "[ 19/100] train_loss: 0.24610 valid_loss: 1.08237\n",
            "EarlyStopping counter: 8 out of 20\n",
            "[ 20/100] train_loss: 0.22265 valid_loss: 1.18410\n",
            "EarlyStopping counter: 9 out of 20\n",
            "[ 21/100] train_loss: 0.20714 valid_loss: 1.10407\n",
            "EarlyStopping counter: 10 out of 20\n",
            "[ 22/100] train_loss: 0.18082 valid_loss: 1.29535\n",
            "EarlyStopping counter: 11 out of 20\n",
            "[ 23/100] train_loss: 0.18333 valid_loss: 1.28338\n",
            "EarlyStopping counter: 12 out of 20\n",
            "[ 24/100] train_loss: 0.16696 valid_loss: 1.33162\n",
            "EarlyStopping counter: 13 out of 20\n",
            "[ 25/100] train_loss: 0.15198 valid_loss: 1.34843\n",
            "EarlyStopping counter: 14 out of 20\n",
            "[ 26/100] train_loss: 0.13802 valid_loss: 1.33802\n",
            "EarlyStopping counter: 15 out of 20\n",
            "[ 27/100] train_loss: 0.12676 valid_loss: 1.49725\n",
            "EarlyStopping counter: 16 out of 20\n",
            "[ 28/100] train_loss: 0.11465 valid_loss: 1.40979\n",
            "EarlyStopping counter: 17 out of 20\n",
            "[ 29/100] train_loss: 0.11674 valid_loss: 1.47072\n",
            "EarlyStopping counter: 18 out of 20\n",
            "[ 30/100] train_loss: 0.11999 valid_loss: 1.52450\n",
            "EarlyStopping counter: 19 out of 20\n",
            "[ 31/100] train_loss: 0.12238 valid_loss: 1.56023\n",
            "EarlyStopping counter: 20 out of 20\n",
            "Early stopping\n"
          ]
        }
      ]
    },
    {
      "cell_type": "code",
      "source": [
        "# 훈련이 진행되는 과정에 따라 loss를 시각화\n",
        "fig = plt.figure(figsize=(10,8))\n",
        "plt.plot(range(1,len(train_loss)+1),train_loss, label='Training Loss')\n",
        "plt.plot(range(1,len(valid_loss)+1),valid_loss,label='Validation Loss')\n",
        "\n",
        "# validation loss의 최저값 지점을 찾기\n",
        "minposs = valid_loss.index(min(valid_loss))+1\n",
        "plt.axvline(minposs, linestyle='--', color='r',label='Early Stopping Checkpoint')\n",
        "\n",
        "plt.xlabel('epochs')\n",
        "plt.ylabel('loss')\n",
        "plt.grid(True)\n",
        "plt.legend()\n",
        "plt.tight_layout()\n",
        "plt.show()\n",
        "fig.savefig('loss_plot.png', bbox_inches = 'tight')"
      ],
      "metadata": {
        "id": "9HYu8vcT9dfy",
        "colab": {
          "base_uri": "https://localhost:8080/",
          "height": 584
        },
        "outputId": "374b34c9-0fa4-4807-dd66-ba1346c6a3b1"
      },
      "execution_count": null,
      "outputs": [
        {
          "output_type": "display_data",
          "data": {
            "image/png": "[encoded data removed]",
            "text/plain": [
              "<Figure size 720x576 with 1 Axes>"
            ]
          },
          "metadata": {
            "needs_background": "light"
          }
        }
      ]
    },
    {
      "cell_type": "code",
      "source": [
        "def test_loop(dataloader, model, loss_fn):\n",
        "  size = len(dataloader.dataset)\n",
        "  num_batches = len(dataloader)\n",
        "  test_loss, correct = 0, 0\n",
        "\n",
        "  with torch.no_grad():\n",
        "    for X, y in dataloader:\n",
        "      X = X.to(device)\n",
        "      y = y.to(device)\n",
        "      pred = model(X)\n",
        "      test_loss += loss_fn(pred, y).item()\n",
        "      correct += (pred.argmax(1) == y).type(torch.float).sum().item()\n",
        "\n",
        "  test_loss /= num_batches\n",
        "  correct /= size\n",
        "  print(f\"Test Error: \\n Accuracy: {(100*correct):>0.1f}%, Avg loss: {test_loss:>8f} \\n\")\n",
        "\n",
        "test_loop(test_dataloader, model, loss_fn)"
      ],
      "metadata": {
        "colab": {
          "base_uri": "https://localhost:8080/"
        },
        "id": "ryi711BbQEZm",
        "outputId": "b84c86db-f2e0-4d52-9632-91d5cc0000c3"
      },
      "execution_count": null,
      "outputs": [
        {
          "output_type": "stream",
          "name": "stdout",
          "text": [
            "Test Error: \n",
            " Accuracy: 74.2%, Avg loss: 0.769404 \n",
            "\n"
          ]
        }
      ]
    },
    {
      "cell_type": "code",
      "source": [
        ""
      ],
      "metadata": {
        "id": "jg67ettCQYUl"
      },
      "execution_count": null,
      "outputs": []
    }
  ]
}