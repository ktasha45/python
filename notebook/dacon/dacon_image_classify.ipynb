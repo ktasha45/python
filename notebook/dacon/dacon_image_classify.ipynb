{
 "cells": [
  {
   "cell_type": "markdown",
   "metadata": {
    "id": "GRv1ZoIIAk_v"
   },
   "source": [
    "references  \n",
    "https://blog.promedius.ai/pytorch_dataloader_1/  \n",
    "data  \n",
    "https://dacon.io/competitions/official/235874/codeshare/4549?page=1&dtype=recent"
   ]
  },
  {
   "cell_type": "code",
   "execution_count": null,
   "metadata": {
    "id": "QoSeHAXjrI2d"
   },
   "outputs": [],
   "source": [
    "# from google.colab import drive\n",
    "# drive.mount('/gdrive')\n",
    "# !ls -al /gdrive/MyDrive/tmp/image.zip\n",
    "# !cp /gdrive/MyDrive/tmp/image.zip ./\n",
    "# !unzip image.zip"
   ]
  },
  {
   "cell_type": "code",
   "execution_count": 1,
   "metadata": {
    "id": "0uLoaJrgui1i"
   },
   "outputs": [],
   "source": [
    "import os\n",
    "import numpy as np\n",
    "from glob import glob\n",
    "from tqdm import tqdm\n",
    "import matplotlib.pyplot as plt\n",
    "from torch.utils import data\n",
    "from PIL import Image\n",
    "from torchvision import transforms \n",
    "from torchvision.transforms.functional import to_pil_image\n",
    "import matplotlib.pyplot as plt"
   ]
  },
  {
   "cell_type": "code",
   "execution_count": 2,
   "metadata": {
    "colab": {
     "base_uri": "https://localhost:8080/"
    },
    "id": "Pf6K3c_jj3M3",
    "outputId": "55fee2a2-e320-4239-b70c-9fb27a259212"
   },
   "outputs": [
    {
     "name": "stderr",
     "output_type": "stream",
     "text": [
      "100%|███████████████████████████████████████████████████████████| 5000/5000 [00:00<00:00, 2497204.10it/s]\n",
      "100%|███████████████████████████████████████████████████████████| 5000/5000 [00:00<00:00, 2455106.53it/s]\n",
      "100%|███████████████████████████████████████████████████████████| 5000/5000 [00:00<00:00, 5002748.09it/s]\n",
      "100%|███████████████████████████████████████████████████████████| 5000/5000 [00:00<00:00, 2553765.22it/s]\n",
      "100%|███████████████████████████████████████████████████████████| 5000/5000 [00:00<00:00, 2500181.21it/s]\n",
      "100%|███████████████████████████████████████████████████████████| 5000/5000 [00:00<00:00, 2501374.05it/s]\n",
      "100%|███████████████████████████████████████████████████████████| 5000/5000 [00:00<00:00, 2445943.55it/s]\n",
      "100%|███████████████████████████████████████████████████████████| 5000/5000 [00:00<00:00, 3939053.34it/s]\n",
      "100%|███████████████████████████████████████████████████████████| 5000/5000 [00:00<00:00, 4996788.18it/s]\n",
      "100%|███████████████████████████████████████████████████████████| 5000/5000 [00:00<00:00, 2503165.43it/s]\n"
     ]
    }
   ],
   "source": [
    "def make_file_list(path):\n",
    "  file_list = list()\n",
    "  label_list = list()\n",
    "  label_dic = {}\n",
    "  path = path\n",
    "  for i, dir in enumerate(glob(path + '*')):\n",
    "    label_dic[dir.split('\\\\')[4]] = i\n",
    "    for file_path in tqdm(sorted(glob(dir + '/*'))):\n",
    "      file_list.append(file_path)\n",
    "      label_list.append(i)\n",
    "  return label_dic, file_list, label_list\n",
    "\n",
    "label_dic, file_list, label_list = make_file_list(path = '..\\\\data\\\\image\\\\train\\\\')"
   ]
  },
  {
   "cell_type": "code",
   "execution_count": 3,
   "metadata": {},
   "outputs": [
    {
     "data": {
      "text/plain": [
       "{'airplane': 0,\n",
       " 'automobile': 1,\n",
       " 'bird': 2,\n",
       " 'cat': 3,\n",
       " 'deer': 4,\n",
       " 'dog': 5,\n",
       " 'frog': 6,\n",
       " 'horse': 7,\n",
       " 'ship': 8,\n",
       " 'truck': 9}"
      ]
     },
     "execution_count": 3,
     "metadata": {},
     "output_type": "execute_result"
    }
   ],
   "source": [
    "label_dic"
   ]
  },
  {
   "cell_type": "code",
   "execution_count": 4,
   "metadata": {
    "colab": {
     "base_uri": "https://localhost:8080/"
    },
    "id": "TlCRh_MjwLPG",
    "outputId": "57f7c372-b860-4a53-c44d-71c637697ed3"
   },
   "outputs": [
    {
     "name": "stdout",
     "output_type": "stream",
     "text": [
      "..\\data\\image\\train\\automobile\\0002.jpg\n",
      "1\n",
      "1\n",
      "{'airplane': 0, 'automobile': 1, 'bird': 2, 'cat': 3, 'deer': 4, 'dog': 5, 'frog': 6, 'horse': 7, 'ship': 8, 'truck': 9}\n"
     ]
    }
   ],
   "source": [
    "print(file_list[5002])\n",
    "print(label_list[5002])\n",
    "print(label_list[5003])\n",
    "print(label_dic)\n",
    "\n",
    "from sklearn.model_selection import train_test_split\n",
    "x_train, x_valid, y_train, y_valid = train_test_split(file_list, label_list, test_size=0.1, shuffle=True, stratify=label_list, random_state=34) # 층화 무작위 추출"
   ]
  },
  {
   "cell_type": "code",
   "execution_count": 5,
   "metadata": {
    "colab": {
     "base_uri": "https://localhost:8080/"
    },
    "id": "A81Y4q0Jri6I",
    "outputId": "1823e6c0-95b9-4d95-9e04-b0a47d91ea7a"
   },
   "outputs": [
    {
     "name": "stdout",
     "output_type": "stream",
     "text": [
      "45000\n",
      "45000\n",
      "5000\n",
      "5000\n"
     ]
    }
   ],
   "source": [
    "print(len(x_train))\n",
    "print(len(y_train))\n",
    "print(len(x_valid))\n",
    "print(len(y_valid))"
   ]
  },
  {
   "cell_type": "code",
   "execution_count": 6,
   "metadata": {
    "colab": {
     "base_uri": "https://localhost:8080/",
     "height": 320
    },
    "id": "lgh887T-sPYR",
    "outputId": "ab248c00-5aae-41f4-d060-06e43868f6c9"
   },
   "outputs": [
    {
     "data": {
      "text/plain": [
       "(array([500., 500., 500., 500., 500., 500., 500., 500., 500., 500.]),\n",
       " array([0. , 0.9, 1.8, 2.7, 3.6, 4.5, 5.4, 6.3, 7.2, 8.1, 9. ]),\n",
       " <BarContainer object of 10 artists>)"
      ]
     },
     "execution_count": 6,
     "metadata": {},
     "output_type": "execute_result"
    },
    {
     "data": {
      "image/png": "[encoded data removed]",
      "text/plain": [
       "<Figure size 432x288 with 1 Axes>"
      ]
     },
     "metadata": {
      "needs_background": "light"
     },
     "output_type": "display_data"
    }
   ],
   "source": [
    "plt.hist(y_valid) # 층화 무작위"
   ]
  },
  {
   "cell_type": "code",
   "execution_count": 7,
   "metadata": {
    "id": "9mc1ohhd3E2P"
   },
   "outputs": [],
   "source": [
    "class ImageTransform():\n",
    "  def __init__(self):\n",
    "    self.data_transform = transforms.Compose([\n",
    "        transforms.ToTensor(),\n",
    "        # transforms.Normalize(mean, std)\n",
    "    ])\n",
    "\n",
    "  def __call__(self, img):\n",
    "    return self.data_transform(img)\n",
    "\n",
    "\n",
    "class Img_Dataset(data.Dataset):\n",
    "  def __init__(self, file_list, transform):\n",
    "    self.file_list = file_list\n",
    "    self.transform = transform\n",
    "\n",
    "  def __len__(self):\n",
    "    return len(self.file_list)\n",
    "\n",
    "  def __getitem__(self, index):\n",
    "    img_path = self.file_list[index] # 데이터셋에서 파일 하나를 특정\n",
    "    img = Image.open(img_path)\n",
    "    img_transformed = self.transform(img)\n",
    "\n",
    "    label = label_dic[img_path.split('\\\\')[4]] # 파일명으로부터 라벨명 추출\n",
    "\n",
    "    return img_transformed, label\n",
    "\n",
    "train_dataset = Img_Dataset(file_list=x_train, transform=ImageTransform())\n",
    "test_dataset = Img_Dataset(file_list=x_valid, transform=ImageTransform())\n",
    "#train_dataset = Img_Dataset(file_list=file_list, transform=transforms.ToTensor())"
   ]
  },
  {
   "cell_type": "code",
   "execution_count": 8,
   "metadata": {
    "colab": {
     "base_uri": "https://localhost:8080/"
    },
    "id": "aoHOlq805GD9",
    "outputId": "2a4422b1-f0f7-4f84-93a0-c2ab9014d80d"
   },
   "outputs": [
    {
     "name": "stdout",
     "output_type": "stream",
     "text": [
      "45000\n",
      "5000\n"
     ]
    }
   ],
   "source": [
    "print(train_dataset.__len__())\n",
    "print(test_dataset.__len__())"
   ]
  },
  {
   "cell_type": "code",
   "execution_count": 9,
   "metadata": {
    "colab": {
     "base_uri": "https://localhost:8080/"
    },
    "id": "KDnMw19B6CQP",
    "outputId": "b41ae689-713d-4c5e-afdd-625efb4ee130"
   },
   "outputs": [
    {
     "name": "stdout",
     "output_type": "stream",
     "text": [
      "tensor([[[0.4980, 0.5804, 0.5804,  ..., 0.2824, 0.2824, 0.2784],\n",
      "         [0.5176, 0.5765, 0.5647,  ..., 0.2824, 0.2784, 0.2745],\n",
      "         [0.5255, 0.5686, 0.5373,  ..., 0.2902, 0.2863, 0.2824],\n",
      "         ...,\n",
      "         [0.6941, 0.7725, 0.6314,  ..., 0.4235, 0.2902, 0.2902],\n",
      "         [0.7059, 0.7843, 0.6157,  ..., 0.5294, 0.3961, 0.3882],\n",
      "         [0.7608, 0.7294, 0.5176,  ..., 0.6118, 0.4902, 0.5176]],\n",
      "\n",
      "        [[0.5725, 0.6588, 0.6667,  ..., 0.4157, 0.4118, 0.4000],\n",
      "         [0.5961, 0.6667, 0.6588,  ..., 0.4157, 0.4078, 0.4039],\n",
      "         [0.6118, 0.6627, 0.6353,  ..., 0.4235, 0.4196, 0.4078],\n",
      "         ...,\n",
      "         [0.6196, 0.6980, 0.5608,  ..., 0.4706, 0.3451, 0.3451],\n",
      "         [0.6118, 0.6941, 0.5333,  ..., 0.5725, 0.4431, 0.4471],\n",
      "         [0.6667, 0.6353, 0.4275,  ..., 0.6549, 0.5373, 0.5647]],\n",
      "\n",
      "        [[0.7020, 0.7882, 0.8118,  ..., 0.5922, 0.5882, 0.5725],\n",
      "         [0.7333, 0.8000, 0.8078,  ..., 0.5961, 0.5843, 0.5804],\n",
      "         [0.7647, 0.8118, 0.7922,  ..., 0.6118, 0.6078, 0.6000],\n",
      "         ...,\n",
      "         [0.6431, 0.7137, 0.5608,  ..., 0.4706, 0.3451, 0.3490],\n",
      "         [0.6627, 0.7333, 0.5529,  ..., 0.5569, 0.4353, 0.4353],\n",
      "         [0.7294, 0.6863, 0.4588,  ..., 0.6392, 0.5216, 0.5490]]])\n",
      "torch.Size([3, 32, 32])\n"
     ]
    }
   ],
   "source": [
    "print(train_dataset.__getitem__(0)[0])\n",
    "print(train_dataset.__getitem__(0)[0].shape)"
   ]
  },
  {
   "cell_type": "code",
   "execution_count": 10,
   "metadata": {
    "colab": {
     "base_uri": "https://localhost:8080/",
     "height": 385
    },
    "id": "vqPB0pCY6FLc",
    "outputId": "635e18d2-064f-40c7-d440-d346f3d1ed27"
   },
   "outputs": [
    {
     "data": {
      "image/png": "[encoded data removed]",
      "text/plain": [
       "<Figure size 1080x432 with 10 Axes>"
      ]
     },
     "metadata": {
      "needs_background": "light"
     },
     "output_type": "display_data"
    }
   ],
   "source": [
    "%matplotlib inline\n",
    "\n",
    "train_dataloader = data.DataLoader(train_dataset, batch_size=128, shuffle=True)\n",
    "test_dataloader = data.DataLoader(test_dataset, batch_size=128)\n",
    "\n",
    "batch_iterator = iter(train_dataloader)\n",
    "images = next(batch_iterator)\n",
    "\n",
    "def get_key(val):\n",
    "  for key, value in label_dic.items():\n",
    "    if val == value:\n",
    "      return key\n",
    "\n",
    "plt.figure(figsize=(15, 6))\n",
    "\n",
    "for i in range(10):\n",
    "  plt.subplot(2,5,i+1)\n",
    "  plt.title(get_key(images[1][i]))\n",
    "  plt.imshow(to_pil_image(images[0][i]))"
   ]
  },
  {
   "cell_type": "code",
   "execution_count": 11,
   "metadata": {
    "colab": {
     "base_uri": "https://localhost:8080/",
     "height": 596
    },
    "id": "K2QpjbLVke3a",
    "outputId": "3e9d223c-d99c-44b7-83ee-7ce8b69f5f21"
   },
   "outputs": [],
   "source": [
    "# %matplotlib inline\n",
    "\n",
    "# print(images[0][0].flatten())\n",
    "# plt.hist(images[0][0].flatten(), bins = 'auto')"
   ]
  },
  {
   "cell_type": "code",
   "execution_count": 12,
   "metadata": {
    "colab": {
     "base_uri": "https://localhost:8080/"
    },
    "id": "XsAmxr5HCMcO",
    "outputId": "b77a2db9-de3c-495e-e85d-1e19530314be"
   },
   "outputs": [
    {
     "name": "stdout",
     "output_type": "stream",
     "text": [
      "Using cpu device\n"
     ]
    }
   ],
   "source": [
    "import torch\n",
    "\n",
    "device = 'cuda' if torch.cuda.is_available() else 'cpu'\n",
    "print(f'Using {device} device')"
   ]
  },
  {
   "cell_type": "code",
   "execution_count": 13,
   "metadata": {
    "id": "RF9-W2ED_-rg"
   },
   "outputs": [],
   "source": [
    "from torch import nn\n",
    "\n",
    "class NeuralNetwork(nn.Module):\n",
    "  def __init__(self):\n",
    "    super(NeuralNetwork, self).__init__()\n",
    "    self.linear_relu_stack = nn.Sequential(\n",
    "      nn.Conv2d(3,32,kernel_size=3,padding=1),\n",
    "      nn.ReLU(),\n",
    "      nn.Conv2d(32,64,kernel_size=3,stride=1,padding=1),\n",
    "      nn.ReLU(),\n",
    "      nn.MaxPool2d(2,2),\n",
    "\n",
    "      nn.Conv2d(64,128,kernel_size=3,stride=1,padding=1),\n",
    "      nn.ReLU(),\n",
    "      nn.Conv2d(128,128,kernel_size=3,stride=1,padding=1),\n",
    "      nn.ReLU(),\n",
    "      nn.MaxPool2d(2,2),\n",
    "\n",
    "      nn.Conv2d(128,256,kernel_size=3,stride=1,padding=1),\n",
    "      nn.ReLU(),\n",
    "      nn.Conv2d(256,512,kernel_size=3,stride=1,padding=1),\n",
    "      nn.ReLU(),\n",
    "      nn.MaxPool2d(2,2),\n",
    "\n",
    "      nn.Conv2d(512,512,kernel_size=3,stride=1,padding=1),\n",
    "      nn.ReLU(),\n",
    "      nn.MaxPool2d(2,2),\n",
    "      \n",
    "      nn.AdaptiveAvgPool2d((1, 1)),\n",
    "      nn.Flatten(),\n",
    "      nn.Linear(512, 1024),\n",
    "      nn.ReLU(),\n",
    "      nn.Linear(1024, 512),\n",
    "      nn.ReLU(),\n",
    "      nn.Dropout(0.7),\n",
    "      nn.Linear(512, 10)\n",
    "    )\n",
    "\n",
    "  def forward(self, x):\n",
    "    logits = self.linear_relu_stack(x)\n",
    "    return logits"
   ]
  },
  {
   "cell_type": "code",
   "execution_count": 14,
   "metadata": {
    "colab": {
     "base_uri": "https://localhost:8080/"
    },
    "id": "V7xXFLQAB4YP",
    "outputId": "77605edb-3b6c-4891-b2cf-e58aa29672f3"
   },
   "outputs": [
    {
     "name": "stdout",
     "output_type": "stream",
     "text": [
      "NeuralNetwork(\n",
      "  (linear_relu_stack): Sequential(\n",
      "    (0): Conv2d(3, 32, kernel_size=(3, 3), stride=(1, 1), padding=(1, 1))\n",
      "    (1): ReLU()\n",
      "    (2): Conv2d(32, 64, kernel_size=(3, 3), stride=(1, 1), padding=(1, 1))\n",
      "    (3): ReLU()\n",
      "    (4): MaxPool2d(kernel_size=2, stride=2, padding=0, dilation=1, ceil_mode=False)\n",
      "    (5): Conv2d(64, 128, kernel_size=(3, 3), stride=(1, 1), padding=(1, 1))\n",
      "    (6): ReLU()\n",
      "    (7): Conv2d(128, 128, kernel_size=(3, 3), stride=(1, 1), padding=(1, 1))\n",
      "    (8): ReLU()\n",
      "    (9): MaxPool2d(kernel_size=2, stride=2, padding=0, dilation=1, ceil_mode=False)\n",
      "    (10): Conv2d(128, 256, kernel_size=(3, 3), stride=(1, 1), padding=(1, 1))\n",
      "    (11): ReLU()\n",
      "    (12): Conv2d(256, 512, kernel_size=(3, 3), stride=(1, 1), padding=(1, 1))\n",
      "    (13): ReLU()\n",
      "    (14): MaxPool2d(kernel_size=2, stride=2, padding=0, dilation=1, ceil_mode=False)\n",
      "    (15): Conv2d(512, 512, kernel_size=(3, 3), stride=(1, 1), padding=(1, 1))\n",
      "    (16): ReLU()\n",
      "    (17): MaxPool2d(kernel_size=2, stride=2, padding=0, dilation=1, ceil_mode=False)\n",
      "    (18): AdaptiveAvgPool2d(output_size=(1, 1))\n",
      "    (19): Flatten(start_dim=1, end_dim=-1)\n",
      "    (20): Linear(in_features=512, out_features=1024, bias=True)\n",
      "    (21): ReLU()\n",
      "    (22): Linear(in_features=1024, out_features=512, bias=True)\n",
      "    (23): ReLU()\n",
      "    (24): Dropout(p=0.7, inplace=False)\n",
      "    (25): Linear(in_features=512, out_features=10, bias=True)\n",
      "  )\n",
      ")\n"
     ]
    }
   ],
   "source": [
    "model = NeuralNetwork().to(device)\n",
    "print(model)"
   ]
  },
  {
   "cell_type": "code",
   "execution_count": 15,
   "metadata": {
    "colab": {
     "base_uri": "https://localhost:8080/"
    },
    "id": "cIDPXaB-Fn7D",
    "outputId": "5f8be37d-f03d-40bf-cd0e-aed1f4448a58"
   },
   "outputs": [
    {
     "name": "stdout",
     "output_type": "stream",
     "text": [
      "Collecting pytorchtools\n",
      "  Downloading pytorchtools-0.0.2-py2.py3-none-any.whl (3.1 kB)\n",
      "Installing collected packages: pytorchtools\n",
      "Successfully installed pytorchtools-0.0.2\n"
     ]
    }
   ],
   "source": [
    "!pip install pytorchtools"
   ]
  },
  {
   "cell_type": "code",
   "execution_count": 16,
   "metadata": {
    "id": "b-J_WLt5Fm63"
   },
   "outputs": [],
   "source": [
    "class EarlyStopping:\n",
    "    \"\"\"주어진 patience 이후로 validation loss가 개선되지 않으면 학습을 조기 중지\"\"\"\n",
    "    def __init__(self, patience=7, verbose=False, delta=0, path='checkpoint.pt'):\n",
    "        \"\"\"\n",
    "        Args:\n",
    "            patience (int): validation loss가 개선된 후 기다리는 기간\n",
    "                            Default: 7\n",
    "            verbose (bool): True일 경우 각 validation loss의 개선 사항 메세지 출력\n",
    "                            Default: False\n",
    "            delta (float): 개선되었다고 인정되는 monitered quantity의 최소 변화\n",
    "                            Default: 0\n",
    "            path (str): checkpoint저장 경로\n",
    "                            Default: 'checkpoint.pt'\n",
    "        \"\"\"\n",
    "        self.patience = patience\n",
    "        self.verbose = verbose\n",
    "        self.counter = 0\n",
    "        self.best_score = None\n",
    "        self.early_stop = False\n",
    "        self.val_loss_min = np.Inf\n",
    "        self.delta = delta\n",
    "        self.path = path\n",
    "\n",
    "    def __call__(self, val_loss, model):\n",
    "\n",
    "        score = -val_loss\n",
    "\n",
    "        if self.best_score is None:\n",
    "            self.best_score = score\n",
    "            self.save_checkpoint(val_loss, model)\n",
    "        elif score < self.best_score + self.delta:\n",
    "            self.counter += 1\n",
    "            print(f'EarlyStopping counter: {self.counter} out of {self.patience}')\n",
    "            if self.counter >= self.patience:\n",
    "                self.early_stop = True\n",
    "        else:\n",
    "            self.best_score = score\n",
    "            self.save_checkpoint(val_loss, model)\n",
    "            self.counter = 0\n",
    "\n",
    "    def save_checkpoint(self, val_loss, model):\n",
    "        '''validation loss가 감소하면 모델을 저장한다.'''\n",
    "        if self.verbose:\n",
    "            print(f'Validation loss decreased ({self.val_loss_min:.6f} --> {val_loss:.6f}).  Saving model ...')\n",
    "        torch.save(model.state_dict(), self.path)\n",
    "        self.val_loss_min = val_loss\n"
   ]
  },
  {
   "cell_type": "code",
   "execution_count": null,
   "metadata": {
    "colab": {
     "base_uri": "https://localhost:8080/"
    },
    "id": "YMjMcLUeCh73",
    "outputId": "f86b859e-ab58-4aba-db4e-e73e4cb4a38b"
   },
   "outputs": [],
   "source": [
    "# def test_loop(dataloader, model, loss_fn):\n",
    "#   size = len(dataloader.dataset)\n",
    "#   num_batches = len(dataloader)\n",
    "#   test_loss, correct = 0, 0\n",
    "\n",
    "#   with torch.no_grad():\n",
    "#     for X, y in dataloader:\n",
    "#       X = X.to(device)\n",
    "#       y = y.to(device)\n",
    "#       pred = model(X)\n",
    "#       test_loss += loss_fn(pred, y).item()\n",
    "#       correct += (pred.argmax(1) == y).type(torch.float).sum().item()\n",
    "\n",
    "#   test_loss /= num_batches\n",
    "#   correct /= size\n",
    "#   print(f\"Test Error: \\n Accuracy: {(100*correct):>0.1f}%, Avg loss: {test_loss:>8f} \\n\")\n",
    "\n",
    "\n",
    "def train_loop(model, patience, loss_fn, optimizer, n_epochs):\n",
    "  train_losses = []\n",
    "  valid_losses = []\n",
    "  avg_train_losses = []\n",
    "  avg_valid_losses = []\n",
    "\n",
    "  early_stopping = EarlyStopping(patience = patience, verbose = True)\n",
    "\n",
    "  for epoch in range(1, n_epochs + 1):\n",
    "    model.train()\n",
    "    for batch, (X, y) in enumerate(train_dataloader):\n",
    "      X = X.to(device)\n",
    "      y = y.to(device)\n",
    "\n",
    "      # Compute prediction and loss\n",
    "      pred = model(X)\n",
    "      loss = loss_fn(pred, y)\n",
    "\n",
    "      # Backpropagation\n",
    "      optimizer.zero_grad()\n",
    "      loss.backward()\n",
    "      optimizer.step()\n",
    "\n",
    "      train_losses.append(loss.item())\n",
    "\n",
    "    model.eval()\n",
    "    for data, target in test_dataloader:\n",
    "      data = data.to(device)\n",
    "      target = target.to(device)\n",
    "\n",
    "      output = model(data)\n",
    "      loss = loss_fn(output, target)\n",
    "      # record validation loss\n",
    "      valid_losses.append(loss.item())\n",
    "\n",
    "    train_loss = np.average(train_losses)\n",
    "    valid_loss = np.average(valid_losses)\n",
    "    avg_train_losses.append(train_loss)\n",
    "    avg_valid_losses.append(valid_loss)\n",
    "\n",
    "    epoch_len = len(str(n_epochs))\n",
    "\n",
    "    print_msg = (f'[{epoch:>{epoch_len}}/{n_epochs:>{epoch_len}}] ' +\n",
    "                  f'train_loss: {train_loss:.5f} ' +\n",
    "                  f'valid_loss: {valid_loss:.5f}')\n",
    "    \n",
    "    print(print_msg)\n",
    "\n",
    "    train_losses = []\n",
    "    valid_losses = []\n",
    "\n",
    "    early_stopping(valid_loss, model)\n",
    "\n",
    "    if early_stopping.early_stop:\n",
    "        print(\"Early stopping\")\n",
    "        break\n",
    "\n",
    "  model.load_state_dict(torch.load('checkpoint.pt'))\n",
    "  return  model, avg_train_losses, avg_valid_losses\n",
    "\n",
    "learning_rate = 0.001\n",
    "batch_size = 128\n",
    "epochs = 100\n",
    "loss_fn = nn.CrossEntropyLoss().to(device)\n",
    "optimizer = torch.optim.Adam(model.parameters(), lr=learning_rate)\n",
    "patience = 20\n",
    "n_epochs = 100\n",
    "\n",
    "model, train_loss, valid_loss = train_loop(model, patience, loss_fn, optimizer, n_epochs)\n",
    "\n",
    "# for t in range(epochs):\n",
    "#     print(f\"Epoch {t+1}\\n-------------------------------\")\n",
    "#     train_loop(train_dataloader, model, loss_fn, optimizer)\n",
    "#     test_loop(test_dataloader, model, loss_fn)\n",
    "# print(\"Done!\")"
   ]
  },
  {
   "cell_type": "code",
   "execution_count": null,
   "metadata": {
    "colab": {
     "base_uri": "https://localhost:8080/",
     "height": 584
    },
    "id": "9HYu8vcT9dfy",
    "outputId": "374b34c9-0fa4-4807-dd66-ba1346c6a3b1"
   },
   "outputs": [],
   "source": [
    "# 훈련이 진행되는 과정에 따라 loss를 시각화\n",
    "fig = plt.figure(figsize=(10,8))\n",
    "plt.plot(range(1,len(train_loss)+1),train_loss, label='Training Loss')\n",
    "plt.plot(range(1,len(valid_loss)+1),valid_loss,label='Validation Loss')\n",
    "\n",
    "# validation loss의 최저값 지점을 찾기\n",
    "minposs = valid_loss.index(min(valid_loss))+1\n",
    "plt.axvline(minposs, linestyle='--', color='r',label='Early Stopping Checkpoint')\n",
    "\n",
    "plt.xlabel('epochs')\n",
    "plt.ylabel('loss')\n",
    "plt.grid(True)\n",
    "plt.legend()\n",
    "plt.tight_layout()\n",
    "plt.show()\n",
    "fig.savefig('loss_plot.png', bbox_inches = 'tight')"
   ]
  },
  {
   "cell_type": "code",
   "execution_count": null,
   "metadata": {
    "colab": {
     "base_uri": "https://localhost:8080/"
    },
    "id": "ryi711BbQEZm",
    "outputId": "b84c86db-f2e0-4d52-9632-91d5cc0000c3"
   },
   "outputs": [
    {
     "name": "stdout",
     "output_type": "stream",
     "text": [
      "Test Error: \n",
      " Accuracy: 74.2%, Avg loss: 0.769404 \n",
      "\n"
     ]
    }
   ],
   "source": [
    "def test_loop(dataloader, model, loss_fn):\n",
    "  size = len(dataloader.dataset)\n",
    "  num_batches = len(dataloader)\n",
    "  test_loss, correct = 0, 0\n",
    "\n",
    "  with torch.no_grad():\n",
    "    for X, y in dataloader:\n",
    "      X = X.to(device)\n",
    "      y = y.to(device)\n",
    "      pred = model(X)\n",
    "      test_loss += loss_fn(pred, y).item()\n",
    "      correct += (pred.argmax(1) == y).type(torch.float).sum().item()\n",
    "\n",
    "  test_loss /= num_batches\n",
    "  correct /= size\n",
    "  print(f\"Test Error: \\n Accuracy: {(100*correct):>0.1f}%, Avg loss: {test_loss:>8f} \\n\")\n",
    "\n",
    "test_loop(test_dataloader, model, loss_fn)"
   ]
  },
  {
   "cell_type": "code",
   "execution_count": null,
   "metadata": {
    "id": "jg67ettCQYUl"
   },
   "outputs": [],
   "source": []
  }
 ],
 "metadata": {
  "accelerator": "GPU",
  "colab": {
   "collapsed_sections": [],
   "name": "pytorch dataloader practice.ipynb",
   "provenance": []
  },
  "kernelspec": {
   "display_name": "Python 3 (ipykernel)",
   "language": "python",
   "name": "python3"
  },
  "language_info": {
   "codemirror_mode": {
    "name": "ipython",
    "version": 3
   },
   "file_extension": ".py",
   "mimetype": "text/x-python",
   "name": "python",
   "nbconvert_exporter": "python",
   "pygments_lexer": "ipython3",
   "version": "3.9.7"
  }
 },
 "nbformat": 4,
 "nbformat_minor": 1
}
