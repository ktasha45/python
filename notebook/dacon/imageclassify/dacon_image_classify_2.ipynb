{
  "cells": [
    {
      "cell_type": "markdown",
      "metadata": {
        "id": "view-in-github",
        "colab_type": "text"
      },
      "source": [
        "<a href=\"https://colab.research.google.com/github/ktasha45/python/blob/master/notebook/dacon/imageclassify/dacon_image_classify_2.ipynb\" target=\"_parent\"><img src=\"https://colab.research.google.com/assets/colab-badge.svg\" alt=\"Open In Colab\"/></a>"
      ]
    },
    {
      "cell_type": "markdown",
      "metadata": {
        "id": "GRv1ZoIIAk_v"
      },
      "source": [
        "references  \n",
        "https://blog.promedius.ai/pytorch_dataloader_1/  \n",
        "data  \n",
        "https://dacon.io/competitions/official/235874/codeshare/4549?page=1&dtype=recent"
      ]
    },
    {
      "cell_type": "markdown",
      "source": [
        "# unzip, import"
      ],
      "metadata": {
        "id": "cxE6dC1YWnxT"
      }
    },
    {
      "cell_type": "code",
      "execution_count": null,
      "metadata": {
        "id": "QoSeHAXjrI2d"
      },
      "outputs": [],
      "source": [
        "from google.colab import drive\n",
        "drive.mount('/gdrive')\n",
        "!ls -al /gdrive/MyDrive/tmp/image.zip\n",
        "!cp /gdrive/MyDrive/tmp/image.zip ./\n",
        "!unzip image.zip"
      ]
    },
    {
      "cell_type": "code",
      "execution_count": 18,
      "metadata": {
        "id": "0uLoaJrgui1i"
      },
      "outputs": [],
      "source": [
        "import os\n",
        "import numpy as np\n",
        "from glob import glob\n",
        "from tqdm import tqdm\n",
        "import matplotlib.pyplot as plt\n",
        "from torch.utils import data\n",
        "from PIL import Image\n",
        "from torchvision import transforms \n",
        "from torchvision.transforms.functional import to_pil_image\n",
        "import matplotlib.pyplot as plt\n",
        "import time"
      ]
    },
    {
      "cell_type": "markdown",
      "source": [
        "# data loading, data split(stratify)"
      ],
      "metadata": {
        "id": "k1ubq6sQWtPC"
      }
    },
    {
      "cell_type": "code",
      "execution_count": 3,
      "metadata": {
        "colab": {
          "base_uri": "https://localhost:8080/"
        },
        "id": "Pf6K3c_jj3M3",
        "outputId": "415693a4-2f7f-45fa-b671-7e36a26e64e1"
      },
      "outputs": [
        {
          "output_type": "stream",
          "name": "stderr",
          "text": [
            "100%|██████████| 5000/5000 [00:00<00:00, 953250.91it/s]\n",
            "100%|██████████| 5000/5000 [00:00<00:00, 1723356.07it/s]\n",
            "100%|██████████| 5000/5000 [00:00<00:00, 1112134.49it/s]\n",
            "100%|██████████| 5000/5000 [00:00<00:00, 1018282.11it/s]\n",
            "100%|██████████| 5000/5000 [00:00<00:00, 636522.90it/s]\n",
            "100%|██████████| 5000/5000 [00:00<00:00, 995845.96it/s]\n",
            "100%|██████████| 5000/5000 [00:00<00:00, 1437685.61it/s]\n",
            "100%|██████████| 5000/5000 [00:00<00:00, 1751567.69it/s]\n",
            "100%|██████████| 5000/5000 [00:00<00:00, 713754.00it/s]\n",
            "100%|██████████| 5000/5000 [00:00<00:00, 2187952.01it/s]\n"
          ]
        }
      ],
      "source": [
        "def make_file_list(path):\n",
        "  file_list = list()\n",
        "  label_list = list()\n",
        "  label_dic = {}\n",
        "  path = path\n",
        "  for i, dir in enumerate(glob(path + '*')):\n",
        "    label_dic[dir.split('/')[2]] = i\n",
        "    for file_path in tqdm(sorted(glob(dir + '/*'))):\n",
        "      file_list.append(file_path)\n",
        "      label_list.append(i)\n",
        "  return label_dic, file_list, label_list\n",
        "\n",
        "label_dic, file_list, label_list = make_file_list(path = './train/')"
      ]
    },
    {
      "cell_type": "code",
      "execution_count": 4,
      "metadata": {
        "colab": {
          "base_uri": "https://localhost:8080/"
        },
        "id": "TlCRh_MjwLPG",
        "outputId": "c9cacdc1-7d31-491a-ce73-b86e0fc8f0ac"
      },
      "outputs": [
        {
          "output_type": "stream",
          "name": "stdout",
          "text": [
            "./train/automobile/0002.jpg\n",
            "1\n",
            "1\n",
            "{'cat': 0, 'automobile': 1, 'airplane': 2, 'ship': 3, 'dog': 4, 'deer': 5, 'frog': 6, 'bird': 7, 'truck': 8, 'horse': 9}\n"
          ]
        }
      ],
      "source": [
        "print(file_list[5002])\n",
        "print(label_list[5002])\n",
        "print(label_list[5003])\n",
        "print(label_dic)\n",
        "\n",
        "from sklearn.model_selection import train_test_split\n",
        "x_train, x_valid, y_train, y_valid = train_test_split(file_list, label_list, test_size=0.1, shuffle=True, stratify=label_list, random_state=34) # 층화 무작위 추출"
      ]
    },
    {
      "cell_type": "code",
      "execution_count": 5,
      "metadata": {
        "colab": {
          "base_uri": "https://localhost:8080/"
        },
        "id": "A81Y4q0Jri6I",
        "outputId": "0d70fd44-a619-4a4c-b2ca-e6ba467f1ef6"
      },
      "outputs": [
        {
          "output_type": "stream",
          "name": "stdout",
          "text": [
            "45000\n",
            "45000\n",
            "5000\n",
            "5000\n"
          ]
        }
      ],
      "source": [
        "print(len(x_train))\n",
        "print(len(y_train))\n",
        "print(len(x_valid))\n",
        "print(len(y_valid))"
      ]
    },
    {
      "cell_type": "code",
      "execution_count": 6,
      "metadata": {
        "colab": {
          "base_uri": "https://localhost:8080/",
          "height": 320
        },
        "id": "lgh887T-sPYR",
        "outputId": "9db66a2f-501a-46df-ce6f-04588b7484f7"
      },
      "outputs": [
        {
          "output_type": "execute_result",
          "data": {
            "text/plain": [
              "(array([500., 500., 500., 500., 500., 500., 500., 500., 500., 500.]),\n",
              " array([0. , 0.9, 1.8, 2.7, 3.6, 4.5, 5.4, 6.3, 7.2, 8.1, 9. ]),\n",
              " <a list of 10 Patch objects>)"
            ]
          },
          "metadata": {},
          "execution_count": 6
        },
        {
          "output_type": "display_data",
          "data": {
            "image/png": "[encoded data removed]",
            "text/plain": [
              "<Figure size 432x288 with 1 Axes>"
            ]
          },
          "metadata": {
            "needs_background": "light"
          }
        }
      ],
      "source": [
        "plt.hist(y_valid) # 층화 무작위"
      ]
    },
    {
      "cell_type": "markdown",
      "source": [
        "# define dataset, dataloader"
      ],
      "metadata": {
        "id": "CpAr1zlWW5co"
      }
    },
    {
      "cell_type": "code",
      "execution_count": 7,
      "metadata": {
        "id": "9mc1ohhd3E2P"
      },
      "outputs": [],
      "source": [
        "class ImageTransform():\n",
        "  def __init__(self):\n",
        "    self.data_transform = transforms.Compose([\n",
        "        transforms.ToTensor(),\n",
        "        # transforms.Normalize(mean, std)\n",
        "    ])\n",
        "\n",
        "  def __call__(self, img):\n",
        "    return self.data_transform(img)\n",
        "\n",
        "\n",
        "class Img_Dataset(data.Dataset):\n",
        "  def __init__(self, file_list, transform):\n",
        "    self.file_list = file_list\n",
        "    self.transform = transform\n",
        "\n",
        "  def __len__(self):\n",
        "    return len(self.file_list)\n",
        "\n",
        "  def __getitem__(self, index):\n",
        "    img_path = self.file_list[index] # 데이터셋에서 파일 하나를 특정\n",
        "    img = Image.open(img_path)\n",
        "    img_transformed = self.transform(img)\n",
        "\n",
        "    label = label_dic[img_path.split('/')[2]] # 파일명으로부터 라벨명 추출\n",
        "\n",
        "    return img_transformed, label\n",
        "\n",
        "train_dataset = Img_Dataset(file_list=x_train, transform=ImageTransform())\n",
        "test_dataset = Img_Dataset(file_list=x_valid, transform=ImageTransform())\n",
        "#train_dataset = Img_Dataset(file_list=file_list, transform=transforms.ToTensor())"
      ]
    },
    {
      "cell_type": "code",
      "execution_count": 8,
      "metadata": {
        "colab": {
          "base_uri": "https://localhost:8080/"
        },
        "id": "aoHOlq805GD9",
        "outputId": "5db31de7-d200-42ac-a395-f30951bba596"
      },
      "outputs": [
        {
          "output_type": "stream",
          "name": "stdout",
          "text": [
            "45000\n",
            "5000\n"
          ]
        }
      ],
      "source": [
        "print(train_dataset.__len__())\n",
        "print(test_dataset.__len__())"
      ]
    },
    {
      "cell_type": "code",
      "execution_count": 9,
      "metadata": {
        "colab": {
          "base_uri": "https://localhost:8080/"
        },
        "id": "KDnMw19B6CQP",
        "outputId": "ffbba116-ceea-46ea-a589-5e4152237675"
      },
      "outputs": [
        {
          "output_type": "stream",
          "name": "stdout",
          "text": [
            "tensor([[[0.0235, 0.0471, 0.0745,  ..., 0.0941, 0.0902, 0.1059],\n",
            "         [0.0784, 0.0667, 0.0667,  ..., 0.1294, 0.1137, 0.1137],\n",
            "         [0.0745, 0.0510, 0.0667,  ..., 0.1020, 0.1059, 0.1176],\n",
            "         ...,\n",
            "         [0.1490, 0.1176, 0.0980,  ..., 0.4275, 0.4118, 0.4000],\n",
            "         [0.1804, 0.1490, 0.1294,  ..., 0.4431, 0.4314, 0.4275],\n",
            "         [0.1843, 0.1608, 0.1608,  ..., 0.4275, 0.4196, 0.4196]],\n",
            "\n",
            "        [[0.0471, 0.0627, 0.0824,  ..., 0.0784, 0.0667, 0.0824],\n",
            "         [0.1020, 0.0824, 0.0745,  ..., 0.1137, 0.0902, 0.0902],\n",
            "         [0.0980, 0.0745, 0.0863,  ..., 0.0863, 0.0824, 0.0941],\n",
            "         ...,\n",
            "         [0.1843, 0.1529, 0.1333,  ..., 0.4549, 0.4392, 0.4314],\n",
            "         [0.2078, 0.1765, 0.1569,  ..., 0.4745, 0.4667, 0.4627],\n",
            "         [0.2157, 0.1922, 0.1922,  ..., 0.4588, 0.4549, 0.4549]],\n",
            "\n",
            "        [[0.0392, 0.0588, 0.0706,  ..., 0.0667, 0.0667, 0.0824],\n",
            "         [0.0941, 0.0784, 0.0627,  ..., 0.1020, 0.0902, 0.0902],\n",
            "         [0.0824, 0.0588, 0.0706,  ..., 0.0824, 0.0824, 0.0941],\n",
            "         ...,\n",
            "         [0.0706, 0.0392, 0.0196,  ..., 0.2902, 0.2745, 0.2706],\n",
            "         [0.0745, 0.0431, 0.0235,  ..., 0.2902, 0.2902, 0.2941],\n",
            "         [0.0627, 0.0392, 0.0392,  ..., 0.2745, 0.2784, 0.2784]]])\n",
            "torch.Size([3, 32, 32])\n"
          ]
        }
      ],
      "source": [
        "print(train_dataset.__getitem__(0)[0])\n",
        "print(train_dataset.__getitem__(0)[0].shape)"
      ]
    },
    {
      "cell_type": "markdown",
      "source": [
        "# data visualization"
      ],
      "metadata": {
        "id": "FIn4ZvGJW_vg"
      }
    },
    {
      "cell_type": "code",
      "execution_count": 10,
      "metadata": {
        "colab": {
          "base_uri": "https://localhost:8080/",
          "height": 386
        },
        "id": "vqPB0pCY6FLc",
        "outputId": "6067197c-c5db-48b5-f367-45389f64e8bd"
      },
      "outputs": [
        {
          "output_type": "display_data",
          "data": {
            "image/png": "[encoded data removed]",
            "text/plain": [
              "<Figure size 1080x432 with 10 Axes>"
            ]
          },
          "metadata": {
            "needs_background": "light"
          }
        }
      ],
      "source": [
        "%matplotlib inline\n",
        "\n",
        "train_dataloader = data.DataLoader(train_dataset, batch_size=512, shuffle=True)\n",
        "test_dataloader = data.DataLoader(test_dataset, batch_size=512)\n",
        "\n",
        "batch_iterator = iter(train_dataloader)\n",
        "images = next(batch_iterator)\n",
        "\n",
        "def get_key(val):\n",
        "  for key, value in label_dic.items():\n",
        "    if val == value:\n",
        "      return key\n",
        "\n",
        "plt.figure(figsize=(15, 6))\n",
        "\n",
        "for i in range(10):\n",
        "  plt.subplot(2,5,i+1)\n",
        "  plt.title(get_key(images[1][i]))\n",
        "  plt.imshow(to_pil_image(images[0][i]))"
      ]
    },
    {
      "cell_type": "code",
      "execution_count": 11,
      "metadata": {
        "colab": {
          "base_uri": "https://localhost:8080/",
          "height": 595
        },
        "id": "K2QpjbLVke3a",
        "outputId": "44be90eb-7027-455f-eabe-7bc80ecd36d4"
      },
      "outputs": [
        {
          "output_type": "stream",
          "name": "stdout",
          "text": [
            "tensor([0.1647, 0.1569, 0.1059,  ..., 0.5216, 0.4667, 0.4627])\n"
          ]
        },
        {
          "output_type": "execute_result",
          "data": {
            "text/plain": [
              "(array([  7.,   7.,   7.,   4.,  10.,  18.,  22.,  30.,  24.,  24.,  31.,\n",
              "         30.,  36.,  28.,  44.,  31.,  47.,  34.,  43.,  30.,  40.,  30.,\n",
              "         42.,  27.,  42.,  43.,  44.,  49.,  57.,  69.,  77., 121., 121.,\n",
              "        189., 143., 236., 209., 208., 157., 183., 119., 118.,  61.,  65.,\n",
              "         33.,  30.,  19.,  20.,   7.,   6.]),\n",
              " array([0.        , 0.01756863, 0.03513725, 0.05270588, 0.07027451,\n",
              "        0.08784313, 0.10541177, 0.12298039, 0.14054902, 0.15811765,\n",
              "        0.17568627, 0.1932549 , 0.21082354, 0.22839215, 0.24596079,\n",
              "        0.26352942, 0.28109804, 0.29866666, 0.3162353 , 0.33380392,\n",
              "        0.35137254, 0.3689412 , 0.3865098 , 0.40407842, 0.42164707,\n",
              "        0.4392157 , 0.4567843 , 0.47435296, 0.49192157, 0.5094902 ,\n",
              "        0.52705884, 0.5446274 , 0.5621961 , 0.5797647 , 0.5973333 ,\n",
              "        0.61490196, 0.6324706 , 0.6500392 , 0.66760784, 0.6851765 ,\n",
              "        0.7027451 , 0.7203137 , 0.7378824 , 0.75545096, 0.7730196 ,\n",
              "        0.79058826, 0.80815685, 0.8257255 , 0.84329414, 0.86086273,\n",
              "        0.8784314 ], dtype=float32),\n",
              " <a list of 50 Patch objects>)"
            ]
          },
          "metadata": {},
          "execution_count": 11
        },
        {
          "output_type": "display_data",
          "data": {
            "image/png": "[encoded data removed]",
            "text/plain": [
              "<Figure size 432x288 with 1 Axes>"
            ]
          },
          "metadata": {
            "needs_background": "light"
          }
        }
      ],
      "source": [
        "%matplotlib inline\n",
        "\n",
        "print(images[0][0].flatten())\n",
        "plt.hist(images[0][0].flatten(), bins = 50)"
      ]
    },
    {
      "cell_type": "markdown",
      "source": [
        "# define model"
      ],
      "metadata": {
        "id": "nupXuE7fXB4q"
      }
    },
    {
      "cell_type": "code",
      "execution_count": 12,
      "metadata": {
        "colab": {
          "base_uri": "https://localhost:8080/"
        },
        "id": "XsAmxr5HCMcO",
        "outputId": "d5616010-d58c-4b8f-9a74-4c4d581723a3"
      },
      "outputs": [
        {
          "output_type": "stream",
          "name": "stdout",
          "text": [
            "Using cuda device\n"
          ]
        }
      ],
      "source": [
        "import torch\n",
        "\n",
        "device = 'cuda' if torch.cuda.is_available() else 'cpu'\n",
        "print(f'Using {device} device')"
      ]
    },
    {
      "cell_type": "code",
      "execution_count": 13,
      "metadata": {
        "id": "RF9-W2ED_-rg"
      },
      "outputs": [],
      "source": [
        "from torch import nn\n",
        "\n",
        "class NeuralNetwork(nn.Module):\n",
        "  def __init__(self):\n",
        "    super(NeuralNetwork, self).__init__()\n",
        "    self.linear_relu_stack = nn.Sequential(\n",
        "      nn.Conv2d(3,32,kernel_size=2,stride=1,padding=1),\n",
        "      nn.BatchNorm2d(32),\n",
        "      nn.ReLU(),\n",
        "      nn.Conv2d(32,64,kernel_size=2,stride=1,padding=1),\n",
        "      nn.BatchNorm2d(64),\n",
        "      nn.ReLU(),\n",
        "      nn.MaxPool2d(2,2),\n",
        "      nn.Dropout(0.2),\n",
        "\n",
        "      nn.Conv2d(64,128,kernel_size=2,stride=1,padding=1),\n",
        "      nn.BatchNorm2d(128),\n",
        "      nn.ReLU(),\n",
        "      nn.Conv2d(128,128,kernel_size=2,stride=1,padding=1),\n",
        "      nn.BatchNorm2d(128),\n",
        "      nn.ReLU(),\n",
        "      nn.MaxPool2d(2,2),\n",
        "      nn.Dropout(0.2),\n",
        "\n",
        "      nn.Conv2d(128,256,kernel_size=2,stride=1,padding=1),\n",
        "      nn.BatchNorm2d(256),\n",
        "      nn.ReLU(),\n",
        "      nn.Conv2d(256,256,kernel_size=2,stride=1,padding=1),\n",
        "      nn.BatchNorm2d(256),\n",
        "      nn.ReLU(),\n",
        "      nn.MaxPool2d(2,2),\n",
        "      nn.Dropout(0.2),\n",
        "\n",
        "      nn.Conv2d(256,128,kernel_size=2,stride=1,padding=1),\n",
        "      nn.BatchNorm2d(128),\n",
        "      nn.ReLU(),\n",
        "      nn.Conv2d(128,128,kernel_size=2,stride=1,padding=1),\n",
        "      nn.BatchNorm2d(128),\n",
        "      nn.ReLU(),\n",
        "      nn.MaxPool2d(2,2),\n",
        "      nn.Dropout(0.2),\n",
        "      \n",
        "      nn.Conv2d(128,64,kernel_size=2,stride=1,padding=1),\n",
        "      nn.BatchNorm2d(64),\n",
        "      nn.ReLU(),\n",
        "      nn.Conv2d(64,64,kernel_size=2,stride=1,padding=1),\n",
        "      nn.BatchNorm2d(64),\n",
        "      nn.ReLU(),\n",
        "      nn.MaxPool2d(2,2),\n",
        "      nn.Dropout(0.2),\n",
        "\n",
        "      nn.Conv2d(64,64,kernel_size=2,stride=1,padding=1),\n",
        "      nn.BatchNorm2d(64),\n",
        "      nn.ReLU(),\n",
        "      nn.Conv2d(64,64,kernel_size=2,stride=1,padding=1),\n",
        "      nn.BatchNorm2d(64),\n",
        "      nn.ReLU(),\n",
        "      nn.MaxPool2d(2,2),\n",
        "      nn.Dropout(0.2),\n",
        "\n",
        "      nn.AdaptiveAvgPool2d((1, 1)),\n",
        "      nn.Flatten(),\n",
        "      nn.Linear(64, 32),\n",
        "      nn.BatchNorm1d(32),\n",
        "      nn.ReLU(),\n",
        "\n",
        "      nn.Linear(32, 16),\n",
        "      nn.BatchNorm1d(16),\n",
        "      nn.ReLU(),\n",
        "      nn.Dropout(0.5),\n",
        "\n",
        "      nn.Linear(16, 10)\n",
        "    )\n",
        "\n",
        "  def forward(self, x):\n",
        "    logits = self.linear_relu_stack(x)\n",
        "    return logits"
      ]
    },
    {
      "cell_type": "code",
      "execution_count": 14,
      "metadata": {
        "colab": {
          "base_uri": "https://localhost:8080/"
        },
        "id": "V7xXFLQAB4YP",
        "outputId": "a71c824d-f79f-4ee1-9637-77587d8af9ad"
      },
      "outputs": [
        {
          "output_type": "stream",
          "name": "stdout",
          "text": [
            "NeuralNetwork(\n",
            "  (linear_relu_stack): Sequential(\n",
            "    (0): Conv2d(3, 32, kernel_size=(2, 2), stride=(1, 1), padding=(1, 1))\n",
            "    (1): BatchNorm2d(32, eps=1e-05, momentum=0.1, affine=True, track_running_stats=True)\n",
            "    (2): ReLU()\n",
            "    (3): Conv2d(32, 64, kernel_size=(2, 2), stride=(1, 1), padding=(1, 1))\n",
            "    (4): BatchNorm2d(64, eps=1e-05, momentum=0.1, affine=True, track_running_stats=True)\n",
            "    (5): ReLU()\n",
            "    (6): MaxPool2d(kernel_size=2, stride=2, padding=0, dilation=1, ceil_mode=False)\n",
            "    (7): Dropout(p=0.2, inplace=False)\n",
            "    (8): Conv2d(64, 128, kernel_size=(2, 2), stride=(1, 1), padding=(1, 1))\n",
            "    (9): BatchNorm2d(128, eps=1e-05, momentum=0.1, affine=True, track_running_stats=True)\n",
            "    (10): ReLU()\n",
            "    (11): Conv2d(128, 128, kernel_size=(2, 2), stride=(1, 1), padding=(1, 1))\n",
            "    (12): BatchNorm2d(128, eps=1e-05, momentum=0.1, affine=True, track_running_stats=True)\n",
            "    (13): ReLU()\n",
            "    (14): MaxPool2d(kernel_size=2, stride=2, padding=0, dilation=1, ceil_mode=False)\n",
            "    (15): Dropout(p=0.2, inplace=False)\n",
            "    (16): Conv2d(128, 256, kernel_size=(2, 2), stride=(1, 1), padding=(1, 1))\n",
            "    (17): BatchNorm2d(256, eps=1e-05, momentum=0.1, affine=True, track_running_stats=True)\n",
            "    (18): ReLU()\n",
            "    (19): Conv2d(256, 256, kernel_size=(2, 2), stride=(1, 1), padding=(1, 1))\n",
            "    (20): BatchNorm2d(256, eps=1e-05, momentum=0.1, affine=True, track_running_stats=True)\n",
            "    (21): ReLU()\n",
            "    (22): MaxPool2d(kernel_size=2, stride=2, padding=0, dilation=1, ceil_mode=False)\n",
            "    (23): Dropout(p=0.2, inplace=False)\n",
            "    (24): Conv2d(256, 128, kernel_size=(2, 2), stride=(1, 1), padding=(1, 1))\n",
            "    (25): BatchNorm2d(128, eps=1e-05, momentum=0.1, affine=True, track_running_stats=True)\n",
            "    (26): ReLU()\n",
            "    (27): Conv2d(128, 128, kernel_size=(2, 2), stride=(1, 1), padding=(1, 1))\n",
            "    (28): BatchNorm2d(128, eps=1e-05, momentum=0.1, affine=True, track_running_stats=True)\n",
            "    (29): ReLU()\n",
            "    (30): MaxPool2d(kernel_size=2, stride=2, padding=0, dilation=1, ceil_mode=False)\n",
            "    (31): Dropout(p=0.2, inplace=False)\n",
            "    (32): Conv2d(128, 64, kernel_size=(2, 2), stride=(1, 1), padding=(1, 1))\n",
            "    (33): BatchNorm2d(64, eps=1e-05, momentum=0.1, affine=True, track_running_stats=True)\n",
            "    (34): ReLU()\n",
            "    (35): Conv2d(64, 64, kernel_size=(2, 2), stride=(1, 1), padding=(1, 1))\n",
            "    (36): BatchNorm2d(64, eps=1e-05, momentum=0.1, affine=True, track_running_stats=True)\n",
            "    (37): ReLU()\n",
            "    (38): MaxPool2d(kernel_size=2, stride=2, padding=0, dilation=1, ceil_mode=False)\n",
            "    (39): Dropout(p=0.2, inplace=False)\n",
            "    (40): Conv2d(64, 64, kernel_size=(2, 2), stride=(1, 1), padding=(1, 1))\n",
            "    (41): BatchNorm2d(64, eps=1e-05, momentum=0.1, affine=True, track_running_stats=True)\n",
            "    (42): ReLU()\n",
            "    (43): Conv2d(64, 64, kernel_size=(2, 2), stride=(1, 1), padding=(1, 1))\n",
            "    (44): BatchNorm2d(64, eps=1e-05, momentum=0.1, affine=True, track_running_stats=True)\n",
            "    (45): ReLU()\n",
            "    (46): MaxPool2d(kernel_size=2, stride=2, padding=0, dilation=1, ceil_mode=False)\n",
            "    (47): Dropout(p=0.2, inplace=False)\n",
            "    (48): AdaptiveAvgPool2d(output_size=(1, 1))\n",
            "    (49): Flatten(start_dim=1, end_dim=-1)\n",
            "    (50): Linear(in_features=64, out_features=32, bias=True)\n",
            "    (51): BatchNorm1d(32, eps=1e-05, momentum=0.1, affine=True, track_running_stats=True)\n",
            "    (52): ReLU()\n",
            "    (53): Linear(in_features=32, out_features=16, bias=True)\n",
            "    (54): BatchNorm1d(16, eps=1e-05, momentum=0.1, affine=True, track_running_stats=True)\n",
            "    (55): ReLU()\n",
            "    (56): Dropout(p=0.5, inplace=False)\n",
            "    (57): Linear(in_features=16, out_features=10, bias=True)\n",
            "  )\n",
            ")\n"
          ]
        }
      ],
      "source": [
        "model = NeuralNetwork().to(device)\n",
        "print(model)"
      ]
    },
    {
      "cell_type": "markdown",
      "source": [
        "# define earlystopping"
      ],
      "metadata": {
        "id": "wc3_D3aVXENS"
      }
    },
    {
      "cell_type": "code",
      "execution_count": 15,
      "metadata": {
        "id": "b-J_WLt5Fm63"
      },
      "outputs": [],
      "source": [
        "class EarlyStopping:\n",
        "    \"\"\"주어진 patience 이후로 validation loss가 개선되지 않으면 학습을 조기 중지\"\"\"\n",
        "    def __init__(self, patience=7, verbose=False, delta=0, path='checkpoint.pt'):\n",
        "        \"\"\"\n",
        "        Args:\n",
        "            patience (int): validation loss가 개선된 후 기다리는 기간\n",
        "                            Default: 7\n",
        "            verbose (bool): True일 경우 각 validation loss의 개선 사항 메세지 출력\n",
        "                            Default: False\n",
        "            delta (float): 개선되었다고 인정되는 monitered quantity의 최소 변화\n",
        "                            Default: 0\n",
        "            path (str): checkpoint저장 경로\n",
        "                            Default: 'checkpoint.pt'\n",
        "        \"\"\"\n",
        "        self.patience = patience\n",
        "        self.verbose = verbose\n",
        "        self.counter = 0\n",
        "        self.best_score = None\n",
        "        self.early_stop = False\n",
        "        self.val_loss_min = np.Inf\n",
        "        self.delta = delta\n",
        "        self.path = path\n",
        "\n",
        "    def __call__(self, val_loss, model):\n",
        "\n",
        "        score = -val_loss\n",
        "\n",
        "        if self.best_score is None:\n",
        "            self.best_score = score\n",
        "            self.save_checkpoint(val_loss, model)\n",
        "        elif score < self.best_score + self.delta:\n",
        "            self.counter += 1\n",
        "            print(f'EarlyStopping counter: {self.counter} out of {self.patience}')\n",
        "            if self.counter >= self.patience:\n",
        "                self.early_stop = True\n",
        "        else:\n",
        "            self.best_score = score\n",
        "            self.save_checkpoint(val_loss, model)\n",
        "            self.counter = 0\n",
        "\n",
        "    def save_checkpoint(self, val_loss, model):\n",
        "        '''validation loss가 감소하면 모델을 저장한다.'''\n",
        "        if self.verbose:\n",
        "            print(f'Validation loss decreased ({self.val_loss_min:.6f} --> {val_loss:.6f}).  Saving model ...')\n",
        "        torch.save(model.state_dict(), self.path)\n",
        "        self.val_loss_min = val_loss\n"
      ]
    },
    {
      "cell_type": "markdown",
      "source": [
        "# train model"
      ],
      "metadata": {
        "id": "m8BTPTmIXIbj"
      }
    },
    {
      "cell_type": "code",
      "execution_count": 16,
      "metadata": {
        "id": "YMjMcLUeCh73",
        "colab": {
          "base_uri": "https://localhost:8080/"
        },
        "outputId": "72e2fdfa-13a0-491a-911c-b654713b3e48"
      },
      "outputs": [
        {
          "output_type": "stream",
          "name": "stdout",
          "text": [
            "[  1/100] train_loss: 2.17458 valid_loss: 1.96461\n",
            "Validation loss decreased (inf --> 1.964613).  Saving model ...\n",
            "[  2/100] train_loss: 1.84024 valid_loss: 1.61398\n",
            "Validation loss decreased (1.964613 --> 1.613975).  Saving model ...\n",
            "[  3/100] train_loss: 1.66670 valid_loss: 1.44478\n",
            "Validation loss decreased (1.613975 --> 1.444781).  Saving model ...\n",
            "[  4/100] train_loss: 1.52064 valid_loss: 1.33260\n",
            "Validation loss decreased (1.444781 --> 1.332600).  Saving model ...\n",
            "[  5/100] train_loss: 1.41985 valid_loss: 1.16127\n",
            "Validation loss decreased (1.332600 --> 1.161267).  Saving model ...\n",
            "[  6/100] train_loss: 1.34034 valid_loss: 1.08228\n",
            "Validation loss decreased (1.161267 --> 1.082279).  Saving model ...\n",
            "[  7/100] train_loss: 1.25986 valid_loss: 1.08283\n",
            "EarlyStopping counter: 1 out of 20\n",
            "[  8/100] train_loss: 1.21669 valid_loss: 0.95935\n",
            "Validation loss decreased (1.082279 --> 0.959354).  Saving model ...\n",
            "[  9/100] train_loss: 1.16100 valid_loss: 1.06559\n",
            "EarlyStopping counter: 1 out of 20\n",
            "[ 10/100] train_loss: 1.12415 valid_loss: 0.88931\n",
            "Validation loss decreased (0.959354 --> 0.889306).  Saving model ...\n",
            "[ 11/100] train_loss: 1.08923 valid_loss: 0.91629\n",
            "EarlyStopping counter: 1 out of 20\n",
            "[ 12/100] train_loss: 1.04989 valid_loss: 0.81589\n",
            "Validation loss decreased (0.889306 --> 0.815889).  Saving model ...\n",
            "[ 13/100] train_loss: 1.02080 valid_loss: 0.82482\n",
            "EarlyStopping counter: 1 out of 20\n",
            "[ 14/100] train_loss: 0.99297 valid_loss: 0.79848\n",
            "Validation loss decreased (0.815889 --> 0.798479).  Saving model ...\n",
            "[ 15/100] train_loss: 0.96153 valid_loss: 0.77766\n",
            "Validation loss decreased (0.798479 --> 0.777664).  Saving model ...\n",
            "[ 16/100] train_loss: 0.93727 valid_loss: 0.75418\n",
            "Validation loss decreased (0.777664 --> 0.754175).  Saving model ...\n",
            "[ 17/100] train_loss: 0.92199 valid_loss: 0.76029\n",
            "EarlyStopping counter: 1 out of 20\n",
            "[ 18/100] train_loss: 0.89330 valid_loss: 0.87500\n",
            "EarlyStopping counter: 2 out of 20\n",
            "[ 19/100] train_loss: 0.87727 valid_loss: 0.75361\n",
            "Validation loss decreased (0.754175 --> 0.753611).  Saving model ...\n",
            "[ 20/100] train_loss: 0.86407 valid_loss: 0.67494\n",
            "Validation loss decreased (0.753611 --> 0.674940).  Saving model ...\n",
            "[ 21/100] train_loss: 0.84019 valid_loss: 0.72943\n",
            "EarlyStopping counter: 1 out of 20\n",
            "[ 22/100] train_loss: 0.81551 valid_loss: 0.70923\n",
            "EarlyStopping counter: 2 out of 20\n",
            "[ 23/100] train_loss: 0.80227 valid_loss: 0.75938\n",
            "EarlyStopping counter: 3 out of 20\n",
            "[ 24/100] train_loss: 0.77818 valid_loss: 0.68946\n",
            "EarlyStopping counter: 4 out of 20\n",
            "[ 25/100] train_loss: 0.76706 valid_loss: 0.69256\n",
            "EarlyStopping counter: 5 out of 20\n",
            "[ 26/100] train_loss: 0.75222 valid_loss: 0.68217\n",
            "EarlyStopping counter: 6 out of 20\n",
            "[ 27/100] train_loss: 0.74450 valid_loss: 0.71599\n",
            "EarlyStopping counter: 7 out of 20\n",
            "[ 28/100] train_loss: 0.73110 valid_loss: 0.66409\n",
            "Validation loss decreased (0.674940 --> 0.664088).  Saving model ...\n",
            "[ 29/100] train_loss: 0.71845 valid_loss: 0.74502\n",
            "EarlyStopping counter: 1 out of 20\n",
            "[ 30/100] train_loss: 0.70514 valid_loss: 0.71787\n",
            "EarlyStopping counter: 2 out of 20\n",
            "[ 31/100] train_loss: 0.68184 valid_loss: 0.68574\n",
            "EarlyStopping counter: 3 out of 20\n",
            "[ 32/100] train_loss: 0.67149 valid_loss: 0.70723\n",
            "EarlyStopping counter: 4 out of 20\n",
            "[ 33/100] train_loss: 0.65701 valid_loss: 0.85419\n",
            "EarlyStopping counter: 5 out of 20\n",
            "[ 34/100] train_loss: 0.64986 valid_loss: 0.69154\n",
            "EarlyStopping counter: 6 out of 20\n",
            "[ 35/100] train_loss: 0.63995 valid_loss: 0.66946\n",
            "EarlyStopping counter: 7 out of 20\n",
            "[ 36/100] train_loss: 0.62632 valid_loss: 0.72590\n",
            "EarlyStopping counter: 8 out of 20\n",
            "[ 37/100] train_loss: 0.61606 valid_loss: 0.69020\n",
            "EarlyStopping counter: 9 out of 20\n",
            "[ 38/100] train_loss: 0.61108 valid_loss: 0.69522\n",
            "EarlyStopping counter: 10 out of 20\n",
            "[ 39/100] train_loss: 0.61563 valid_loss: 0.78613\n",
            "EarlyStopping counter: 11 out of 20\n",
            "[ 40/100] train_loss: 0.60706 valid_loss: 0.67862\n",
            "EarlyStopping counter: 12 out of 20\n",
            "[ 41/100] train_loss: 0.58210 valid_loss: 0.66252\n",
            "Validation loss decreased (0.664088 --> 0.662525).  Saving model ...\n",
            "[ 42/100] train_loss: 0.57393 valid_loss: 0.75391\n",
            "EarlyStopping counter: 1 out of 20\n",
            "[ 43/100] train_loss: 0.56610 valid_loss: 0.72199\n",
            "EarlyStopping counter: 2 out of 20\n",
            "[ 44/100] train_loss: 0.56124 valid_loss: 0.73686\n",
            "EarlyStopping counter: 3 out of 20\n",
            "[ 45/100] train_loss: 0.54733 valid_loss: 0.69019\n",
            "EarlyStopping counter: 4 out of 20\n",
            "[ 46/100] train_loss: 0.55229 valid_loss: 0.66222\n",
            "Validation loss decreased (0.662525 --> 0.662225).  Saving model ...\n",
            "[ 47/100] train_loss: 0.53406 valid_loss: 0.74409\n",
            "EarlyStopping counter: 1 out of 20\n",
            "[ 48/100] train_loss: 0.54387 valid_loss: 0.74097\n",
            "EarlyStopping counter: 2 out of 20\n",
            "[ 49/100] train_loss: 0.53667 valid_loss: 0.74687\n",
            "EarlyStopping counter: 3 out of 20\n",
            "[ 50/100] train_loss: 0.53796 valid_loss: 0.69257\n",
            "EarlyStopping counter: 4 out of 20\n",
            "[ 51/100] train_loss: 0.52072 valid_loss: 0.72423\n",
            "EarlyStopping counter: 5 out of 20\n",
            "[ 52/100] train_loss: 0.51556 valid_loss: 0.71072\n",
            "EarlyStopping counter: 6 out of 20\n",
            "[ 53/100] train_loss: 0.51128 valid_loss: 0.73010\n",
            "EarlyStopping counter: 7 out of 20\n",
            "[ 54/100] train_loss: 0.51676 valid_loss: 0.74347\n",
            "EarlyStopping counter: 8 out of 20\n",
            "[ 55/100] train_loss: 0.50286 valid_loss: 0.74106\n",
            "EarlyStopping counter: 9 out of 20\n",
            "[ 56/100] train_loss: 0.48330 valid_loss: 0.74796\n",
            "EarlyStopping counter: 10 out of 20\n",
            "[ 57/100] train_loss: 0.49050 valid_loss: 0.85007\n",
            "EarlyStopping counter: 11 out of 20\n",
            "[ 58/100] train_loss: 0.48662 valid_loss: 0.78072\n",
            "EarlyStopping counter: 12 out of 20\n",
            "[ 59/100] train_loss: 0.48517 valid_loss: 0.79304\n",
            "EarlyStopping counter: 13 out of 20\n",
            "[ 60/100] train_loss: 0.48076 valid_loss: 0.75367\n",
            "EarlyStopping counter: 14 out of 20\n",
            "[ 61/100] train_loss: 0.47059 valid_loss: 0.74848\n",
            "EarlyStopping counter: 15 out of 20\n",
            "[ 62/100] train_loss: 0.45734 valid_loss: 0.75215\n",
            "EarlyStopping counter: 16 out of 20\n",
            "[ 63/100] train_loss: 0.46775 valid_loss: 0.71881\n",
            "EarlyStopping counter: 17 out of 20\n",
            "[ 64/100] train_loss: 0.46435 valid_loss: 0.79773\n",
            "EarlyStopping counter: 18 out of 20\n",
            "[ 65/100] train_loss: 0.45269 valid_loss: 0.79284\n",
            "EarlyStopping counter: 19 out of 20\n",
            "[ 66/100] train_loss: 0.45170 valid_loss: 0.89701\n",
            "EarlyStopping counter: 20 out of 20\n",
            "Early stopping\n"
          ]
        }
      ],
      "source": [
        "# def test_loop(dataloader, model, loss_fn):\n",
        "#   size = len(dataloader.dataset)\n",
        "#   num_batches = len(dataloader)\n",
        "#   test_loss, correct = 0, 0\n",
        "\n",
        "#   with torch.no_grad():\n",
        "#     for X, y in dataloader:\n",
        "#       X = X.to(device)\n",
        "#       y = y.to(device)\n",
        "#       pred = model(X)\n",
        "#       test_loss += loss_fn(pred, y).item()\n",
        "#       correct += (pred.argmax(1) == y).type(torch.float).sum().item()\n",
        "\n",
        "#   test_loss /= num_batches\n",
        "#   correct /= size\n",
        "#   print(f\"Test Error: \\n Accuracy: {(100*correct):>0.1f}%, Avg loss: {test_loss:>8f} \\n\")\n",
        "\n",
        "\n",
        "def train_loop(model, patience, loss_fn, optimizer, n_epochs):\n",
        "  train_losses = []\n",
        "  valid_losses = []\n",
        "  avg_train_losses = []\n",
        "  avg_valid_losses = []\n",
        "\n",
        "  early_stopping = EarlyStopping(patience = patience, verbose = True)\n",
        "\n",
        "  for epoch in range(1, n_epochs + 1):\n",
        "    start_time = time.time()\n",
        "    model.train()\n",
        "    for batch, (X, y) in enumerate(train_dataloader):\n",
        "      X = X.to(device)\n",
        "      y = y.to(device)\n",
        "\n",
        "      # Compute prediction and loss\n",
        "      pred = model(X)\n",
        "      loss = loss_fn(pred, y)\n",
        "\n",
        "      # Backpropagation\n",
        "      optimizer.zero_grad()\n",
        "      loss.backward()\n",
        "      optimizer.step()\n",
        "\n",
        "      train_losses.append(loss.item())\n",
        "      print(\"{} - {}\".format(epoch, batch))\n",
        "\n",
        "    model.eval()\n",
        "    for data, target in test_dataloader:\n",
        "      data = data.to(device)\n",
        "      target = target.to(device)\n",
        "\n",
        "      output = model(data)\n",
        "      loss = loss_fn(output, target)\n",
        "      # record validation loss\n",
        "      valid_losses.append(loss.item())\n",
        "\n",
        "    train_loss = np.average(train_losses)\n",
        "    valid_loss = np.average(valid_losses)\n",
        "    avg_train_losses.append(train_loss)\n",
        "    avg_valid_losses.append(valid_loss)\n",
        "\n",
        "    epoch_len = len(str(n_epochs))\n",
        "\n",
        "    print_msg = (f'[{epoch:>{epoch_len}}/{n_epochs:>{epoch_len}}] ' +\n",
        "                  f'train_loss: {train_loss:.5f} ' +\n",
        "                  f'valid_loss: {valid_loss:.5f}')\n",
        "    \n",
        "    print(print_msg)\n",
        "\n",
        "    train_losses = []\n",
        "    valid_losses = []\n",
        "\n",
        "    early_stopping(valid_loss, model)\n",
        "\n",
        "    if early_stopping.early_stop:\n",
        "        print(\"Early stopping\")\n",
        "        break\n",
        "\n",
        "    end_time = time.time()\n",
        "    print('time: %20ds' % (end_time - start_time))\n",
        "\n",
        "  model.load_state_dict(torch.load('checkpoint.pt'))\n",
        "  return  model, avg_train_losses, avg_valid_losses\n",
        "\n",
        "learning_rate = 0.001\n",
        "batch_size = 512\n",
        "epochs = 100\n",
        "loss_fn = nn.CrossEntropyLoss().to(device)\n",
        "optimizer = torch.optim.Adam(model.parameters(), lr=learning_rate)\n",
        "patience = 20\n",
        "n_epochs = 100\n",
        "\n",
        "model, train_loss, valid_loss = train_loop(model, patience, loss_fn, optimizer, n_epochs)\n",
        "\n",
        "# for t in range(epochs):\n",
        "#     print(f\"Epoch {t+1}\\n-------------------------------\")\n",
        "#     train_loop(train_dataloader, model, loss_fn, optimizer)\n",
        "#     test_loop(test_dataloader, model, loss_fn)\n",
        "# print(\"Done!\")"
      ]
    },
    {
      "cell_type": "markdown",
      "source": [
        "# save model, result visualization"
      ],
      "metadata": {
        "id": "0yoKDv2nXMUd"
      }
    },
    {
      "cell_type": "code",
      "execution_count": 17,
      "metadata": {
        "id": "aaRN-Ke0Pjnm"
      },
      "outputs": [],
      "source": [
        "# Save model\n",
        "torch.save(model, 'model.pt')\n",
        "# Load model\n",
        "# model = torch.load('model.pt')"
      ]
    },
    {
      "cell_type": "code",
      "execution_count": 19,
      "metadata": {
        "colab": {
          "base_uri": "https://localhost:8080/",
          "height": 585
        },
        "id": "9HYu8vcT9dfy",
        "outputId": "31374354-bf15-4fef-b646-d3a35ae961c5"
      },
      "outputs": [
        {
          "output_type": "display_data",
          "data": {
            "image/png": "[encoded data removed]",
            "text/plain": [
              "<Figure size 720x576 with 1 Axes>"
            ]
          },
          "metadata": {
            "needs_background": "light"
          }
        }
      ],
      "source": [
        "# 훈련이 진행되는 과정에 따라 loss를 시각화\n",
        "fig = plt.figure(figsize=(10,8))\n",
        "plt.plot(range(1,len(train_loss)+1),train_loss, label='Training Loss')\n",
        "plt.plot(range(1,len(valid_loss)+1),valid_loss,label='Validation Loss')\n",
        "\n",
        "# validation loss의 최저값 지점을 찾기\n",
        "minposs = valid_loss.index(min(valid_loss))+1\n",
        "plt.axvline(minposs, linestyle='--', color='r',label='Early Stopping Checkpoint')\n",
        "\n",
        "plt.xlabel('epochs')\n",
        "plt.ylabel('loss')\n",
        "plt.grid(True)\n",
        "plt.legend()\n",
        "plt.tight_layout()\n",
        "plt.show()\n",
        "fig.savefig('loss_plot.png', bbox_inches = 'tight')"
      ]
    },
    {
      "cell_type": "markdown",
      "source": [
        "# test"
      ],
      "metadata": {
        "id": "6XCPfG8mXUy3"
      }
    },
    {
      "cell_type": "code",
      "execution_count": 20,
      "metadata": {
        "colab": {
          "base_uri": "https://localhost:8080/"
        },
        "id": "ryi711BbQEZm",
        "outputId": "115d5a90-9703-4503-c046-aafa8edce9fe"
      },
      "outputs": [
        {
          "output_type": "stream",
          "name": "stdout",
          "text": [
            "Test Error: \n",
            " Accuracy: 81.8%, Avg loss: 0.662225 \n",
            "\n"
          ]
        }
      ],
      "source": [
        "def test_loop(dataloader, model, loss_fn):\n",
        "  size = len(dataloader.dataset)\n",
        "  num_batches = len(dataloader)\n",
        "  test_loss, correct = 0, 0\n",
        "\n",
        "  with torch.no_grad():\n",
        "    for X, y in dataloader:\n",
        "      X = X.to(device)\n",
        "      y = y.to(device)\n",
        "      pred = model(X)\n",
        "      test_loss += loss_fn(pred, y).item()\n",
        "      correct += (pred.argmax(1) == y).type(torch.float).sum().item()\n",
        "\n",
        "  test_loss /= num_batches\n",
        "  correct /= size\n",
        "  print(f\"Test Error: \\n Accuracy: {(100*correct):>0.1f}%, Avg loss: {test_loss:>8f} \\n\")\n",
        "\n",
        "test_loop(test_dataloader, model, loss_fn)"
      ]
    },
    {
      "cell_type": "markdown",
      "source": [
        "# make submission (but I couldn't submit it)"
      ],
      "metadata": {
        "id": "5Fchw3VkXXJq"
      }
    },
    {
      "cell_type": "code",
      "source": [
        "def make_file_list(path):\n",
        "  file_list = list()\n",
        "  path = path\n",
        "  for file in sorted(glob(path + '*')):\n",
        "    file_list.append(file)\n",
        "  return file_list\n",
        "\n",
        "file_list = make_file_list(path = './test/')"
      ],
      "metadata": {
        "id": "5Uuu6F74R_2M"
      },
      "execution_count": 39,
      "outputs": []
    },
    {
      "cell_type": "code",
      "source": [
        "file_list[1]"
      ],
      "metadata": {
        "colab": {
          "base_uri": "https://localhost:8080/",
          "height": 35
        },
        "id": "_k7elaJXSdPY",
        "outputId": "6bad9933-aaee-4f54-c514-d30be2ca9f9b"
      },
      "execution_count": 40,
      "outputs": [
        {
          "output_type": "execute_result",
          "data": {
            "application/vnd.google.colaboratory.intrinsic+json": {
              "type": "string"
            },
            "text/plain": [
              "'./test/0001.jpg'"
            ]
          },
          "metadata": {},
          "execution_count": 40
        }
      ]
    },
    {
      "cell_type": "code",
      "source": [
        "class test_Dataset(data.Dataset):\n",
        "  def __init__(self, file_list, transform):\n",
        "    self.file_list = file_list\n",
        "    self.transform = transform\n",
        "\n",
        "  def __len__(self):\n",
        "    return len(self.file_list)\n",
        "\n",
        "  def __getitem__(self, index):\n",
        "    img_path = self.file_list[index] # 데이터셋에서 파일 하나를 특정\n",
        "    img = Image.open(img_path)\n",
        "    img_transformed = self.transform(img)\n",
        "\n",
        "    return img_transformed"
      ],
      "metadata": {
        "id": "4djbJdvoS7g6"
      },
      "execution_count": 41,
      "outputs": []
    },
    {
      "cell_type": "code",
      "source": [
        "test_dataset = test_Dataset(file_list=file_list, transform=ImageTransform())\n",
        "test_dataloader = data.DataLoader(test_dataset, batch_size=512)"
      ],
      "metadata": {
        "id": "80Fqv1blSfzc"
      },
      "execution_count": 42,
      "outputs": []
    },
    {
      "cell_type": "code",
      "execution_count": 64,
      "metadata": {
        "id": "jg67ettCQYUl"
      },
      "outputs": [],
      "source": [
        "import pandas as pd\n",
        "\n",
        "sample_submission = pd.read_csv('sample_submission.csv')\n",
        "\n",
        "model.eval()\n",
        "\n",
        "batch_index = 0\n",
        "\n",
        "for i, images in enumerate(test_dataloader):\n",
        "    images = images.to(device)\n",
        "    outputs = model(images)\n",
        "    batch_index = i * batch_size\n",
        "    max_vals, max_indices = torch.max(outputs, 1)\n",
        "    sample_submission.iloc[batch_index:batch_index + batch_size, 1:] = max_indices.long().cpu().numpy()[:,np.newaxis]"
      ]
    },
    {
      "cell_type": "code",
      "source": [
        "sample_submission.head()"
      ],
      "metadata": {
        "colab": {
          "base_uri": "https://localhost:8080/",
          "height": 206
        },
        "id": "1Xpnkeh1Tiyr",
        "outputId": "fe9dc81c-5080-4a62-8178-4ee26ba20af4"
      },
      "execution_count": 65,
      "outputs": [
        {
          "output_type": "execute_result",
          "data": {
            "text/html": [
              "\n",
              "  <div id=\"df-613660e0-b817-40b3-889e-670a01b28563\">\n",
              "    <div class=\"colab-df-container\">\n",
              "      <div>\n",
              "<style scoped>\n",
              "    .dataframe tbody tr th:only-of-type {\n",
              "        vertical-align: middle;\n",
              "    }\n",
              "\n",
              "    .dataframe tbody tr th {\n",
              "        vertical-align: top;\n",
              "    }\n",
              "\n",
              "    .dataframe thead th {\n",
              "        text-align: right;\n",
              "    }\n",
              "</style>\n",
              "<table border=\"1\" class=\"dataframe\">\n",
              "  <thead>\n",
              "    <tr style=\"text-align: right;\">\n",
              "      <th></th>\n",
              "      <th>id</th>\n",
              "      <th>target</th>\n",
              "    </tr>\n",
              "  </thead>\n",
              "  <tbody>\n",
              "    <tr>\n",
              "      <th>0</th>\n",
              "      <td>0000.jpg</td>\n",
              "      <td>9</td>\n",
              "    </tr>\n",
              "    <tr>\n",
              "      <th>1</th>\n",
              "      <td>0001.jpg</td>\n",
              "      <td>2</td>\n",
              "    </tr>\n",
              "    <tr>\n",
              "      <th>2</th>\n",
              "      <td>0002.jpg</td>\n",
              "      <td>8</td>\n",
              "    </tr>\n",
              "    <tr>\n",
              "      <th>3</th>\n",
              "      <td>0003.jpg</td>\n",
              "      <td>9</td>\n",
              "    </tr>\n",
              "    <tr>\n",
              "      <th>4</th>\n",
              "      <td>0004.jpg</td>\n",
              "      <td>2</td>\n",
              "    </tr>\n",
              "  </tbody>\n",
              "</table>\n",
              "</div>\n",
              "      <button class=\"colab-df-convert\" onclick=\"convertToInteractive('df-613660e0-b817-40b3-889e-670a01b28563')\"\n",
              "              title=\"Convert this dataframe to an interactive table.\"\n",
              "              style=\"display:none;\">\n",
              "        \n",
              "  <svg xmlns=\"http://www.w3.org/2000/svg\" height=\"24px\"viewBox=\"0 0 24 24\"\n",
              "       width=\"24px\">\n",
              "    <path d=\"M0 0h24v24H0V0z\" fill=\"none\"/>\n",
              "    <path d=\"M18.56 5.44l.94 2.06.94-2.06 2.06-.94-2.06-.94-.94-2.06-.94 2.06-2.06.94zm-11 1L8.5 8.5l.94-2.06 2.06-.94-2.06-.94L8.5 2.5l-.94 2.06-2.06.94zm10 10l.94 2.06.94-2.06 2.06-.94-2.06-.94-.94-2.06-.94 2.06-2.06.94z\"/><path d=\"M17.41 7.96l-1.37-1.37c-.4-.4-.92-.59-1.43-.59-.52 0-1.04.2-1.43.59L10.3 9.45l-7.72 7.72c-.78.78-.78 2.05 0 2.83L4 21.41c.39.39.9.59 1.41.59.51 0 1.02-.2 1.41-.59l7.78-7.78 2.81-2.81c.8-.78.8-2.07 0-2.86zM5.41 20L4 18.59l7.72-7.72 1.47 1.35L5.41 20z\"/>\n",
              "  </svg>\n",
              "      </button>\n",
              "      \n",
              "  <style>\n",
              "    .colab-df-container {\n",
              "      display:flex;\n",
              "      flex-wrap:wrap;\n",
              "      gap: 12px;\n",
              "    }\n",
              "\n",
              "    .colab-df-convert {\n",
              "      background-color: #E8F0FE;\n",
              "      border: none;\n",
              "      border-radius: 50%;\n",
              "      cursor: pointer;\n",
              "      display: none;\n",
              "      fill: #1967D2;\n",
              "      height: 32px;\n",
              "      padding: 0 0 0 0;\n",
              "      width: 32px;\n",
              "    }\n",
              "\n",
              "    .colab-df-convert:hover {\n",
              "      background-color: #E2EBFA;\n",
              "      box-shadow: 0px 1px 2px rgba(60, 64, 67, 0.3), 0px 1px 3px 1px rgba(60, 64, 67, 0.15);\n",
              "      fill: #174EA6;\n",
              "    }\n",
              "\n",
              "    [theme=dark] .colab-df-convert {\n",
              "      background-color: #3B4455;\n",
              "      fill: #D2E3FC;\n",
              "    }\n",
              "\n",
              "    [theme=dark] .colab-df-convert:hover {\n",
              "      background-color: #434B5C;\n",
              "      box-shadow: 0px 1px 3px 1px rgba(0, 0, 0, 0.15);\n",
              "      filter: drop-shadow(0px 1px 2px rgba(0, 0, 0, 0.3));\n",
              "      fill: #FFFFFF;\n",
              "    }\n",
              "  </style>\n",
              "\n",
              "      <script>\n",
              "        const buttonEl =\n",
              "          document.querySelector('#df-613660e0-b817-40b3-889e-670a01b28563 button.colab-df-convert');\n",
              "        buttonEl.style.display =\n",
              "          google.colab.kernel.accessAllowed ? 'block' : 'none';\n",
              "\n",
              "        async function convertToInteractive(key) {\n",
              "          const element = document.querySelector('#df-613660e0-b817-40b3-889e-670a01b28563');\n",
              "          const dataTable =\n",
              "            await google.colab.kernel.invokeFunction('convertToInteractive',\n",
              "                                                     [key], {});\n",
              "          if (!dataTable) return;\n",
              "\n",
              "          const docLinkHtml = 'Like what you see? Visit the ' +\n",
              "            '<a target=\"_blank\" href=https://colab.research.google.com/notebooks/data_table.ipynb>data table notebook</a>'\n",
              "            + ' to learn more about interactive tables.';\n",
              "          element.innerHTML = '';\n",
              "          dataTable['output_type'] = 'display_data';\n",
              "          await google.colab.output.renderOutput(dataTable, element);\n",
              "          const docLink = document.createElement('div');\n",
              "          docLink.innerHTML = docLinkHtml;\n",
              "          element.appendChild(docLink);\n",
              "        }\n",
              "      </script>\n",
              "    </div>\n",
              "  </div>\n",
              "  "
            ],
            "text/plain": [
              "         id target\n",
              "0  0000.jpg      9\n",
              "1  0001.jpg      2\n",
              "2  0002.jpg      8\n",
              "3  0003.jpg      9\n",
              "4  0004.jpg      2"
            ]
          },
          "metadata": {},
          "execution_count": 65
        }
      ]
    },
    {
      "cell_type": "code",
      "source": [
        "for i in sample_submission.index:\n",
        "  sample_submission['target'][i] = get_key(sample_submission['target'][i])\n",
        "# sample_submission['target'] = get_key(sample_submission['target'])\n",
        "sample_submission.to_csv('dacon_object_1.csv', index=False)"
      ],
      "metadata": {
        "id": "7Ukk4apT-KhH"
      },
      "execution_count": 66,
      "outputs": []
    },
    {
      "cell_type": "code",
      "source": [
        "sample_submission.head()"
      ],
      "metadata": {
        "colab": {
          "base_uri": "https://localhost:8080/",
          "height": 206
        },
        "id": "JukYBYaKSvoR",
        "outputId": "ab0f1f8b-5076-452e-c9f6-be84584e3f04"
      },
      "execution_count": 67,
      "outputs": [
        {
          "output_type": "execute_result",
          "data": {
            "text/html": [
              "\n",
              "  <div id=\"df-36d4cad2-2dbf-4a41-9991-7bc5be0bfcdd\">\n",
              "    <div class=\"colab-df-container\">\n",
              "      <div>\n",
              "<style scoped>\n",
              "    .dataframe tbody tr th:only-of-type {\n",
              "        vertical-align: middle;\n",
              "    }\n",
              "\n",
              "    .dataframe tbody tr th {\n",
              "        vertical-align: top;\n",
              "    }\n",
              "\n",
              "    .dataframe thead th {\n",
              "        text-align: right;\n",
              "    }\n",
              "</style>\n",
              "<table border=\"1\" class=\"dataframe\">\n",
              "  <thead>\n",
              "    <tr style=\"text-align: right;\">\n",
              "      <th></th>\n",
              "      <th>id</th>\n",
              "      <th>target</th>\n",
              "    </tr>\n",
              "  </thead>\n",
              "  <tbody>\n",
              "    <tr>\n",
              "      <th>0</th>\n",
              "      <td>0000.jpg</td>\n",
              "      <td>horse</td>\n",
              "    </tr>\n",
              "    <tr>\n",
              "      <th>1</th>\n",
              "      <td>0001.jpg</td>\n",
              "      <td>airplane</td>\n",
              "    </tr>\n",
              "    <tr>\n",
              "      <th>2</th>\n",
              "      <td>0002.jpg</td>\n",
              "      <td>truck</td>\n",
              "    </tr>\n",
              "    <tr>\n",
              "      <th>3</th>\n",
              "      <td>0003.jpg</td>\n",
              "      <td>horse</td>\n",
              "    </tr>\n",
              "    <tr>\n",
              "      <th>4</th>\n",
              "      <td>0004.jpg</td>\n",
              "      <td>airplane</td>\n",
              "    </tr>\n",
              "  </tbody>\n",
              "</table>\n",
              "</div>\n",
              "      <button class=\"colab-df-convert\" onclick=\"convertToInteractive('df-36d4cad2-2dbf-4a41-9991-7bc5be0bfcdd')\"\n",
              "              title=\"Convert this dataframe to an interactive table.\"\n",
              "              style=\"display:none;\">\n",
              "        \n",
              "  <svg xmlns=\"http://www.w3.org/2000/svg\" height=\"24px\"viewBox=\"0 0 24 24\"\n",
              "       width=\"24px\">\n",
              "    <path d=\"M0 0h24v24H0V0z\" fill=\"none\"/>\n",
              "    <path d=\"M18.56 5.44l.94 2.06.94-2.06 2.06-.94-2.06-.94-.94-2.06-.94 2.06-2.06.94zm-11 1L8.5 8.5l.94-2.06 2.06-.94-2.06-.94L8.5 2.5l-.94 2.06-2.06.94zm10 10l.94 2.06.94-2.06 2.06-.94-2.06-.94-.94-2.06-.94 2.06-2.06.94z\"/><path d=\"M17.41 7.96l-1.37-1.37c-.4-.4-.92-.59-1.43-.59-.52 0-1.04.2-1.43.59L10.3 9.45l-7.72 7.72c-.78.78-.78 2.05 0 2.83L4 21.41c.39.39.9.59 1.41.59.51 0 1.02-.2 1.41-.59l7.78-7.78 2.81-2.81c.8-.78.8-2.07 0-2.86zM5.41 20L4 18.59l7.72-7.72 1.47 1.35L5.41 20z\"/>\n",
              "  </svg>\n",
              "      </button>\n",
              "      \n",
              "  <style>\n",
              "    .colab-df-container {\n",
              "      display:flex;\n",
              "      flex-wrap:wrap;\n",
              "      gap: 12px;\n",
              "    }\n",
              "\n",
              "    .colab-df-convert {\n",
              "      background-color: #E8F0FE;\n",
              "      border: none;\n",
              "      border-radius: 50%;\n",
              "      cursor: pointer;\n",
              "      display: none;\n",
              "      fill: #1967D2;\n",
              "      height: 32px;\n",
              "      padding: 0 0 0 0;\n",
              "      width: 32px;\n",
              "    }\n",
              "\n",
              "    .colab-df-convert:hover {\n",
              "      background-color: #E2EBFA;\n",
              "      box-shadow: 0px 1px 2px rgba(60, 64, 67, 0.3), 0px 1px 3px 1px rgba(60, 64, 67, 0.15);\n",
              "      fill: #174EA6;\n",
              "    }\n",
              "\n",
              "    [theme=dark] .colab-df-convert {\n",
              "      background-color: #3B4455;\n",
              "      fill: #D2E3FC;\n",
              "    }\n",
              "\n",
              "    [theme=dark] .colab-df-convert:hover {\n",
              "      background-color: #434B5C;\n",
              "      box-shadow: 0px 1px 3px 1px rgba(0, 0, 0, 0.15);\n",
              "      filter: drop-shadow(0px 1px 2px rgba(0, 0, 0, 0.3));\n",
              "      fill: #FFFFFF;\n",
              "    }\n",
              "  </style>\n",
              "\n",
              "      <script>\n",
              "        const buttonEl =\n",
              "          document.querySelector('#df-36d4cad2-2dbf-4a41-9991-7bc5be0bfcdd button.colab-df-convert');\n",
              "        buttonEl.style.display =\n",
              "          google.colab.kernel.accessAllowed ? 'block' : 'none';\n",
              "\n",
              "        async function convertToInteractive(key) {\n",
              "          const element = document.querySelector('#df-36d4cad2-2dbf-4a41-9991-7bc5be0bfcdd');\n",
              "          const dataTable =\n",
              "            await google.colab.kernel.invokeFunction('convertToInteractive',\n",
              "                                                     [key], {});\n",
              "          if (!dataTable) return;\n",
              "\n",
              "          const docLinkHtml = 'Like what you see? Visit the ' +\n",
              "            '<a target=\"_blank\" href=https://colab.research.google.com/notebooks/data_table.ipynb>data table notebook</a>'\n",
              "            + ' to learn more about interactive tables.';\n",
              "          element.innerHTML = '';\n",
              "          dataTable['output_type'] = 'display_data';\n",
              "          await google.colab.output.renderOutput(dataTable, element);\n",
              "          const docLink = document.createElement('div');\n",
              "          docLink.innerHTML = docLinkHtml;\n",
              "          element.appendChild(docLink);\n",
              "        }\n",
              "      </script>\n",
              "    </div>\n",
              "  </div>\n",
              "  "
            ],
            "text/plain": [
              "         id    target\n",
              "0  0000.jpg     horse\n",
              "1  0001.jpg  airplane\n",
              "2  0002.jpg     truck\n",
              "3  0003.jpg     horse\n",
              "4  0004.jpg  airplane"
            ]
          },
          "metadata": {},
          "execution_count": 67
        }
      ]
    }
  ],
  "metadata": {
    "accelerator": "GPU",
    "colab": {
      "collapsed_sections": [],
      "name": "dacon_image_classify.ipynb",
      "provenance": [],
      "include_colab_link": true
    },
    "kernelspec": {
      "display_name": "Python 3 (ipykernel)",
      "language": "python",
      "name": "python3"
    },
    "language_info": {
      "codemirror_mode": {
        "name": "ipython",
        "version": 3
      },
      "file_extension": ".py",
      "mimetype": "text/x-python",
      "name": "python",
      "nbconvert_exporter": "python",
      "pygments_lexer": "ipython3",
      "version": "3.9.7"
    }
  },
  "nbformat": 4,
  "nbformat_minor": 0
}